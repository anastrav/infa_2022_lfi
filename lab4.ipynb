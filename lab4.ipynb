{
 "cells": [
  {
   "cell_type": "markdown",
   "metadata": {},
   "source": [
    "# Библиотека numpy"
   ]
  },
  {
   "cell_type": "markdown",
   "metadata": {},
   "source": [
    "**NumPy** — это библиотека языка Python, добавляющая поддержку больших многомерных массивов и матриц, вместе с большой библиотекой высокоуровневых (и очень быстрых) математических функций для операций с этими массивами."
   ]
  },
  {
   "cell_type": "markdown",
   "metadata": {},
   "source": [
    "Основным объектом NumPy является однородный многомерный массив (в numpy называется numpy.ndarray). Это многомерный массив элементов (обычно чисел), одного типа.\n",
    "\n",
    "Наиболее важные атрибуты объектов ndarray:\n",
    "\n",
    "**ndarray.ndim** - число измерений (чаще их называют \"оси\") массива.\n",
    "\n",
    "**ndarray.shape** - размеры массива, его форма. Это кортеж натуральных чисел, показывающий длину массива по каждой оси. Для матрицы из n строк и m столбов, shape будет (n,m). Число элементов кортежа shape равно ndim.\n",
    "\n",
    "**ndarray.size** - количество элементов массива. Очевидно, равно произведению всех элементов атрибута shape.\n",
    "\n",
    "**ndarray.dtype** - объект, описывающий тип элементов массива. Можно определить dtype, используя стандартные типы данных Python. NumPy здесь предоставляет целый букет возможностей, как встроенных, например: bool_, character, int8, int16, int32, int64, float8, float16, float32, float64, complex64, object_, так и возможность определить собственные типы данных, в том числе и составные.\n",
    "\n",
    "**ndarray.itemsize** - размер каждого элемента массива в байтах."
   ]
  },
  {
   "cell_type": "markdown",
   "metadata": {},
   "source": [
    "# Создание массивов"
   ]
  },
  {
   "cell_type": "markdown",
   "metadata": {},
   "source": [
    "В NumPy существует много способов создать массив. Один из наиболее простых - создать массив из обычных списков или кортежей Python, используя функцию numpy.array() (запомните: array - функция, создающая объект типа ndarray):"
   ]
  },
  {
   "cell_type": "code",
   "execution_count": null,
   "metadata": {},
   "outputs": [],
   "source": [
    "import numpy as np\n",
    "\n",
    "a = np.array([1, 2, 3])\n",
    "a"
   ]
  },
  {
   "cell_type": "code",
   "execution_count": null,
   "metadata": {},
   "outputs": [],
   "source": [
    "type(a)"
   ]
  },
  {
   "cell_type": "markdown",
   "metadata": {},
   "source": [
    "Функция array() трансформирует вложенные последовательности в многомерные массивы. Тип элементов массива зависит от типа элементов исходной последовательности (но можно и переопределить его в момент создания)."
   ]
  },
  {
   "cell_type": "code",
   "execution_count": null,
   "metadata": {},
   "outputs": [],
   "source": [
    "b = np.array([[1.5, 2, 3], [4, 5, 6]])\n",
    "b"
   ]
  },
  {
   "cell_type": "markdown",
   "metadata": {},
   "source": [
    "Можно также переопределить тип в момент создания:"
   ]
  },
  {
   "cell_type": "code",
   "execution_count": null,
   "metadata": {},
   "outputs": [],
   "source": [
    "b = np.array([[1.5, 2, 3], [4, 5, 6]], dtype=np.complex)\n",
    "b"
   ]
  },
  {
   "cell_type": "markdown",
   "metadata": {},
   "source": [
    "Функция array() не единственная функция для создания массивов. Обычно элементы массива вначале неизвестны, а массив, в котором они будут храниться, уже нужен. Поэтому имеется несколько функций для того, чтобы создавать массивы с каким-то исходным содержимым (по умолчанию тип создаваемого массива — float64).\n",
    "\n",
    "Функция zeros() создает массив из нулей, а функция ones() — массив из единиц. Обе функции принимают кортеж с размерами, и аргумент dtype:"
   ]
  },
  {
   "cell_type": "code",
   "execution_count": null,
   "metadata": {},
   "outputs": [],
   "source": [
    "a = np.zeros((3, 5))\n",
    "a"
   ]
  },
  {
   "cell_type": "code",
   "execution_count": null,
   "metadata": {},
   "outputs": [],
   "source": [
    "a = np.ones((2, 2, 2))\n",
    "a"
   ]
  },
  {
   "cell_type": "markdown",
   "metadata": {},
   "source": [
    "Функция eye() создаёт единичную матрицу (двумерный массив)"
   ]
  },
  {
   "cell_type": "code",
   "execution_count": null,
   "metadata": {},
   "outputs": [],
   "source": [
    "a = np.eye(5)\n",
    "a"
   ]
  },
  {
   "cell_type": "markdown",
   "metadata": {},
   "source": [
    "Функция empty() создает массив без его заполнения. Исходное содержимое случайно и зависит от состояния памяти на момент создания массива (то есть от того мусора, что в ней хранится):"
   ]
  },
  {
   "cell_type": "code",
   "execution_count": null,
   "metadata": {},
   "outputs": [],
   "source": [
    "a = np.empty((3, 3))\n",
    "a"
   ]
  },
  {
   "cell_type": "markdown",
   "metadata": {},
   "source": [
    "Для создания последовательностей чисел, в NumPy имеется функция arange(), аналогичная встроенной в Python range(), только вместо списков она возвращает массивы, и принимает не только целые значения:"
   ]
  },
  {
   "cell_type": "code",
   "execution_count": null,
   "metadata": {},
   "outputs": [],
   "source": [
    "a = np.arange(10, 30, 5)\n",
    "a"
   ]
  },
  {
   "cell_type": "code",
   "execution_count": null,
   "metadata": {},
   "outputs": [],
   "source": [
    "a = np.arange(0, 1, 0.1)\n",
    "a"
   ]
  },
  {
   "cell_type": "markdown",
   "metadata": {},
   "source": [
    "Вообще, при использовании arange() с аргументами типа float, сложно быть уверенным в том, сколько элементов будет получено (из-за ограничения точности чисел с плавающей запятой). Поэтому, в таких случаях обычно лучше использовать функцию linspace(), которая вместо шага в качестве одного из аргументов принимает число, равное количеству нужных элементов:"
   ]
  },
  {
   "cell_type": "code",
   "execution_count": null,
   "metadata": {},
   "outputs": [],
   "source": [
    "a = np.linspace(0, 2, 9)  # 9 чисел от 0 до 2 включительно\n",
    "a"
   ]
  },
  {
   "cell_type": "markdown",
   "metadata": {},
   "source": [
    "# Изменение формы массивов"
   ]
  },
  {
   "cell_type": "markdown",
   "metadata": {},
   "source": [
    "Предположим, у нас имеется массив, состоящий из десяти чисел: "
   ]
  },
  {
   "cell_type": "code",
   "execution_count": null,
   "metadata": {},
   "outputs": [],
   "source": [
    "a = np.arange(10)\n",
    "a"
   ]
  },
  {
   "cell_type": "markdown",
   "metadata": {},
   "source": [
    "Для изменения формы этого массива, достаточно указать свойству shape кортеж с новыми размерами, например, так: "
   ]
  },
  {
   "cell_type": "code",
   "execution_count": null,
   "metadata": {},
   "outputs": [],
   "source": [
    "a.shape = 2, 5\n",
    "a"
   ]
  },
  {
   "cell_type": "markdown",
   "metadata": {},
   "source": [
    "В результате изменится представление массива, на которое ссылается переменная a. Если же требуется создать новое представление массива, сохранив прежнее, то следует воспользоваться методом reshape(): "
   ]
  },
  {
   "cell_type": "markdown",
   "metadata": {},
   "source": [
    "b = a.reshape(10)\n",
    "b"
   ]
  },
  {
   "cell_type": "markdown",
   "metadata": {},
   "source": [
    "Cсылки b и a будут использовать одни и те же данные, то есть, изменение массива через b: "
   ]
  },
  {
   "cell_type": "code",
   "execution_count": null,
   "metadata": {},
   "outputs": [],
   "source": [
    "b[0] = -1 # приведет к изменению соответствующего элемента массива a: "
   ]
  },
  {
   "cell_type": "markdown",
   "metadata": {},
   "source": [
    "У свойства shape и метода reshape() размерность должна охватывать все элементы массива. Например, вот такая команда: "
   ]
  },
  {
   "cell_type": "code",
   "execution_count": null,
   "metadata": {},
   "outputs": [],
   "source": [
    "a.shape = 3, 3"
   ]
  },
  {
   "cell_type": "markdown",
   "metadata": {},
   "source": [
    "приведет к ошибке, т.к. размерность 3x3 = 9 элементов, а в массиве 10 элементов. Здесь всегда должно выполняться равенство:\n",
    "\n",
    "n1 x n2 x … x nN = число элементов массива "
   ]
  },
  {
   "cell_type": "markdown",
   "metadata": {},
   "source": [
    "Но допускается делать так: "
   ]
  },
  {
   "cell_type": "code",
   "execution_count": null,
   "metadata": {},
   "outputs": [],
   "source": [
    "a.shape = -1, 2\n",
    "a"
   ]
  },
  {
   "cell_type": "markdown",
   "metadata": {},
   "source": [
    "Отрицательное значение -1 означает автоматическое вычисление размерности по первой оси. По второй берется значение 2. В этом случае получим размерность 5x2.\n",
    "\n",
    "То же самое можно делать и в методе reshape(): "
   ]
  },
  {
   "cell_type": "code",
   "execution_count": 1,
   "metadata": {},
   "outputs": [
    {
     "ename": "NameError",
     "evalue": "name 'b' is not defined",
     "output_type": "error",
     "traceback": [
      "\u001b[0;31m---------------------------------------------------------------------------\u001b[0m",
      "\u001b[0;31mNameError\u001b[0m                                 Traceback (most recent call last)",
      "\u001b[0;32m/tmp/ipykernel_6229/1640565701.py\u001b[0m in \u001b[0;36m<module>\u001b[0;34m\u001b[0m\n\u001b[0;32m----> 1\u001b[0;31m \u001b[0mb\u001b[0m\u001b[0;34m.\u001b[0m\u001b[0mreshape\u001b[0m\u001b[0;34m(\u001b[0m\u001b[0;34m-\u001b[0m\u001b[0;36m1\u001b[0m\u001b[0;34m,\u001b[0m \u001b[0;36m1\u001b[0m\u001b[0;34m)\u001b[0m\u001b[0;34m\u001b[0m\u001b[0;34m\u001b[0m\u001b[0m\n\u001b[0m\u001b[1;32m      2\u001b[0m \u001b[0mprint\u001b[0m\u001b[0;34m(\u001b[0m\u001b[0mb\u001b[0m\u001b[0;34m)\u001b[0m\u001b[0;34m\u001b[0m\u001b[0;34m\u001b[0m\u001b[0m\n\u001b[1;32m      3\u001b[0m \u001b[0mb\u001b[0m\u001b[0;34m.\u001b[0m\u001b[0mreshape\u001b[0m\u001b[0;34m(\u001b[0m\u001b[0;36m1\u001b[0m\u001b[0;34m,\u001b[0m \u001b[0;34m-\u001b[0m\u001b[0;36m1\u001b[0m\u001b[0;34m)\u001b[0m\u001b[0;34m\u001b[0m\u001b[0;34m\u001b[0m\u001b[0m\n\u001b[1;32m      4\u001b[0m \u001b[0mprint\u001b[0m\u001b[0;34m(\u001b[0m\u001b[0mb\u001b[0m\u001b[0;34m)\u001b[0m\u001b[0;34m\u001b[0m\u001b[0;34m\u001b[0m\u001b[0m\n",
      "\u001b[0;31mNameError\u001b[0m: name 'b' is not defined"
     ]
    }
   ],
   "source": [
    "b.reshape(-1, 1)\n",
    "print(b)\n",
    "b.reshape(1, -1)\n",
    "print(b)"
   ]
  },
  {
   "cell_type": "markdown",
   "metadata": {},
   "source": [
    "Используя отрицательный индекс, можно делать и такие преобразования: "
   ]
  },
  {
   "cell_type": "code",
   "execution_count": null,
   "metadata": {},
   "outputs": [],
   "source": [
    "b.reshape(2, -1)\n",
    "print(b)\n",
    "b.reshape(-1, 2)\n",
    "print(b)"
   ]
  },
  {
   "cell_type": "markdown",
   "metadata": {},
   "source": [
    "Если нам требуется многомерный массив преобразовать в обычный одномерный, то можно воспользоваться методом ravel(), который возвращает новое представление, не меняя текущего: "
   ]
  },
  {
   "cell_type": "code",
   "execution_count": null,
   "metadata": {},
   "outputs": [],
   "source": [
    "c = b.ravel() # с ссылается на одномерное представление массива\n",
    "c"
   ]
  },
  {
   "cell_type": "markdown",
   "metadata": {},
   "source": [
    "Если же нам нужно текущий массив преобразовать в одномерный, то это можно сделать так: "
   ]
  },
  {
   "cell_type": "code",
   "execution_count": null,
   "metadata": {},
   "outputs": [],
   "source": [
    "b.shape = -1"
   ]
  },
  {
   "cell_type": "markdown",
   "metadata": {},
   "source": [
    "Помимо свойства shape можно использовать метод resize, который выполняет подобную операцию с текущим массивом. Например: "
   ]
  },
  {
   "cell_type": "code",
   "execution_count": null,
   "metadata": {},
   "outputs": [],
   "source": [
    "a.resize(2, 5) # массив 2x5"
   ]
  },
  {
   "cell_type": "markdown",
   "metadata": {},
   "source": [
    "Но, как мы уже говорили, вот такая строчка приведет к ошибке: "
   ]
  },
  {
   "cell_type": "code",
   "execution_count": null,
   "metadata": {},
   "outputs": [],
   "source": [
    "a.resize(3, 3)  # ошибка: 3x3 != 10"
   ]
  },
  {
   "cell_type": "markdown",
   "metadata": {},
   "source": [
    "# Транспонирование матриц и векторов"
   ]
  },
  {
   "cell_type": "markdown",
   "metadata": {},
   "source": [
    "Очень часто в математических операциях требуется выполнять транспонирование матриц и векторов, то есть, заменять строки на столбцы. Например, если имеется матрица (двумерный массив): "
   ]
  },
  {
   "cell_type": "code",
   "execution_count": null,
   "metadata": {},
   "outputs": [],
   "source": [
    "a = np.array([(1, 2, 3), (1, 4, 9), (1, 8, 27)])\n",
    "a"
   ]
  },
  {
   "cell_type": "markdown",
   "metadata": {},
   "source": [
    "то операция транспонирования может быть реализована так: "
   ]
  },
  {
   "cell_type": "code",
   "execution_count": null,
   "metadata": {},
   "outputs": [],
   "source": [
    "b = a.T\n",
    "b"
   ]
  },
  {
   "cell_type": "markdown",
   "metadata": {},
   "source": [
    "Обратите внимание, мы здесь создаем лишь новое представление тех же самых данных массива a. И изменение элементов в массиве b: "
   ]
  },
  {
   "cell_type": "code",
   "execution_count": null,
   "metadata": {},
   "outputs": [],
   "source": [
    "b[0, 1] = 10"
   ]
  },
  {
   "cell_type": "markdown",
   "metadata": {},
   "source": [
    "приведет к соответствующему изменению значения элемента и массива a. Это следует помнить, используя операцию транспонирования.\n",
    "\n",
    "Транспонирование векторов работает несколько иначе. Предположим, имеется одномерный массив: "
   ]
  },
  {
   "cell_type": "code",
   "execution_count": null,
   "metadata": {},
   "outputs": [],
   "source": [
    "x = np.arange(1, 10)\n",
    "x"
   ]
  },
  {
   "cell_type": "markdown",
   "metadata": {},
   "source": [
    "и мы выполняем операцию транспонирования: "
   ]
  },
  {
   "cell_type": "code",
   "execution_count": null,
   "metadata": {},
   "outputs": [],
   "source": [
    "x.T\n",
    "x"
   ]
  },
  {
   "cell_type": "markdown",
   "metadata": {},
   "source": [
    "В результате ничего не изменилось: вектор как был строкой, так строкой и остался. Почему? Дело в том, что массив x имеет только одну размерность, поэтому здесь нет понятия строк и столбцов. Соответственно, операция транспонирования ни к чему не приводит. Чтобы получить ожидаемый эффект, нужно добавить к массиву еще одну ось, например, так: "
   ]
  },
  {
   "cell_type": "code",
   "execution_count": null,
   "metadata": {},
   "outputs": [],
   "source": [
    "x.shape = 1, -1"
   ]
  },
  {
   "cell_type": "markdown",
   "metadata": {},
   "source": [
    "И теперь, при транспонировании получим вектор-столбец: "
   ]
  },
  {
   "cell_type": "code",
   "execution_count": null,
   "metadata": {},
   "outputs": [],
   "source": [
    "print(x.T)\n",
    "print(x)"
   ]
  },
  {
   "cell_type": "markdown",
   "metadata": {},
   "source": [
    "# Операции с индексами"
   ]
  },
  {
   "cell_type": "markdown",
   "metadata": {},
   "source": [
    "Оперативная память компьютера линейна, и поэтому даже многомерные массивы, на самом деле являются некоторыми линейными структурами, над которыми существуют система индексов, говорящих как именно читать этот линейный блок. Проведение операций над индексами в большистве случаев эффективно и поэтому операции смены размерности массива или транспонирования выполняются быстро"
   ]
  },
  {
   "cell_type": "code",
   "execution_count": 2,
   "metadata": {},
   "outputs": [
    {
     "name": "stdout",
     "output_type": "stream",
     "text": [
      "[[1 3]\n",
      " [2 4]]\n"
     ]
    }
   ],
   "source": [
    "import numpy as np\n",
    "\n",
    "a = np.asarray([[1,2], [3,4]])\n",
    "b = a.T # Транспонированый массив\n",
    "print(b)"
   ]
  },
  {
   "cell_type": "code",
   "execution_count": 3,
   "metadata": {},
   "outputs": [
    {
     "name": "stdout",
     "output_type": "stream",
     "text": [
      "[[10  3]\n",
      " [ 2  4]]\n"
     ]
    }
   ],
   "source": [
    "b[0,0] = 10\n",
    "print(b)"
   ]
  },
  {
   "cell_type": "code",
   "execution_count": 2,
   "metadata": {},
   "outputs": [
    {
     "ename": "NameError",
     "evalue": "name 'a' is not defined",
     "output_type": "error",
     "traceback": [
      "\u001b[0;31m---------------------------------------------------------------------------\u001b[0m",
      "\u001b[0;31mNameError\u001b[0m                                 Traceback (most recent call last)",
      "\u001b[0;32m/tmp/ipykernel_6229/1189138062.py\u001b[0m in \u001b[0;36m<module>\u001b[0;34m\u001b[0m\n\u001b[0;32m----> 1\u001b[0;31m \u001b[0mprint\u001b[0m\u001b[0;34m(\u001b[0m\u001b[0ma\u001b[0m\u001b[0;34m)\u001b[0m\u001b[0;34m\u001b[0m\u001b[0;34m\u001b[0m\u001b[0m\n\u001b[0m",
      "\u001b[0;31mNameError\u001b[0m: name 'a' is not defined"
     ]
    }
   ],
   "source": [
    "print(a)"
   ]
  },
  {
   "cell_type": "code",
   "execution_count": 4,
   "metadata": {},
   "outputs": [
    {
     "data": {
      "text/plain": [
       "array([[11,  3],\n",
       "       [ 2,  4]])"
      ]
     },
     "execution_count": 4,
     "metadata": {},
     "output_type": "execute_result"
    }
   ],
   "source": [
    "b[0][0] = 11\n",
    "b"
   ]
  },
  {
   "cell_type": "markdown",
   "metadata": {},
   "source": [
    "Как мы видим при изменени переменной b изменилась переменная a. Это произошло потому, что обе эти переменные использубют один и тот же кусок памяти, но по разному."
   ]
  },
  {
   "cell_type": "markdown",
   "metadata": {},
   "source": [
    "# Добавление и удаление осей"
   ]
  },
  {
   "cell_type": "markdown",
   "metadata": {},
   "source": [
    "Часто при работе с массивами NumPy требуется добавлять новые оси измерений и удалять существующие. Есть множество способов выполнять эти операции, но мы рассмотрим два наиболее распространенных с помощью функций:\n",
    "\n",
    "    np.expand_dims(a, axis) – добавление новой оси;\n",
    "    np.squeeze(a[, axis]) – удаление оси (без удаления элементов). \n",
    "\n",
    "Давайте предположим, что у нас имеется некий многомерный массив: "
   ]
  },
  {
   "cell_type": "code",
   "execution_count": null,
   "metadata": {},
   "outputs": [],
   "source": [
    "x_test = np.arange(32).reshape(8, 2, 2) # массив 8x2x2"
   ]
  },
  {
   "cell_type": "markdown",
   "metadata": {},
   "source": [
    "И нам потребовалось добавить еще одно измерение (ось), причем, в самое начало, то есть, ось axis0. Сейчас на этой оси 8 элементов – матриц 2x2, но мы хотим сделать четырехмерный массив, сохранив остальные три оси и их данные без изменений. Как раз это достаточно просто сделать с помощью функции expand_dims, следующим образом: "
   ]
  },
  {
   "cell_type": "code",
   "execution_count": null,
   "metadata": {},
   "outputs": [],
   "source": [
    "x_test4 = np.expand_dims(x_test, axis=0)"
   ]
  },
  {
   "cell_type": "markdown",
   "metadata": {},
   "source": [
    "Обращаясь к свойству shape: "
   ]
  },
  {
   "cell_type": "markdown",
   "metadata": {},
   "source": [
    "x_test4.shape"
   ]
  },
  {
   "cell_type": "markdown",
   "metadata": {},
   "source": [
    "Видим, что массив стал четырехмерным и первая добавленная ось axis0 содержит один элемент – трехмерный массив 8x2x2. При необходимости, мы всегда можем добавить новый элемент на эту ось: "
   ]
  },
  {
   "cell_type": "code",
   "execution_count": null,
   "metadata": {},
   "outputs": [],
   "source": [
    "a = np.append(x_test4, x_test4, axis=0) # размерность (2, 8, 2, 2)\n",
    "a"
   ]
  },
  {
   "cell_type": "markdown",
   "metadata": {},
   "source": [
    "или удалить ненужные элементы: "
   ]
  },
  {
   "cell_type": "code",
   "execution_count": null,
   "metadata": {},
   "outputs": [],
   "source": [
    "b = np.delete(a, 0, axis=0) # размерность (1, 8, 2, 2)\n",
    "b"
   ]
  },
  {
   "cell_type": "markdown",
   "metadata": {},
   "source": [
    "Здесь второй параметр 0 – индекс удаляемого элемента на оси axis0.\n",
    "\n",
    "Если нам нужно добавить последнюю ось в массиве, то для этого можно записать такую команду: "
   ]
  },
  {
   "cell_type": "code",
   "execution_count": null,
   "metadata": {},
   "outputs": [],
   "source": [
    "b = np.expand_dims(x_test4, axis=-1) # размерность (1, 8, 2, 2, 1)"
   ]
  },
  {
   "cell_type": "markdown",
   "metadata": {},
   "source": [
    "Отрицательный индекс -1 – это следующая с конца ось. Если указать индекс -2, то добавится предпоследняя ось и так далее. Отрицательные индексы очень удобно использовать при работе с массивами произвольных размерностей.\n",
    "\n",
    "Следующая функция squeeze позволяет удалить все оси с одним элементом. Например, строчка: "
   ]
  },
  {
   "cell_type": "code",
   "execution_count": null,
   "metadata": {},
   "outputs": [],
   "source": [
    "c = np.squeeze(b) # размерность (8, 2, 2)\n",
    "c"
   ]
  },
  {
   "cell_type": "markdown",
   "metadata": {},
   "source": [
    "превращает массив размерностью (1, 8, 2, 2) в массив размерностью (8, 2, 2). При необходимости, дополнительно мы можем самостоятельно указать оси, которые следует удалять, например, так: "
   ]
  },
  {
   "cell_type": "code",
   "execution_count": null,
   "metadata": {},
   "outputs": [],
   "source": [
    "c = np.squeeze(b, axis=0) # удалит только ось axis0, не затронув другие"
   ]
  },
  {
   "cell_type": "markdown",
   "metadata": {},
   "source": [
    "Но, если указать ось с числом элементов больше 1, то возникнет ошибка: "
   ]
  },
  {
   "cell_type": "code",
   "execution_count": null,
   "metadata": {},
   "outputs": [],
   "source": [
    "c = np.squeeze(b, axis=1) # ошибка, на оси axis1 8 элементов"
   ]
  },
  {
   "cell_type": "markdown",
   "metadata": {},
   "source": [
    "В NumPy добавлять новые оси иногда удобнее с помощью специального объекта np.newaxis. Например, пусть у нас есть одномерный массив: "
   ]
  },
  {
   "cell_type": "code",
   "execution_count": null,
   "metadata": {},
   "outputs": [],
   "source": [
    "a = np.arange(1, 10)\n",
    "a"
   ]
  },
  {
   "cell_type": "markdown",
   "metadata": {},
   "source": [
    "У него одна ось – одно измерение. Добавим еще одну ось, допустим, в начало. С помощью объекта np.newaxis это можно сделать так: "
   ]
  },
  {
   "cell_type": "code",
   "execution_count": null,
   "metadata": {},
   "outputs": [],
   "source": [
    "b = a[np.newaxis, :] # добавление оси axis0\n",
    "print(b)\n",
    "b.shape # (1, 9)"
   ]
  },
  {
   "cell_type": "markdown",
   "metadata": {},
   "source": [
    "Или, можно прописать сразу две оси: "
   ]
  },
  {
   "cell_type": "code",
   "execution_count": null,
   "metadata": {},
   "outputs": [],
   "source": [
    "c = a[np.newaxis, :, np.newaxis]\n",
    "print(c)\n",
    "c.shape # (1, 9, 1)"
   ]
  },
  {
   "cell_type": "markdown",
   "metadata": {},
   "source": [
    "# Базовые математические операции над массивами"
   ]
  },
  {
   "cell_type": "markdown",
   "metadata": {},
   "source": [
    "Предположим, имеется обычный список и массив, созданный на его основе:"
   ]
  },
  {
   "cell_type": "code",
   "execution_count": 4,
   "metadata": {},
   "outputs": [
    {
     "ename": "NameError",
     "evalue": "name 'np' is not defined",
     "output_type": "error",
     "traceback": [
      "\u001b[0;31m---------------------------------------------------------------------------\u001b[0m",
      "\u001b[0;31mNameError\u001b[0m                                 Traceback (most recent call last)",
      "\u001b[0;32m/tmp/ipykernel_6229/244269281.py\u001b[0m in \u001b[0;36m<module>\u001b[0;34m\u001b[0m\n\u001b[1;32m      1\u001b[0m \u001b[0mlst\u001b[0m \u001b[0;34m=\u001b[0m \u001b[0;34m[\u001b[0m\u001b[0;36m1\u001b[0m\u001b[0;34m,\u001b[0m \u001b[0;36m2\u001b[0m\u001b[0;34m,\u001b[0m \u001b[0;36m3\u001b[0m\u001b[0;34m]\u001b[0m\u001b[0;34m\u001b[0m\u001b[0;34m\u001b[0m\u001b[0m\n\u001b[0;32m----> 2\u001b[0;31m \u001b[0ma\u001b[0m \u001b[0;34m=\u001b[0m \u001b[0mnp\u001b[0m\u001b[0;34m.\u001b[0m\u001b[0marray\u001b[0m\u001b[0;34m(\u001b[0m\u001b[0;34m[\u001b[0m\u001b[0;36m1\u001b[0m\u001b[0;34m,\u001b[0m \u001b[0;36m2\u001b[0m\u001b[0;34m,\u001b[0m \u001b[0;36m3\u001b[0m\u001b[0;34m]\u001b[0m\u001b[0;34m)\u001b[0m\u001b[0;34m\u001b[0m\u001b[0;34m\u001b[0m\u001b[0m\n\u001b[0m",
      "\u001b[0;31mNameError\u001b[0m: name 'np' is not defined"
     ]
    }
   ],
   "source": [
    "lst = [1, 2, 3]\n",
    "a = np.array([1, 2, 3])"
   ]
  },
  {
   "cell_type": "markdown",
   "metadata": {},
   "source": [
    "Сейчас вы увидите принципиальную разницу между двумя этими объектами. Умножим их на число 2: "
   ]
  },
  {
   "cell_type": "code",
   "execution_count": 7,
   "metadata": {},
   "outputs": [
    {
     "data": {
      "text/plain": [
       "[1, 2, 3, 1, 2, 3]"
      ]
     },
     "execution_count": 7,
     "metadata": {},
     "output_type": "execute_result"
    }
   ],
   "source": [
    "import numpy as np\n",
    "\n",
    "lst = [1, 2, 3]\n",
    "a = np.array([1, 2, 3])\n",
    "lst*2\n"
   ]
  },
  {
   "cell_type": "markdown",
   "metadata": {},
   "source": [
    "Видите, при умножении списка языка Python, он дублируется дважды, а при умножении на NumPy массив – каждый его элемент умножается математически на число 2. Если бы мы захотели то же самое реализовать непосредственно на Python, оперируя списками, то пришлось бы делать что-то вроде:"
   ]
  },
  {
   "cell_type": "code",
   "execution_count": null,
   "metadata": {},
   "outputs": [],
   "source": [
    "[x*2 for x in lst]"
   ]
  },
  {
   "cell_type": "markdown",
   "metadata": {},
   "source": [
    "Но выполнялась бы такая конструкция дольше, чем в случае с массивом NumPy. Именно благодаря удобству и скорости библиотека NumPy и приобрела свою популярность."
   ]
  },
  {
   "cell_type": "markdown",
   "metadata": {},
   "source": [
    "Пусть у нас задан тот же одномерный массив: "
   ]
  },
  {
   "cell_type": "code",
   "execution_count": null,
   "metadata": {},
   "outputs": [],
   "source": [
    "a = np.array([1, 2, 3])"
   ]
  },
  {
   "cell_type": "markdown",
   "metadata": {},
   "source": [
    "Все указанные в таблице операции выполняются следующим образом: "
   ]
  },
  {
   "cell_type": "code",
   "execution_count": null,
   "metadata": {},
   "outputs": [],
   "source": [
    "print(-a) # унарный минус\n",
    "print(a + 2) # сложение с числом\n",
    "print(2 + a)  # так тоже можно записывать\n",
    "print(a - 3) # вычитание с числом\n",
    "print(a * 5) # умножение на число\n",
    "print(a / 5)  # деление на число\n",
    "print(a // 2)  # целочисленное деление\n",
    "print(a ** 3)  # возведение в степень 3\n",
    "print(a % 2)  # вычисление по модулю 2"
   ]
  },
  {
   "cell_type": "markdown",
   "metadata": {},
   "source": [
    "Приоритеты этих операций такие же, что и при обычных математических вычислениях. А на выходе мы получаем новый массив с соответствующими значениями.\n",
    "\n",
    "Давайте теперь добавим еще один массив: "
   ]
  },
  {
   "cell_type": "code",
   "execution_count": null,
   "metadata": {},
   "outputs": [],
   "source": [
    "b = np.array([3, 4, 5])"
   ]
  },
  {
   "cell_type": "markdown",
   "metadata": {},
   "source": [
    "и посмотрим на эти же операции, но с участием двух массивов:"
   ]
  },
  {
   "cell_type": "code",
   "execution_count": null,
   "metadata": {},
   "outputs": [],
   "source": [
    "print(a - b)\n",
    "print(b + a)\n",
    "print(a * b)\n",
    "print(b / a)\n",
    "print(b // a)\n",
    "print(b ** a)\n",
    "print(b % a)"
   ]
  },
  {
   "cell_type": "markdown",
   "metadata": {},
   "source": [
    "Везде мы видим поэлементные операции. Соответственно, чтобы они выполнялись, массивы должны быть согласованы по длине. Например, если взять массив: "
   ]
  },
  {
   "cell_type": "code",
   "execution_count": null,
   "metadata": {},
   "outputs": [],
   "source": [
    "b = np.array([3, 4, 5, 6])"
   ]
  },
  {
   "cell_type": "markdown",
   "metadata": {},
   "source": [
    "и выполнить операцию: "
   ]
  },
  {
   "cell_type": "code",
   "execution_count": null,
   "metadata": {},
   "outputs": [],
   "source": [
    "a + b  # ошибка: длины массивов не совпадают"
   ]
  },
  {
   "cell_type": "markdown",
   "metadata": {},
   "source": [
    "то возникнет ошибка из-за несовпадения длин массивов. Но вот такая операция с двумерным массивом b сработает: "
   ]
  },
  {
   "cell_type": "code",
   "execution_count": null,
   "metadata": {},
   "outputs": [],
   "source": [
    "b = np.arange(1, 7)\n",
    "b.resize(2, 3)\n",
    "a + b"
   ]
  },
  {
   "cell_type": "markdown",
   "metadata": {},
   "source": [
    "В этом случае массив a будет применен к каждой строке массива b. Такое поведение получило название транслирование массивов."
   ]
  },
  {
   "cell_type": "markdown",
   "metadata": {},
   "source": [
    "Все рассмотренные операции можно распространить и на многомерные массивы, главное, чтобы они были согласованы по размерам. Я приведу два небольших примера, так как думаю, общий принцип здесь понятен. Пусть у нас трехмерный и двумерный массивы: "
   ]
  },
  {
   "cell_type": "code",
   "execution_count": null,
   "metadata": {},
   "outputs": [],
   "source": [
    "a = np.arange(1, 19)\n",
    "a.resize(3, 3, 2)\n",
    "b = np.ones((3, 2))"
   ]
  },
  {
   "cell_type": "markdown",
   "metadata": {},
   "source": [
    "С ними можно выполнять такие операции:"
   ]
  },
  {
   "cell_type": "code",
   "execution_count": null,
   "metadata": {},
   "outputs": [],
   "source": [
    "print(a - b)\n",
    "print(a * 10)\n",
    "print(a // b)"
   ]
  },
  {
   "cell_type": "markdown",
   "metadata": {},
   "source": [
    "Если нам нужно произвести какие-либо математические операции с массивом и изменения сохранить в нем же, то удобно использовать сокращенные записи."
   ]
  },
  {
   "cell_type": "code",
   "execution_count": null,
   "metadata": {},
   "outputs": [],
   "source": [
    "a = np.array([1, 2, 6, 8])\n",
    "a += 5\n",
    "b = np.ones(4)\n",
    "b *= a"
   ]
  },
  {
   "cell_type": "markdown",
   "metadata": {},
   "source": [
    "# Элементы линейной алгебры"
   ]
  },
  {
   "cell_type": "markdown",
   "metadata": {},
   "source": [
    "**Упражнение 1**\n",
    "\n",
    "Создайте два вектора.\n",
    "\n",
    "Найдите в документации numpy функции **dot** и **inner** вычислите скалярное произведение векторов."
   ]
  },
  {
   "cell_type": "code",
   "execution_count": 11,
   "metadata": {},
   "outputs": [
    {
     "name": "stdout",
     "output_type": "stream",
     "text": [
      "13\n",
      "13\n"
     ]
    }
   ],
   "source": [
    "import numpy as np\n",
    "\n",
    "a = np.array([1, 2, 3])\n",
    "b = np.array([2, 4, 1])\n",
    "c = np.dot (a, b)\n",
    "d = np.inner(a, b)\n",
    "\n",
    "print(c)\n",
    "print(d)"
   ]
  },
  {
   "cell_type": "markdown",
   "metadata": {},
   "source": [
    "**Упражнение 2**\n",
    "\n",
    "Создайте две матрицы (двумерных массива).\n",
    "\n",
    "Найдите в документации numpy функции **dot** и **matmul** и с помощью этих функций вычислите произведение двух матриц.\n",
    "\n",
    "Создайте диагональную единичную матрицу и выполните умножение одной из предыдущих матриц на единичную матрицу."
   ]
  },
  {
   "cell_type": "code",
   "execution_count": 15,
   "metadata": {},
   "outputs": [
    {
     "name": "stdout",
     "output_type": "stream",
     "text": [
      "[[41 33 17]\n",
      " [83 54 42]\n",
      " [87 69 35]]\n",
      "[[41 33 17]\n",
      " [83 54 42]\n",
      " [87 69 35]]\n"
     ]
    }
   ],
   "source": [
    "import numpy as np\n",
    "\n",
    "a = np.array([[1, 2, 3], [3, 7, 2], [1, 4, 7]])\n",
    "b = np.array([[2, 4, 1], [9, 4, 5], [7, 7, 2]])\n",
    "c = np.dot (a, b)\n",
    "d = np.matmul(a, b)\n",
    "\n",
    "print(c)\n",
    "print(d)"
   ]
  },
  {
   "cell_type": "markdown",
   "metadata": {},
   "source": [
    "Вычисление нормы вектора:"
   ]
  },
  {
   "cell_type": "code",
   "execution_count": 17,
   "metadata": {},
   "outputs": [
    {
     "data": {
      "text/plain": [
       "10.14889156509222"
      ]
     },
     "execution_count": 17,
     "metadata": {},
     "output_type": "execute_result"
    }
   ],
   "source": [
    "b = np.array([0, 2, 3, 4, 5, 7])\n",
    "d = np.linalg.norm(b)\n",
    "d"
   ]
  },
  {
   "cell_type": "markdown",
   "metadata": {},
   "source": [
    "**Упражнение 3**\n",
    "\n",
    "Вычислите норму матрицы с помощью функции **np.linalg.norm**."
   ]
  },
  {
   "cell_type": "code",
   "execution_count": 18,
   "metadata": {},
   "outputs": [
    {
     "data": {
      "text/plain": [
       "11.916375287812984"
      ]
     },
     "execution_count": 18,
     "metadata": {},
     "output_type": "execute_result"
    }
   ],
   "source": [
    "a = np.array([[1, 2, 3], [3, 7, 2], [1, 4, 7]])\n",
    "d = np.linalg.norm(a)\n",
    "d"
   ]
  },
  {
   "cell_type": "markdown",
   "metadata": {},
   "source": [
    "**Упражнение 4**\n",
    "\n",
    "Вычислите косинус угла между векторами: $\\normalsize cos\\alpha = \\frac{a*b}{\\|a\\|*\\|b\\|}$"
   ]
  },
  {
   "cell_type": "code",
   "execution_count": 19,
   "metadata": {},
   "outputs": [
    {
     "data": {
      "text/plain": [
       "0.7581753965757457"
      ]
     },
     "execution_count": 19,
     "metadata": {},
     "output_type": "execute_result"
    }
   ],
   "source": [
    "a = np.array([1, 2, 3])\n",
    "b = np.array([2, 4, 1])\n",
    "c = np.dot (a, b)\n",
    "d = np.linalg.norm(a)\n",
    "k = np.linalg.norm(b)\n",
    "cos = c/(d*k)\n",
    "cos"
   ]
  },
  {
   "cell_type": "markdown",
   "metadata": {},
   "source": [
    "____________________________________________________________________________________________________________________\n",
    "Вычисление определителя матрицы:"
   ]
  },
  {
   "cell_type": "code",
   "execution_count": null,
   "metadata": {},
   "outputs": [],
   "source": [
    "A = np.matrix('-4 -1 2; 10 4 -1; 8 3 1') # еще один способ для создания матрицы\n",
    "print(A)\n",
    "d = np.linalg.det(A)\n",
    "print(d)"
   ]
  },
  {
   "cell_type": "markdown",
   "metadata": {},
   "source": [
    "**Упражнение 5**\n",
    "\n",
    "Транспонируйте матрицу, вычислите определитель. Отличается ли определитель транспонированной матрицы от определителя исходной матрицы?\n",
    "\n",
    "Замените одну из строк матрицы на строку из нулей, вычислите определитель матрицы.\n",
    "\n",
    "Создайте матрицу, у которой две строки переставлены местами по сравнению с исходной матрицей, вычислите определитель новой матрицы.\n",
    "\n",
    "Создайте матрицу с двумя одинаковыми строками, вычислите ее определитель.\n",
    "\n",
    "Умножьте одну из строк исходной матрицы на число, вычислите определитель.\n",
    "\n",
    "Прибавьте к элементам одной строки прибавить элементы другой строки, умноженные на одно и тоже число, вычтслите определитель."
   ]
  },
  {
   "cell_type": "code",
   "execution_count": 23,
   "metadata": {},
   "outputs": [
    {
     "data": {
      "text/plain": [
       "17.999999999999996"
      ]
     },
     "execution_count": 23,
     "metadata": {},
     "output_type": "execute_result"
    }
   ],
   "source": [
    "a = np.array([[1, 2, 3], [3, 7, 2], [1, 4, 7]])\n",
    "b = a.T\n",
    "d1 = np.linalg.det(a)\n",
    "d2 = np.linalg.det(b)\n",
    "d1\n",
    "d2"
   ]
  },
  {
   "cell_type": "code",
   "execution_count": 25,
   "metadata": {},
   "outputs": [
    {
     "data": {
      "text/plain": [
       "0.0"
      ]
     },
     "execution_count": 25,
     "metadata": {},
     "output_type": "execute_result"
    }
   ],
   "source": [
    "a = np.array([[1, 2, 3], [3, 7, 2], [1, 4, 7]])\n",
    "a[1]=0\n",
    "d = np.linalg.det(a)\n",
    "d"
   ]
  },
  {
   "cell_type": "code",
   "execution_count": 40,
   "metadata": {},
   "outputs": [
    {
     "data": {
      "text/plain": [
       "-17.999999999999996"
      ]
     },
     "execution_count": 40,
     "metadata": {},
     "output_type": "execute_result"
    }
   ],
   "source": [
    "a = np.array([[1, 2, 3], [3, 7, 2], [1, 4, 7]])\n",
    "a[[1,0]]=a[[0,1]]\n",
    "d = np.linalg.det(a)\n",
    "d"
   ]
  },
  {
   "cell_type": "code",
   "execution_count": 33,
   "metadata": {},
   "outputs": [
    {
     "data": {
      "text/plain": [
       "0.0"
      ]
     },
     "execution_count": 33,
     "metadata": {},
     "output_type": "execute_result"
    }
   ],
   "source": [
    "a1 = np.array([[1, 2, 3], [1, 2, 3], [1, 4, 7]])\n",
    "d = np.linalg.det(a)\n",
    "d"
   ]
  },
  {
   "cell_type": "code",
   "execution_count": 35,
   "metadata": {},
   "outputs": [
    {
     "data": {
      "text/plain": [
       "72.0"
      ]
     },
     "execution_count": 35,
     "metadata": {},
     "output_type": "execute_result"
    }
   ],
   "source": [
    "a = np.array([[1, 2, 3], [3, 7, 2], [1, 4, 7]])\n",
    "a[0] *= 4\n",
    "d = np.linalg.det(a)\n",
    "d"
   ]
  },
  {
   "cell_type": "code",
   "execution_count": 37,
   "metadata": {},
   "outputs": [
    {
     "data": {
      "text/plain": [
       "17.999999999999996"
      ]
     },
     "execution_count": 37,
     "metadata": {},
     "output_type": "execute_result"
    }
   ],
   "source": [
    "a = np.array([[1, 2, 3], [3, 7, 2], [1, 4, 7]])\n",
    "a[0] += a[1]\n",
    "d = np.linalg.det(a)\n",
    "d"
   ]
  },
  {
   "cell_type": "markdown",
   "metadata": {},
   "source": [
    "# Построение графиков в matplotlib"
   ]
  },
  {
   "cell_type": "markdown",
   "metadata": {},
   "source": [
    "Построение графика по точкам:"
   ]
  },
  {
   "cell_type": "code",
   "execution_count": 41,
   "metadata": {},
   "outputs": [
    {
     "data": {
      "image/png": "[encoded data removed]",
      "text/plain": [
       "<Figure size 432x288 with 1 Axes>"
      ]
     },
     "metadata": {
      "needs_background": "light"
     },
     "output_type": "display_data"
    }
   ],
   "source": [
    "import matplotlib.pyplot as plt\n",
    "plt.plot([1, 2, 3, 4, 5], [1, 2, 3, 4, 5])\n",
    "plt.show()"
   ]
  },
  {
   "cell_type": "markdown",
   "metadata": {},
   "source": [
    "Для начала построим линейную зависимость, дадим нашему графику название, подпишем оси и отобразим сетку:"
   ]
  },
  {
   "cell_type": "code",
   "execution_count": 42,
   "metadata": {},
   "outputs": [
    {
     "data": {
      "text/plain": [
       "[<matplotlib.lines.Line2D at 0x7fddce9df9a0>]"
      ]
     },
     "execution_count": 42,
     "metadata": {},
     "output_type": "execute_result"
    },
    {
     "data": {
      "image/png": "[encoded data removed]",
      "text/plain": [
       "<Figure size 432x288 with 1 Axes>"
      ]
     },
     "metadata": {
      "needs_background": "light"
     },
     "output_type": "display_data"
    }
   ],
   "source": [
    "import numpy as np\n",
    "# Независимая (x) и зависимая (y) переменные\n",
    "x = np.linspace(0, 10, 50)\n",
    "y = x\n",
    "\n",
    "# Построение графика\n",
    "plt.title(\"Линейная зависимость y = x\") # заголовок\n",
    "plt.xlabel(\"x\") # ось абсцисс\n",
    "plt.ylabel(\"y\") # ось ординат\n",
    "plt.grid()      # включение отображение сетки\n",
    "plt.plot(x, y)  # построение графика"
   ]
  },
  {
   "cell_type": "markdown",
   "metadata": {},
   "source": [
    "Изменим тип линии и ее цвет, для этого в функцию plot(), в качестве третьего параметра передадим строку, сформированную определенным образом, в нашем случае это “r–”, где “r” означает красный цвет, а “–” – тип линии – пунктирная линия."
   ]
  },
  {
   "cell_type": "code",
   "execution_count": 43,
   "metadata": {},
   "outputs": [
    {
     "data": {
      "text/plain": [
       "[<matplotlib.lines.Line2D at 0x7fddce9cf6a0>]"
      ]
     },
     "execution_count": 43,
     "metadata": {},
     "output_type": "execute_result"
    },
    {
     "data": {
      "image/png": "[encoded data removed]",
      "text/plain": [
       "<Figure size 432x288 with 1 Axes>"
      ]
     },
     "metadata": {
      "needs_background": "light"
     },
     "output_type": "display_data"
    }
   ],
   "source": [
    "# Построение графика\n",
    "plt.title(\"Линейная зависимость y = x\") # заголовок\n",
    "plt.xlabel(\"x\") # ось абсцисс\n",
    "plt.ylabel(\"y\") # ось ординат\n",
    "plt.grid()      # включение отображение сетки\n",
    "plt.plot(x, y, \"r--\")  # построение графика"
   ]
  },
  {
   "cell_type": "markdown",
   "metadata": {},
   "source": [
    "**Несколько графиков на одном поле**\n",
    "\n",
    "Построим несколько графиков на одном поле, для этого добавим квадратичную зависимость:"
   ]
  },
  {
   "cell_type": "code",
   "execution_count": 44,
   "metadata": {},
   "outputs": [
    {
     "data": {
      "text/plain": [
       "[<matplotlib.lines.Line2D at 0x7fddce938670>,\n",
       " <matplotlib.lines.Line2D at 0x7fddce9386a0>]"
      ]
     },
     "execution_count": 44,
     "metadata": {},
     "output_type": "execute_result"
    },
    {
     "data": {
      "image/png": "[encoded data removed]",
      "text/plain": [
       "<Figure size 432x288 with 1 Axes>"
      ]
     },
     "metadata": {
      "needs_background": "light"
     },
     "output_type": "display_data"
    }
   ],
   "source": [
    "# Линейная зависимость\n",
    "x = np.linspace(0, 10, 50)\n",
    "y1 = x\n",
    "# Квадратичная зависимость\n",
    "y2 = [i**2 for i in x]\n",
    "# Построение графика\n",
    "plt.title(\"Зависимости: y1 = x, y2 = x^2\") # заголовок\n",
    "plt.xlabel(\"x\")         # ось абсцисс\n",
    "plt.ylabel(\"y1, y2\")    # ось ординат\n",
    "plt.grid()              # включение отображение сетки\n",
    "plt.plot(x, y1, x, y2)  # построение графика"
   ]
  },
  {
   "cell_type": "markdown",
   "metadata": {},
   "source": [
    "В приведенном примере в функцию plot() последовательно передаются два массива для построения первого графика и два массива для построения второго, при этом, как вы можете заметить, для обоих графиков массив значений независимой переменной x один и то же."
   ]
  },
  {
   "cell_type": "markdown",
   "metadata": {},
   "source": [
    "**Несколько разделенных полей с графиками**\n",
    "\n",
    "Третья, довольно часто встречающаяся задача – это отобразить два или более различных поля, на которых будет отображено по одному или более графику.\n",
    "\n",
    "Построим уже известные нам две зависимость на разных полях."
   ]
  },
  {
   "cell_type": "code",
   "execution_count": 45,
   "metadata": {},
   "outputs": [
    {
     "data": {
      "image/png": "[encoded data removed]",
      "text/plain": [
       "<Figure size 648x648 with 2 Axes>"
      ]
     },
     "metadata": {
      "needs_background": "light"
     },
     "output_type": "display_data"
    }
   ],
   "source": [
    "# Линейная зависимость\n",
    "x = np.linspace(0, 10, 50)\n",
    "y1 = x\n",
    "# Квадратичная зависимость\n",
    "y2 = [i**2 for i in x]\n",
    "# Построение графиков\n",
    "plt.figure(figsize=(9, 9))\n",
    "plt.subplot(2, 1, 1)\n",
    "plt.plot(x, y1)               # построение графика\n",
    "plt.title(\"Зависимости: y1 = x, y2 = x^2\") # заголовок\n",
    "plt.ylabel(\"y1\", fontsize=14) # ось ординат\n",
    "plt.grid(True)                # включение отображение сетки\n",
    "plt.subplot(2, 1, 2)\n",
    "plt.plot(x, y2)               # построение графика\n",
    "plt.xlabel(\"x\", fontsize=14)  # ось абсцисс\n",
    "plt.ylabel(\"y2\", fontsize=14) # ось ординат\n",
    "plt.grid(True)                # включение отображение сетки"
   ]
  },
  {
   "cell_type": "markdown",
   "metadata": {},
   "source": [
    "Здесь мы воспользовались новыми функциями: \n",
    "\n",
    "figure() – функция для задания глобальных параметров отображения графиков. В нее, в качестве аргумента, мы передаем кортеж, определяющий размер общего поля. \n",
    "\n",
    "subplot() – функция для задания местоположения поля с графиком. Существует несколько способов задания областей для вывода через функцию subplot() мы воспользовались следующим: первый аргумент – количество строк, второй – столбцов в формируемом поле, третий – индекс (номер поля, считаем сверху вниз, слева направо).\n",
    "\n",
    "Дополнительно мы использовали параметр fontsize для функций xlabel() и ylabel(), для задания размера шрифта."
   ]
  },
  {
   "cell_type": "markdown",
   "metadata": {},
   "source": [
    "**Точечная диаграмма (scatter plot)**"
   ]
  },
  {
   "cell_type": "code",
   "execution_count": 46,
   "metadata": {},
   "outputs": [
    {
     "name": "stdout",
     "output_type": "stream",
     "text": [
      "x [0.80440676 0.69663046 0.54967105 0.31617186 0.41593984 0.60453133\n",
      " 0.57008279 0.91431871 0.3830262  0.72931774 0.72598004 0.31966461\n",
      " 0.9929678  0.27028639 0.08317526 0.98994965 0.96164642 0.43766106\n",
      " 0.04348861 0.26071687 0.67931184 0.87577792 0.44498002 0.23556601\n",
      " 0.65765184 0.85905108 0.64420226 0.50786777 0.26792469 0.4359038\n",
      " 0.85139583 0.42163733 0.22999207 0.10807528 0.0545235  0.1434672\n",
      " 0.72787193 0.10055275 0.87072445 0.27021016 0.77844627 0.27747656\n",
      " 0.4912395  0.05760414 0.61628523 0.55225077 0.66663551 0.41281972\n",
      " 0.18663014 0.90075551]\n",
      "y [0.98375594 0.34632188 0.64748465 0.27745162 0.9693564  0.63597519\n",
      " 0.61732711 0.05088222 0.43660769 0.43482368 0.22285211 0.39589411\n",
      " 0.18751179 0.8479619  0.73670166 0.64900251 0.87030311 0.68885485\n",
      " 0.18746468 0.52820938 0.04553367 0.01924075 0.52392818 0.76809815\n",
      " 0.67553512 0.07396827 0.18879064 0.75975467 0.55843302 0.36515042\n",
      " 0.4664327  0.67774399 0.27198419 0.23943327 0.74194502 0.2866641\n",
      " 0.9754318  0.19104967 0.24706471 0.53233078 0.60181891 0.85543803\n",
      " 0.42983658 0.04829682 0.04903268 0.09851003 0.51559652 0.53899779\n",
      " 0.88120798 0.32164554]\n"
     ]
    },
    {
     "data": {
      "image/png": "[encoded data removed]",
      "text/plain": [
       "<Figure size 432x288 with 1 Axes>"
      ]
     },
     "metadata": {
      "needs_background": "light"
     },
     "output_type": "display_data"
    }
   ],
   "source": [
    "import numpy as np\n",
    "import matplotlib.pyplot as plt\n",
    "\n",
    "\n",
    "N = 50\n",
    "x = np.random.rand(N) # случайный вектор из 50 элементов\n",
    "print(\"x\", x)\n",
    "y = np.random.rand(N) # случайный вектор из 50 элементов\n",
    "print(\"y\", y)\n",
    "colors = np.random.rand(N) # случайный вектор из 50 элементов, чтобы задавать цвета каждой из точек\n",
    "area = (30 * np.random.rand(N))**2 # случайные площади каждой из точек\n",
    "\n",
    "plt.scatter(x, y, s=area, c=colors, alpha=0.5) # нанесение точек на диаграмму, x и y - координаты\n",
    "                                               # area - площади точек, colors - цвета точек\n",
    "                                               # alpha - значение прозрачности точек\n",
    "plt.show()"
   ]
  },
  {
   "cell_type": "markdown",
   "metadata": {},
   "source": [
    "**Пример с вычислением числа $\\pi$ с помощью метода Монте Карло и визуализация результатов**"
   ]
  },
  {
   "cell_type": "markdown",
   "metadata": {},
   "source": [
    "Переключим режим отображения графиков в notebook:"
   ]
  },
  {
   "cell_type": "code",
   "execution_count": 49,
   "metadata": {},
   "outputs": [],
   "source": [
    "%matplotlib notebook"
   ]
  },
  {
   "cell_type": "code",
   "execution_count": 50,
   "metadata": {},
   "outputs": [],
   "source": [
    "import matplotlib.pyplot as plt\n",
    "import numpy as np\n",
    "from matplotlib.axes import Axes\n",
    "from scipy.stats import norm\n",
    "\n",
    "class PiAnimation:\n",
    "    def __init__(self, ax: Axes, ax_pi: Axes, ax_gaus: Axes):\n",
    "        self.inner = 0\n",
    "        self.out = 0\n",
    "\n",
    "        self.xi, self.yi = [], []\n",
    "        self.xo, self.yo = [], []\n",
    "\n",
    "        ax.set_xlim(-1.0, 1.5)\n",
    "        ax.set_ylim(-1.0, 1.5)\n",
    "        ax.axis(\"off\")\n",
    "        ax.add_artist(plt.Circle((0.0, 0.0), 1, fill=False))\n",
    "        ax.add_artist(plt.Rectangle((-1, -1), 2, 2, fill=False))\n",
    "\n",
    "        self.line_i = ax.plot(self.xi, self.yi, \"ro\")[0]\n",
    "        self.line_o = ax.plot(self.xo, self.yo, \"bo\")[0]\n",
    "        self.text = ax.text(0.3, 1.1, \"\", fontdict={\"fontsize\": 32})\n",
    "        self.text_n = ax.text(-0.9, 1.1, \"\", fontdict={\"fontsize\": 32})\n",
    "\n",
    "        self.ax_pi = ax_pi\n",
    "        self.pi = []\n",
    "        self.pi_line = ax_pi.plot([], self.pi,\"-\")[0]\n",
    "        ax_pi.set_ylim(0, 2*np.pi)\n",
    "\n",
    "        self.ax_gaus = ax_gaus\n",
    "        self.gauss_point = np.linspace(0.5*np.pi, 1.5 * np.pi, 200)\n",
    "        self.gauss = ax_gaus.plot(self.gauss_point, np.zeros(200), \"\")[0]\n",
    "\n",
    "    def __call__(self, n):\n",
    "        x, y = 2*(np.random.random_sample(2) - 0.5)\n",
    "        if x ** 2 + y ** 2 <= 1:\n",
    "            self.inner += 1\n",
    "            self.xi.append(x)\n",
    "            self.yi.append(y)\n",
    "            self.line_i.set_data(self.xi, self.yi)\n",
    "        else:\n",
    "            self.out +=1\n",
    "            self.xo.append(x)\n",
    "            self.yo.append(y)\n",
    "            self.line_o.set_data(self.xo, self.yo)\n",
    "        N = self.inner + self.out\n",
    "        prob = self.inner/N\n",
    "        pi = 4*prob\n",
    "        self.pi.append(pi)\n",
    "        self.text.set_text(r\"$\\pi = {:.5}$\".format(pi))\n",
    "        self.text_n.set_text(\"N = {:5d}   \".format(N))\n",
    "\n",
    "        self.pi_line.set_data(range(N), self.pi)\n",
    "        self.ax_pi.relim()\n",
    "        self.ax_pi.autoscale()\n",
    "\n",
    "        mean, var = np.mean(self.pi), np.var(self.pi)\n",
    "\n",
    "        if N > 3:\n",
    "            self.gauss.set_data(self.gauss_point, norm.pdf(self.gauss_point, loc = mean, scale = var))\n",
    "            self.ax_gaus.relim()\n",
    "            self.ax_gaus.autoscale()\n",
    "        return self.line_i, self.line_o, self.text, self.text_n, self.pi_line, self.gauss"
   ]
  },
  {
   "cell_type": "code",
   "execution_count": 51,
   "metadata": {},
   "outputs": [
    {
     "data": {
      "application/javascript": [
       "/* Put everything inside the global mpl namespace */\n",
       "/* global mpl */\n",
       "window.mpl = {};\n",
       "\n",
       "mpl.get_websocket_type = function () {\n",
       "    if (typeof WebSocket !== 'undefined') {\n",
       "        return WebSocket;\n",
       "    } else if (typeof MozWebSocket !== 'undefined') {\n",
       "        return MozWebSocket;\n",
       "    } else {\n",
       "        alert(\n",
       "            'Your browser does not have WebSocket support. ' +\n",
       "                'Please try Chrome, Safari or Firefox ≥ 6. ' +\n",
       "                'Firefox 4 and 5 are also supported but you ' +\n",
       "                'have to enable WebSockets in about:config.'\n",
       "        );\n",
       "    }\n",
       "};\n",
       "\n",
       "mpl.figure = function (figure_id, websocket, ondownload, parent_element) {\n",
       "    this.id = figure_id;\n",
       "\n",
       "    this.ws = websocket;\n",
       "\n",
       "    this.supports_binary = this.ws.binaryType !== undefined;\n",
       "\n",
       "    if (!this.supports_binary) {\n",
       "        var warnings = document.getElementById('mpl-warnings');\n",
       "        if (warnings) {\n",
       "            warnings.style.display = 'block';\n",
       "            warnings.textContent =\n",
       "                'This browser does not support binary websocket messages. ' +\n",
       "                'Performance may be slow.';\n",
       "        }\n",
       "    }\n",
       "\n",
       "    this.imageObj = new Image();\n",
       "\n",
       "    this.context = undefined;\n",
       "    this.message = undefined;\n",
       "    this.canvas = undefined;\n",
       "    this.rubberband_canvas = undefined;\n",
       "    this.rubberband_context = undefined;\n",
       "    this.format_dropdown = undefined;\n",
       "\n",
       "    this.image_mode = 'full';\n",
       "\n",
       "    this.root = document.createElement('div');\n",
       "    this.root.setAttribute('style', 'display: inline-block');\n",
       "    this._root_extra_style(this.root);\n",
       "\n",
       "    parent_element.appendChild(this.root);\n",
       "\n",
       "    this._init_header(this);\n",
       "    this._init_canvas(this);\n",
       "    this._init_toolbar(this);\n",
       "\n",
       "    var fig = this;\n",
       "\n",
       "    this.waiting = false;\n",
       "\n",
       "    this.ws.onopen = function () {\n",
       "        fig.send_message('supports_binary', { value: fig.supports_binary });\n",
       "        fig.send_message('send_image_mode', {});\n",
       "        if (fig.ratio !== 1) {\n",
       "            fig.send_message('set_dpi_ratio', { dpi_ratio: fig.ratio });\n",
       "        }\n",
       "        fig.send_message('refresh', {});\n",
       "    };\n",
       "\n",
       "    this.imageObj.onload = function () {\n",
       "        if (fig.image_mode === 'full') {\n",
       "            // Full images could contain transparency (where diff images\n",
       "            // almost always do), so we need to clear the canvas so that\n",
       "            // there is no ghosting.\n",
       "            fig.context.clearRect(0, 0, fig.canvas.width, fig.canvas.height);\n",
       "        }\n",
       "        fig.context.drawImage(fig.imageObj, 0, 0);\n",
       "    };\n",
       "\n",
       "    this.imageObj.onunload = function () {\n",
       "        fig.ws.close();\n",
       "    };\n",
       "\n",
       "    this.ws.onmessage = this._make_on_message_function(this);\n",
       "\n",
       "    this.ondownload = ondownload;\n",
       "};\n",
       "\n",
       "mpl.figure.prototype._init_header = function () {\n",
       "    var titlebar = document.createElement('div');\n",
       "    titlebar.classList =\n",
       "        'ui-dialog-titlebar ui-widget-header ui-corner-all ui-helper-clearfix';\n",
       "    var titletext = document.createElement('div');\n",
       "    titletext.classList = 'ui-dialog-title';\n",
       "    titletext.setAttribute(\n",
       "        'style',\n",
       "        'width: 100%; text-align: center; padding: 3px;'\n",
       "    );\n",
       "    titlebar.appendChild(titletext);\n",
       "    this.root.appendChild(titlebar);\n",
       "    this.header = titletext;\n",
       "};\n",
       "\n",
       "mpl.figure.prototype._canvas_extra_style = function (_canvas_div) {};\n",
       "\n",
       "mpl.figure.prototype._root_extra_style = function (_canvas_div) {};\n",
       "\n",
       "mpl.figure.prototype._init_canvas = function () {\n",
       "    var fig = this;\n",
       "\n",
       "    var canvas_div = (this.canvas_div = document.createElement('div'));\n",
       "    canvas_div.setAttribute(\n",
       "        'style',\n",
       "        'border: 1px solid #ddd;' +\n",
       "            'box-sizing: content-box;' +\n",
       "            'clear: both;' +\n",
       "            'min-height: 1px;' +\n",
       "            'min-width: 1px;' +\n",
       "            'outline: 0;' +\n",
       "            'overflow: hidden;' +\n",
       "            'position: relative;' +\n",
       "            'resize: both;'\n",
       "    );\n",
       "\n",
       "    function on_keyboard_event_closure(name) {\n",
       "        return function (event) {\n",
       "            return fig.key_event(event, name);\n",
       "        };\n",
       "    }\n",
       "\n",
       "    canvas_div.addEventListener(\n",
       "        'keydown',\n",
       "        on_keyboard_event_closure('key_press')\n",
       "    );\n",
       "    canvas_div.addEventListener(\n",
       "        'keyup',\n",
       "        on_keyboard_event_closure('key_release')\n",
       "    );\n",
       "\n",
       "    this._canvas_extra_style(canvas_div);\n",
       "    this.root.appendChild(canvas_div);\n",
       "\n",
       "    var canvas = (this.canvas = document.createElement('canvas'));\n",
       "    canvas.classList.add('mpl-canvas');\n",
       "    canvas.setAttribute('style', 'box-sizing: content-box;');\n",
       "\n",
       "    this.context = canvas.getContext('2d');\n",
       "\n",
       "    var backingStore =\n",
       "        this.context.backingStorePixelRatio ||\n",
       "        this.context.webkitBackingStorePixelRatio ||\n",
       "        this.context.mozBackingStorePixelRatio ||\n",
       "        this.context.msBackingStorePixelRatio ||\n",
       "        this.context.oBackingStorePixelRatio ||\n",
       "        this.context.backingStorePixelRatio ||\n",
       "        1;\n",
       "\n",
       "    this.ratio = (window.devicePixelRatio || 1) / backingStore;\n",
       "\n",
       "    var rubberband_canvas = (this.rubberband_canvas = document.createElement(\n",
       "        'canvas'\n",
       "    ));\n",
       "    rubberband_canvas.setAttribute(\n",
       "        'style',\n",
       "        'box-sizing: content-box; position: absolute; left: 0; top: 0; z-index: 1;'\n",
       "    );\n",
       "\n",
       "    // Apply a ponyfill if ResizeObserver is not implemented by browser.\n",
       "    if (this.ResizeObserver === undefined) {\n",
       "        if (window.ResizeObserver !== undefined) {\n",
       "            this.ResizeObserver = window.ResizeObserver;\n",
       "        } else {\n",
       "            var obs = _JSXTOOLS_RESIZE_OBSERVER({});\n",
       "            this.ResizeObserver = obs.ResizeObserver;\n",
       "        }\n",
       "    }\n",
       "\n",
       "    this.resizeObserverInstance = new this.ResizeObserver(function (entries) {\n",
       "        var nentries = entries.length;\n",
       "        for (var i = 0; i < nentries; i++) {\n",
       "            var entry = entries[i];\n",
       "            var width, height;\n",
       "            if (entry.contentBoxSize) {\n",
       "                if (entry.contentBoxSize instanceof Array) {\n",
       "                    // Chrome 84 implements new version of spec.\n",
       "                    width = entry.contentBoxSize[0].inlineSize;\n",
       "                    height = entry.contentBoxSize[0].blockSize;\n",
       "                } else {\n",
       "                    // Firefox implements old version of spec.\n",
       "                    width = entry.contentBoxSize.inlineSize;\n",
       "                    height = entry.contentBoxSize.blockSize;\n",
       "                }\n",
       "            } else {\n",
       "                // Chrome <84 implements even older version of spec.\n",
       "                width = entry.contentRect.width;\n",
       "                height = entry.contentRect.height;\n",
       "            }\n",
       "\n",
       "            // Keep the size of the canvas and rubber band canvas in sync with\n",
       "            // the canvas container.\n",
       "            if (entry.devicePixelContentBoxSize) {\n",
       "                // Chrome 84 implements new version of spec.\n",
       "                canvas.setAttribute(\n",
       "                    'width',\n",
       "                    entry.devicePixelContentBoxSize[0].inlineSize\n",
       "                );\n",
       "                canvas.setAttribute(\n",
       "                    'height',\n",
       "                    entry.devicePixelContentBoxSize[0].blockSize\n",
       "                );\n",
       "            } else {\n",
       "                canvas.setAttribute('width', width * fig.ratio);\n",
       "                canvas.setAttribute('height', height * fig.ratio);\n",
       "            }\n",
       "            canvas.setAttribute(\n",
       "                'style',\n",
       "                'width: ' + width + 'px; height: ' + height + 'px;'\n",
       "            );\n",
       "\n",
       "            rubberband_canvas.setAttribute('width', width);\n",
       "            rubberband_canvas.setAttribute('height', height);\n",
       "\n",
       "            // And update the size in Python. We ignore the initial 0/0 size\n",
       "            // that occurs as the element is placed into the DOM, which should\n",
       "            // otherwise not happen due to the minimum size styling.\n",
       "            if (fig.ws.readyState == 1 && width != 0 && height != 0) {\n",
       "                fig.request_resize(width, height);\n",
       "            }\n",
       "        }\n",
       "    });\n",
       "    this.resizeObserverInstance.observe(canvas_div);\n",
       "\n",
       "    function on_mouse_event_closure(name) {\n",
       "        return function (event) {\n",
       "            return fig.mouse_event(event, name);\n",
       "        };\n",
       "    }\n",
       "\n",
       "    rubberband_canvas.addEventListener(\n",
       "        'mousedown',\n",
       "        on_mouse_event_closure('button_press')\n",
       "    );\n",
       "    rubberband_canvas.addEventListener(\n",
       "        'mouseup',\n",
       "        on_mouse_event_closure('button_release')\n",
       "    );\n",
       "    rubberband_canvas.addEventListener(\n",
       "        'dblclick',\n",
       "        on_mouse_event_closure('dblclick')\n",
       "    );\n",
       "    // Throttle sequential mouse events to 1 every 20ms.\n",
       "    rubberband_canvas.addEventListener(\n",
       "        'mousemove',\n",
       "        on_mouse_event_closure('motion_notify')\n",
       "    );\n",
       "\n",
       "    rubberband_canvas.addEventListener(\n",
       "        'mouseenter',\n",
       "        on_mouse_event_closure('figure_enter')\n",
       "    );\n",
       "    rubberband_canvas.addEventListener(\n",
       "        'mouseleave',\n",
       "        on_mouse_event_closure('figure_leave')\n",
       "    );\n",
       "\n",
       "    canvas_div.addEventListener('wheel', function (event) {\n",
       "        if (event.deltaY < 0) {\n",
       "            event.step = 1;\n",
       "        } else {\n",
       "            event.step = -1;\n",
       "        }\n",
       "        on_mouse_event_closure('scroll')(event);\n",
       "    });\n",
       "\n",
       "    canvas_div.appendChild(canvas);\n",
       "    canvas_div.appendChild(rubberband_canvas);\n",
       "\n",
       "    this.rubberband_context = rubberband_canvas.getContext('2d');\n",
       "    this.rubberband_context.strokeStyle = '#000000';\n",
       "\n",
       "    this._resize_canvas = function (width, height, forward) {\n",
       "        if (forward) {\n",
       "            canvas_div.style.width = width + 'px';\n",
       "            canvas_div.style.height = height + 'px';\n",
       "        }\n",
       "    };\n",
       "\n",
       "    // Disable right mouse context menu.\n",
       "    this.rubberband_canvas.addEventListener('contextmenu', function (_e) {\n",
       "        event.preventDefault();\n",
       "        return false;\n",
       "    });\n",
       "\n",
       "    function set_focus() {\n",
       "        canvas.focus();\n",
       "        canvas_div.focus();\n",
       "    }\n",
       "\n",
       "    window.setTimeout(set_focus, 100);\n",
       "};\n",
       "\n",
       "mpl.figure.prototype._init_toolbar = function () {\n",
       "    var fig = this;\n",
       "\n",
       "    var toolbar = document.createElement('div');\n",
       "    toolbar.classList = 'mpl-toolbar';\n",
       "    this.root.appendChild(toolbar);\n",
       "\n",
       "    function on_click_closure(name) {\n",
       "        return function (_event) {\n",
       "            return fig.toolbar_button_onclick(name);\n",
       "        };\n",
       "    }\n",
       "\n",
       "    function on_mouseover_closure(tooltip) {\n",
       "        return function (event) {\n",
       "            if (!event.currentTarget.disabled) {\n",
       "                return fig.toolbar_button_onmouseover(tooltip);\n",
       "            }\n",
       "        };\n",
       "    }\n",
       "\n",
       "    fig.buttons = {};\n",
       "    var buttonGroup = document.createElement('div');\n",
       "    buttonGroup.classList = 'mpl-button-group';\n",
       "    for (var toolbar_ind in mpl.toolbar_items) {\n",
       "        var name = mpl.toolbar_items[toolbar_ind][0];\n",
       "        var tooltip = mpl.toolbar_items[toolbar_ind][1];\n",
       "        var image = mpl.toolbar_items[toolbar_ind][2];\n",
       "        var method_name = mpl.toolbar_items[toolbar_ind][3];\n",
       "\n",
       "        if (!name) {\n",
       "            /* Instead of a spacer, we start a new button group. */\n",
       "            if (buttonGroup.hasChildNodes()) {\n",
       "                toolbar.appendChild(buttonGroup);\n",
       "            }\n",
       "            buttonGroup = document.createElement('div');\n",
       "            buttonGroup.classList = 'mpl-button-group';\n",
       "            continue;\n",
       "        }\n",
       "\n",
       "        var button = (fig.buttons[name] = document.createElement('button'));\n",
       "        button.classList = 'mpl-widget';\n",
       "        button.setAttribute('role', 'button');\n",
       "        button.setAttribute('aria-disabled', 'false');\n",
       "        button.addEventListener('click', on_click_closure(method_name));\n",
       "        button.addEventListener('mouseover', on_mouseover_closure(tooltip));\n",
       "\n",
       "        var icon_img = document.createElement('img');\n",
       "        icon_img.src = '_images/' + image + '.png';\n",
       "        icon_img.srcset = '_images/' + image + '_large.png 2x';\n",
       "        icon_img.alt = tooltip;\n",
       "        button.appendChild(icon_img);\n",
       "\n",
       "        buttonGroup.appendChild(button);\n",
       "    }\n",
       "\n",
       "    if (buttonGroup.hasChildNodes()) {\n",
       "        toolbar.appendChild(buttonGroup);\n",
       "    }\n",
       "\n",
       "    var fmt_picker = document.createElement('select');\n",
       "    fmt_picker.classList = 'mpl-widget';\n",
       "    toolbar.appendChild(fmt_picker);\n",
       "    this.format_dropdown = fmt_picker;\n",
       "\n",
       "    for (var ind in mpl.extensions) {\n",
       "        var fmt = mpl.extensions[ind];\n",
       "        var option = document.createElement('option');\n",
       "        option.selected = fmt === mpl.default_extension;\n",
       "        option.innerHTML = fmt;\n",
       "        fmt_picker.appendChild(option);\n",
       "    }\n",
       "\n",
       "    var status_bar = document.createElement('span');\n",
       "    status_bar.classList = 'mpl-message';\n",
       "    toolbar.appendChild(status_bar);\n",
       "    this.message = status_bar;\n",
       "};\n",
       "\n",
       "mpl.figure.prototype.request_resize = function (x_pixels, y_pixels) {\n",
       "    // Request matplotlib to resize the figure. Matplotlib will then trigger a resize in the client,\n",
       "    // which will in turn request a refresh of the image.\n",
       "    this.send_message('resize', { width: x_pixels, height: y_pixels });\n",
       "};\n",
       "\n",
       "mpl.figure.prototype.send_message = function (type, properties) {\n",
       "    properties['type'] = type;\n",
       "    properties['figure_id'] = this.id;\n",
       "    this.ws.send(JSON.stringify(properties));\n",
       "};\n",
       "\n",
       "mpl.figure.prototype.send_draw_message = function () {\n",
       "    if (!this.waiting) {\n",
       "        this.waiting = true;\n",
       "        this.ws.send(JSON.stringify({ type: 'draw', figure_id: this.id }));\n",
       "    }\n",
       "};\n",
       "\n",
       "mpl.figure.prototype.handle_save = function (fig, _msg) {\n",
       "    var format_dropdown = fig.format_dropdown;\n",
       "    var format = format_dropdown.options[format_dropdown.selectedIndex].value;\n",
       "    fig.ondownload(fig, format);\n",
       "};\n",
       "\n",
       "mpl.figure.prototype.handle_resize = function (fig, msg) {\n",
       "    var size = msg['size'];\n",
       "    if (size[0] !== fig.canvas.width || size[1] !== fig.canvas.height) {\n",
       "        fig._resize_canvas(size[0], size[1], msg['forward']);\n",
       "        fig.send_message('refresh', {});\n",
       "    }\n",
       "};\n",
       "\n",
       "mpl.figure.prototype.handle_rubberband = function (fig, msg) {\n",
       "    var x0 = msg['x0'] / fig.ratio;\n",
       "    var y0 = (fig.canvas.height - msg['y0']) / fig.ratio;\n",
       "    var x1 = msg['x1'] / fig.ratio;\n",
       "    var y1 = (fig.canvas.height - msg['y1']) / fig.ratio;\n",
       "    x0 = Math.floor(x0) + 0.5;\n",
       "    y0 = Math.floor(y0) + 0.5;\n",
       "    x1 = Math.floor(x1) + 0.5;\n",
       "    y1 = Math.floor(y1) + 0.5;\n",
       "    var min_x = Math.min(x0, x1);\n",
       "    var min_y = Math.min(y0, y1);\n",
       "    var width = Math.abs(x1 - x0);\n",
       "    var height = Math.abs(y1 - y0);\n",
       "\n",
       "    fig.rubberband_context.clearRect(\n",
       "        0,\n",
       "        0,\n",
       "        fig.canvas.width / fig.ratio,\n",
       "        fig.canvas.height / fig.ratio\n",
       "    );\n",
       "\n",
       "    fig.rubberband_context.strokeRect(min_x, min_y, width, height);\n",
       "};\n",
       "\n",
       "mpl.figure.prototype.handle_figure_label = function (fig, msg) {\n",
       "    // Updates the figure title.\n",
       "    fig.header.textContent = msg['label'];\n",
       "};\n",
       "\n",
       "mpl.figure.prototype.handle_cursor = function (fig, msg) {\n",
       "    var cursor = msg['cursor'];\n",
       "    switch (cursor) {\n",
       "        case 0:\n",
       "            cursor = 'pointer';\n",
       "            break;\n",
       "        case 1:\n",
       "            cursor = 'default';\n",
       "            break;\n",
       "        case 2:\n",
       "            cursor = 'crosshair';\n",
       "            break;\n",
       "        case 3:\n",
       "            cursor = 'move';\n",
       "            break;\n",
       "    }\n",
       "    fig.rubberband_canvas.style.cursor = cursor;\n",
       "};\n",
       "\n",
       "mpl.figure.prototype.handle_message = function (fig, msg) {\n",
       "    fig.message.textContent = msg['message'];\n",
       "};\n",
       "\n",
       "mpl.figure.prototype.handle_draw = function (fig, _msg) {\n",
       "    // Request the server to send over a new figure.\n",
       "    fig.send_draw_message();\n",
       "};\n",
       "\n",
       "mpl.figure.prototype.handle_image_mode = function (fig, msg) {\n",
       "    fig.image_mode = msg['mode'];\n",
       "};\n",
       "\n",
       "mpl.figure.prototype.handle_history_buttons = function (fig, msg) {\n",
       "    for (var key in msg) {\n",
       "        if (!(key in fig.buttons)) {\n",
       "            continue;\n",
       "        }\n",
       "        fig.buttons[key].disabled = !msg[key];\n",
       "        fig.buttons[key].setAttribute('aria-disabled', !msg[key]);\n",
       "    }\n",
       "};\n",
       "\n",
       "mpl.figure.prototype.handle_navigate_mode = function (fig, msg) {\n",
       "    if (msg['mode'] === 'PAN') {\n",
       "        fig.buttons['Pan'].classList.add('active');\n",
       "        fig.buttons['Zoom'].classList.remove('active');\n",
       "    } else if (msg['mode'] === 'ZOOM') {\n",
       "        fig.buttons['Pan'].classList.remove('active');\n",
       "        fig.buttons['Zoom'].classList.add('active');\n",
       "    } else {\n",
       "        fig.buttons['Pan'].classList.remove('active');\n",
       "        fig.buttons['Zoom'].classList.remove('active');\n",
       "    }\n",
       "};\n",
       "\n",
       "mpl.figure.prototype.updated_canvas_event = function () {\n",
       "    // Called whenever the canvas gets updated.\n",
       "    this.send_message('ack', {});\n",
       "};\n",
       "\n",
       "// A function to construct a web socket function for onmessage handling.\n",
       "// Called in the figure constructor.\n",
       "mpl.figure.prototype._make_on_message_function = function (fig) {\n",
       "    return function socket_on_message(evt) {\n",
       "        if (evt.data instanceof Blob) {\n",
       "            var img = evt.data;\n",
       "            if (img.type !== 'image/png') {\n",
       "                /* FIXME: We get \"Resource interpreted as Image but\n",
       "                 * transferred with MIME type text/plain:\" errors on\n",
       "                 * Chrome.  But how to set the MIME type?  It doesn't seem\n",
       "                 * to be part of the websocket stream */\n",
       "                img.type = 'image/png';\n",
       "            }\n",
       "\n",
       "            /* Free the memory for the previous frames */\n",
       "            if (fig.imageObj.src) {\n",
       "                (window.URL || window.webkitURL).revokeObjectURL(\n",
       "                    fig.imageObj.src\n",
       "                );\n",
       "            }\n",
       "\n",
       "            fig.imageObj.src = (window.URL || window.webkitURL).createObjectURL(\n",
       "                img\n",
       "            );\n",
       "            fig.updated_canvas_event();\n",
       "            fig.waiting = false;\n",
       "            return;\n",
       "        } else if (\n",
       "            typeof evt.data === 'string' &&\n",
       "            evt.data.slice(0, 21) === 'data:image/png;base64'\n",
       "        ) {\n",
       "            fig.imageObj.src = evt.data;\n",
       "            fig.updated_canvas_event();\n",
       "            fig.waiting = false;\n",
       "            return;\n",
       "        }\n",
       "\n",
       "        var msg = JSON.parse(evt.data);\n",
       "        var msg_type = msg['type'];\n",
       "\n",
       "        // Call the  \"handle_{type}\" callback, which takes\n",
       "        // the figure and JSON message as its only arguments.\n",
       "        try {\n",
       "            var callback = fig['handle_' + msg_type];\n",
       "        } catch (e) {\n",
       "            console.log(\n",
       "                \"No handler for the '\" + msg_type + \"' message type: \",\n",
       "                msg\n",
       "            );\n",
       "            return;\n",
       "        }\n",
       "\n",
       "        if (callback) {\n",
       "            try {\n",
       "                // console.log(\"Handling '\" + msg_type + \"' message: \", msg);\n",
       "                callback(fig, msg);\n",
       "            } catch (e) {\n",
       "                console.log(\n",
       "                    \"Exception inside the 'handler_\" + msg_type + \"' callback:\",\n",
       "                    e,\n",
       "                    e.stack,\n",
       "                    msg\n",
       "                );\n",
       "            }\n",
       "        }\n",
       "    };\n",
       "};\n",
       "\n",
       "// from http://stackoverflow.com/questions/1114465/getting-mouse-location-in-canvas\n",
       "mpl.findpos = function (e) {\n",
       "    //this section is from http://www.quirksmode.org/js/events_properties.html\n",
       "    var targ;\n",
       "    if (!e) {\n",
       "        e = window.event;\n",
       "    }\n",
       "    if (e.target) {\n",
       "        targ = e.target;\n",
       "    } else if (e.srcElement) {\n",
       "        targ = e.srcElement;\n",
       "    }\n",
       "    if (targ.nodeType === 3) {\n",
       "        // defeat Safari bug\n",
       "        targ = targ.parentNode;\n",
       "    }\n",
       "\n",
       "    // pageX,Y are the mouse positions relative to the document\n",
       "    var boundingRect = targ.getBoundingClientRect();\n",
       "    var x = e.pageX - (boundingRect.left + document.body.scrollLeft);\n",
       "    var y = e.pageY - (boundingRect.top + document.body.scrollTop);\n",
       "\n",
       "    return { x: x, y: y };\n",
       "};\n",
       "\n",
       "/*\n",
       " * return a copy of an object with only non-object keys\n",
       " * we need this to avoid circular references\n",
       " * http://stackoverflow.com/a/24161582/3208463\n",
       " */\n",
       "function simpleKeys(original) {\n",
       "    return Object.keys(original).reduce(function (obj, key) {\n",
       "        if (typeof original[key] !== 'object') {\n",
       "            obj[key] = original[key];\n",
       "        }\n",
       "        return obj;\n",
       "    }, {});\n",
       "}\n",
       "\n",
       "mpl.figure.prototype.mouse_event = function (event, name) {\n",
       "    var canvas_pos = mpl.findpos(event);\n",
       "\n",
       "    if (name === 'button_press') {\n",
       "        this.canvas.focus();\n",
       "        this.canvas_div.focus();\n",
       "    }\n",
       "\n",
       "    var x = canvas_pos.x * this.ratio;\n",
       "    var y = canvas_pos.y * this.ratio;\n",
       "\n",
       "    this.send_message(name, {\n",
       "        x: x,\n",
       "        y: y,\n",
       "        button: event.button,\n",
       "        step: event.step,\n",
       "        guiEvent: simpleKeys(event),\n",
       "    });\n",
       "\n",
       "    /* This prevents the web browser from automatically changing to\n",
       "     * the text insertion cursor when the button is pressed.  We want\n",
       "     * to control all of the cursor setting manually through the\n",
       "     * 'cursor' event from matplotlib */\n",
       "    event.preventDefault();\n",
       "    return false;\n",
       "};\n",
       "\n",
       "mpl.figure.prototype._key_event_extra = function (_event, _name) {\n",
       "    // Handle any extra behaviour associated with a key event\n",
       "};\n",
       "\n",
       "mpl.figure.prototype.key_event = function (event, name) {\n",
       "    // Prevent repeat events\n",
       "    if (name === 'key_press') {\n",
       "        if (event.key === this._key) {\n",
       "            return;\n",
       "        } else {\n",
       "            this._key = event.key;\n",
       "        }\n",
       "    }\n",
       "    if (name === 'key_release') {\n",
       "        this._key = null;\n",
       "    }\n",
       "\n",
       "    var value = '';\n",
       "    if (event.ctrlKey && event.key !== 'Control') {\n",
       "        value += 'ctrl+';\n",
       "    }\n",
       "    else if (event.altKey && event.key !== 'Alt') {\n",
       "        value += 'alt+';\n",
       "    }\n",
       "    else if (event.shiftKey && event.key !== 'Shift') {\n",
       "        value += 'shift+';\n",
       "    }\n",
       "\n",
       "    value += 'k' + event.key;\n",
       "\n",
       "    this._key_event_extra(event, name);\n",
       "\n",
       "    this.send_message(name, { key: value, guiEvent: simpleKeys(event) });\n",
       "    return false;\n",
       "};\n",
       "\n",
       "mpl.figure.prototype.toolbar_button_onclick = function (name) {\n",
       "    if (name === 'download') {\n",
       "        this.handle_save(this, null);\n",
       "    } else {\n",
       "        this.send_message('toolbar_button', { name: name });\n",
       "    }\n",
       "};\n",
       "\n",
       "mpl.figure.prototype.toolbar_button_onmouseover = function (tooltip) {\n",
       "    this.message.textContent = tooltip;\n",
       "};\n",
       "\n",
       "///////////////// REMAINING CONTENT GENERATED BY embed_js.py /////////////////\n",
       "// prettier-ignore\n",
       "var _JSXTOOLS_RESIZE_OBSERVER=function(A){var t,i=new WeakMap,n=new WeakMap,a=new WeakMap,r=new WeakMap,o=new Set;function s(e){if(!(this instanceof s))throw new TypeError(\"Constructor requires 'new' operator\");i.set(this,e)}function h(){throw new TypeError(\"Function is not a constructor\")}function c(e,t,i,n){e=0 in arguments?Number(arguments[0]):0,t=1 in arguments?Number(arguments[1]):0,i=2 in arguments?Number(arguments[2]):0,n=3 in arguments?Number(arguments[3]):0,this.right=(this.x=this.left=e)+(this.width=i),this.bottom=(this.y=this.top=t)+(this.height=n),Object.freeze(this)}function d(){t=requestAnimationFrame(d);var s=new WeakMap,p=new Set;o.forEach((function(t){r.get(t).forEach((function(i){var r=t instanceof window.SVGElement,o=a.get(t),d=r?0:parseFloat(o.paddingTop),f=r?0:parseFloat(o.paddingRight),l=r?0:parseFloat(o.paddingBottom),u=r?0:parseFloat(o.paddingLeft),g=r?0:parseFloat(o.borderTopWidth),m=r?0:parseFloat(o.borderRightWidth),w=r?0:parseFloat(o.borderBottomWidth),b=u+f,F=d+l,v=(r?0:parseFloat(o.borderLeftWidth))+m,W=g+w,y=r?0:t.offsetHeight-W-t.clientHeight,E=r?0:t.offsetWidth-v-t.clientWidth,R=b+v,z=F+W,M=r?t.width:parseFloat(o.width)-R-E,O=r?t.height:parseFloat(o.height)-z-y;if(n.has(t)){var k=n.get(t);if(k[0]===M&&k[1]===O)return}n.set(t,[M,O]);var S=Object.create(h.prototype);S.target=t,S.contentRect=new c(u,d,M,O),s.has(i)||(s.set(i,[]),p.add(i)),s.get(i).push(S)}))})),p.forEach((function(e){i.get(e).call(e,s.get(e),e)}))}return s.prototype.observe=function(i){if(i instanceof window.Element){r.has(i)||(r.set(i,new Set),o.add(i),a.set(i,window.getComputedStyle(i)));var n=r.get(i);n.has(this)||n.add(this),cancelAnimationFrame(t),t=requestAnimationFrame(d)}},s.prototype.unobserve=function(i){if(i instanceof window.Element&&r.has(i)){var n=r.get(i);n.has(this)&&(n.delete(this),n.size||(r.delete(i),o.delete(i))),n.size||r.delete(i),o.size||cancelAnimationFrame(t)}},A.DOMRectReadOnly=c,A.ResizeObserver=s,A.ResizeObserverEntry=h,A}; // eslint-disable-line\n",
       "mpl.toolbar_items = [[\"Home\", \"Reset original view\", \"fa fa-home icon-home\", \"home\"], [\"Back\", \"Back to previous view\", \"fa fa-arrow-left icon-arrow-left\", \"back\"], [\"Forward\", \"Forward to next view\", \"fa fa-arrow-right icon-arrow-right\", \"forward\"], [\"\", \"\", \"\", \"\"], [\"Pan\", \"Left button pans, Right button zooms\\nx/y fixes axis, CTRL fixes aspect\", \"fa fa-arrows icon-move\", \"pan\"], [\"Zoom\", \"Zoom to rectangle\\nx/y fixes axis, CTRL fixes aspect\", \"fa fa-square-o icon-check-empty\", \"zoom\"], [\"\", \"\", \"\", \"\"], [\"Download\", \"Download plot\", \"fa fa-floppy-o icon-save\", \"download\"]];\n",
       "\n",
       "mpl.extensions = [\"eps\", \"jpeg\", \"pgf\", \"pdf\", \"png\", \"ps\", \"raw\", \"svg\", \"tif\"];\n",
       "\n",
       "mpl.default_extension = \"png\";/* global mpl */\n",
       "\n",
       "var comm_websocket_adapter = function (comm) {\n",
       "    // Create a \"websocket\"-like object which calls the given IPython comm\n",
       "    // object with the appropriate methods. Currently this is a non binary\n",
       "    // socket, so there is still some room for performance tuning.\n",
       "    var ws = {};\n",
       "\n",
       "    ws.binaryType = comm.kernel.ws.binaryType;\n",
       "    ws.readyState = comm.kernel.ws.readyState;\n",
       "    function updateReadyState(_event) {\n",
       "        if (comm.kernel.ws) {\n",
       "            ws.readyState = comm.kernel.ws.readyState;\n",
       "        } else {\n",
       "            ws.readyState = 3; // Closed state.\n",
       "        }\n",
       "    }\n",
       "    comm.kernel.ws.addEventListener('open', updateReadyState);\n",
       "    comm.kernel.ws.addEventListener('close', updateReadyState);\n",
       "    comm.kernel.ws.addEventListener('error', updateReadyState);\n",
       "\n",
       "    ws.close = function () {\n",
       "        comm.close();\n",
       "    };\n",
       "    ws.send = function (m) {\n",
       "        //console.log('sending', m);\n",
       "        comm.send(m);\n",
       "    };\n",
       "    // Register the callback with on_msg.\n",
       "    comm.on_msg(function (msg) {\n",
       "        //console.log('receiving', msg['content']['data'], msg);\n",
       "        var data = msg['content']['data'];\n",
       "        if (data['blob'] !== undefined) {\n",
       "            data = {\n",
       "                data: new Blob(msg['buffers'], { type: data['blob'] }),\n",
       "            };\n",
       "        }\n",
       "        // Pass the mpl event to the overridden (by mpl) onmessage function.\n",
       "        ws.onmessage(data);\n",
       "    });\n",
       "    return ws;\n",
       "};\n",
       "\n",
       "mpl.mpl_figure_comm = function (comm, msg) {\n",
       "    // This is the function which gets called when the mpl process\n",
       "    // starts-up an IPython Comm through the \"matplotlib\" channel.\n",
       "\n",
       "    var id = msg.content.data.id;\n",
       "    // Get hold of the div created by the display call when the Comm\n",
       "    // socket was opened in Python.\n",
       "    var element = document.getElementById(id);\n",
       "    var ws_proxy = comm_websocket_adapter(comm);\n",
       "\n",
       "    function ondownload(figure, _format) {\n",
       "        window.open(figure.canvas.toDataURL());\n",
       "    }\n",
       "\n",
       "    var fig = new mpl.figure(id, ws_proxy, ondownload, element);\n",
       "\n",
       "    // Call onopen now - mpl needs it, as it is assuming we've passed it a real\n",
       "    // web socket which is closed, not our websocket->open comm proxy.\n",
       "    ws_proxy.onopen();\n",
       "\n",
       "    fig.parent_element = element;\n",
       "    fig.cell_info = mpl.find_output_cell(\"<div id='\" + id + \"'></div>\");\n",
       "    if (!fig.cell_info) {\n",
       "        console.error('Failed to find cell for figure', id, fig);\n",
       "        return;\n",
       "    }\n",
       "    fig.cell_info[0].output_area.element.on(\n",
       "        'cleared',\n",
       "        { fig: fig },\n",
       "        fig._remove_fig_handler\n",
       "    );\n",
       "};\n",
       "\n",
       "mpl.figure.prototype.handle_close = function (fig, msg) {\n",
       "    var width = fig.canvas.width / fig.ratio;\n",
       "    fig.cell_info[0].output_area.element.off(\n",
       "        'cleared',\n",
       "        fig._remove_fig_handler\n",
       "    );\n",
       "    fig.resizeObserverInstance.unobserve(fig.canvas_div);\n",
       "\n",
       "    // Update the output cell to use the data from the current canvas.\n",
       "    fig.push_to_output();\n",
       "    var dataURL = fig.canvas.toDataURL();\n",
       "    // Re-enable the keyboard manager in IPython - without this line, in FF,\n",
       "    // the notebook keyboard shortcuts fail.\n",
       "    IPython.keyboard_manager.enable();\n",
       "    fig.parent_element.innerHTML =\n",
       "        '<img src=\"' + dataURL + '\" width=\"' + width + '\">';\n",
       "    fig.close_ws(fig, msg);\n",
       "};\n",
       "\n",
       "mpl.figure.prototype.close_ws = function (fig, msg) {\n",
       "    fig.send_message('closing', msg);\n",
       "    // fig.ws.close()\n",
       "};\n",
       "\n",
       "mpl.figure.prototype.push_to_output = function (_remove_interactive) {\n",
       "    // Turn the data on the canvas into data in the output cell.\n",
       "    var width = this.canvas.width / this.ratio;\n",
       "    var dataURL = this.canvas.toDataURL();\n",
       "    this.cell_info[1]['text/html'] =\n",
       "        '<img src=\"' + dataURL + '\" width=\"' + width + '\">';\n",
       "};\n",
       "\n",
       "mpl.figure.prototype.updated_canvas_event = function () {\n",
       "    // Tell IPython that the notebook contents must change.\n",
       "    IPython.notebook.set_dirty(true);\n",
       "    this.send_message('ack', {});\n",
       "    var fig = this;\n",
       "    // Wait a second, then push the new image to the DOM so\n",
       "    // that it is saved nicely (might be nice to debounce this).\n",
       "    setTimeout(function () {\n",
       "        fig.push_to_output();\n",
       "    }, 1000);\n",
       "};\n",
       "\n",
       "mpl.figure.prototype._init_toolbar = function () {\n",
       "    var fig = this;\n",
       "\n",
       "    var toolbar = document.createElement('div');\n",
       "    toolbar.classList = 'btn-toolbar';\n",
       "    this.root.appendChild(toolbar);\n",
       "\n",
       "    function on_click_closure(name) {\n",
       "        return function (_event) {\n",
       "            return fig.toolbar_button_onclick(name);\n",
       "        };\n",
       "    }\n",
       "\n",
       "    function on_mouseover_closure(tooltip) {\n",
       "        return function (event) {\n",
       "            if (!event.currentTarget.disabled) {\n",
       "                return fig.toolbar_button_onmouseover(tooltip);\n",
       "            }\n",
       "        };\n",
       "    }\n",
       "\n",
       "    fig.buttons = {};\n",
       "    var buttonGroup = document.createElement('div');\n",
       "    buttonGroup.classList = 'btn-group';\n",
       "    var button;\n",
       "    for (var toolbar_ind in mpl.toolbar_items) {\n",
       "        var name = mpl.toolbar_items[toolbar_ind][0];\n",
       "        var tooltip = mpl.toolbar_items[toolbar_ind][1];\n",
       "        var image = mpl.toolbar_items[toolbar_ind][2];\n",
       "        var method_name = mpl.toolbar_items[toolbar_ind][3];\n",
       "\n",
       "        if (!name) {\n",
       "            /* Instead of a spacer, we start a new button group. */\n",
       "            if (buttonGroup.hasChildNodes()) {\n",
       "                toolbar.appendChild(buttonGroup);\n",
       "            }\n",
       "            buttonGroup = document.createElement('div');\n",
       "            buttonGroup.classList = 'btn-group';\n",
       "            continue;\n",
       "        }\n",
       "\n",
       "        button = fig.buttons[name] = document.createElement('button');\n",
       "        button.classList = 'btn btn-default';\n",
       "        button.href = '#';\n",
       "        button.title = name;\n",
       "        button.innerHTML = '<i class=\"fa ' + image + ' fa-lg\"></i>';\n",
       "        button.addEventListener('click', on_click_closure(method_name));\n",
       "        button.addEventListener('mouseover', on_mouseover_closure(tooltip));\n",
       "        buttonGroup.appendChild(button);\n",
       "    }\n",
       "\n",
       "    if (buttonGroup.hasChildNodes()) {\n",
       "        toolbar.appendChild(buttonGroup);\n",
       "    }\n",
       "\n",
       "    // Add the status bar.\n",
       "    var status_bar = document.createElement('span');\n",
       "    status_bar.classList = 'mpl-message pull-right';\n",
       "    toolbar.appendChild(status_bar);\n",
       "    this.message = status_bar;\n",
       "\n",
       "    // Add the close button to the window.\n",
       "    var buttongrp = document.createElement('div');\n",
       "    buttongrp.classList = 'btn-group inline pull-right';\n",
       "    button = document.createElement('button');\n",
       "    button.classList = 'btn btn-mini btn-primary';\n",
       "    button.href = '#';\n",
       "    button.title = 'Stop Interaction';\n",
       "    button.innerHTML = '<i class=\"fa fa-power-off icon-remove icon-large\"></i>';\n",
       "    button.addEventListener('click', function (_evt) {\n",
       "        fig.handle_close(fig, {});\n",
       "    });\n",
       "    button.addEventListener(\n",
       "        'mouseover',\n",
       "        on_mouseover_closure('Stop Interaction')\n",
       "    );\n",
       "    buttongrp.appendChild(button);\n",
       "    var titlebar = this.root.querySelector('.ui-dialog-titlebar');\n",
       "    titlebar.insertBefore(buttongrp, titlebar.firstChild);\n",
       "};\n",
       "\n",
       "mpl.figure.prototype._remove_fig_handler = function (event) {\n",
       "    var fig = event.data.fig;\n",
       "    if (event.target !== this) {\n",
       "        // Ignore bubbled events from children.\n",
       "        return;\n",
       "    }\n",
       "    fig.close_ws(fig, {});\n",
       "};\n",
       "\n",
       "mpl.figure.prototype._root_extra_style = function (el) {\n",
       "    el.style.boxSizing = 'content-box'; // override notebook setting of border-box.\n",
       "};\n",
       "\n",
       "mpl.figure.prototype._canvas_extra_style = function (el) {\n",
       "    // this is important to make the div 'focusable\n",
       "    el.setAttribute('tabindex', 0);\n",
       "    // reach out to IPython and tell the keyboard manager to turn it's self\n",
       "    // off when our div gets focus\n",
       "\n",
       "    // location in version 3\n",
       "    if (IPython.notebook.keyboard_manager) {\n",
       "        IPython.notebook.keyboard_manager.register_events(el);\n",
       "    } else {\n",
       "        // location in version 2\n",
       "        IPython.keyboard_manager.register_events(el);\n",
       "    }\n",
       "};\n",
       "\n",
       "mpl.figure.prototype._key_event_extra = function (event, _name) {\n",
       "    var manager = IPython.notebook.keyboard_manager;\n",
       "    if (!manager) {\n",
       "        manager = IPython.keyboard_manager;\n",
       "    }\n",
       "\n",
       "    // Check for shift+enter\n",
       "    if (event.shiftKey && event.which === 13) {\n",
       "        this.canvas_div.blur();\n",
       "        // select the cell after this one\n",
       "        var index = IPython.notebook.find_cell_index(this.cell_info[0]);\n",
       "        IPython.notebook.select(index + 1);\n",
       "    }\n",
       "};\n",
       "\n",
       "mpl.figure.prototype.handle_save = function (fig, _msg) {\n",
       "    fig.ondownload(fig, null);\n",
       "};\n",
       "\n",
       "mpl.find_output_cell = function (html_output) {\n",
       "    // Return the cell and output element which can be found *uniquely* in the notebook.\n",
       "    // Note - this is a bit hacky, but it is done because the \"notebook_saving.Notebook\"\n",
       "    // IPython event is triggered only after the cells have been serialised, which for\n",
       "    // our purposes (turning an active figure into a static one), is too late.\n",
       "    var cells = IPython.notebook.get_cells();\n",
       "    var ncells = cells.length;\n",
       "    for (var i = 0; i < ncells; i++) {\n",
       "        var cell = cells[i];\n",
       "        if (cell.cell_type === 'code') {\n",
       "            for (var j = 0; j < cell.output_area.outputs.length; j++) {\n",
       "                var data = cell.output_area.outputs[j];\n",
       "                if (data.data) {\n",
       "                    // IPython >= 3 moved mimebundle to data attribute of output\n",
       "                    data = data.data;\n",
       "                }\n",
       "                if (data['text/html'] === html_output) {\n",
       "                    return [cell, data, j];\n",
       "                }\n",
       "            }\n",
       "        }\n",
       "    }\n",
       "};\n",
       "\n",
       "// Register the function which deals with the matplotlib target/channel.\n",
       "// The kernel may be null if the page has been refreshed.\n",
       "if (IPython.notebook.kernel !== null) {\n",
       "    IPython.notebook.kernel.comm_manager.register_target(\n",
       "        'matplotlib',\n",
       "        mpl.mpl_figure_comm\n",
       "    );\n",
       "}\n"
      ],
      "text/plain": [
       "<IPython.core.display.Javascript object>"
      ]
     },
     "metadata": {},
     "output_type": "display_data"
    },
    {
     "data": {
      "text/html": [
       "<img src=\"data:image/png;base64,iVBORw0KGgoAAAANSUhEUgAABXgAAAK8CAYAAABV1dcbAAAgAElEQVR4nOzdeXhU5d3/8RNCEiqEgCxiASNapVrQ1qXSxwUxv6pVCloral3io49btbhUa6BgVKSgoKhlVRG1lAgSBCTIJgEREAgEAsgaIkQIS4CEBLJN5vP7IyYymZlkzmRmTk7m/bqu7+XlzDn3/T2TieN8cs89hgAAAAAAAAAAtmRY3QAAAAAAAAAAwD8EvAAAAAAAAABgUwS8AAAAAAAAAGBTBLwAAAAAAAAAYFMEvAAAAAAAAABgUwS8AAAAAAAAAGBTBLwAAAAAAAAAYFMEvAAAAAAAAABgUwS8AAAAAAAAAGBTBLwAAAAAAAAAYFMEvAAAAAAAAABgUwS8AAAAAAAAAGBTBLwAAAAAAAAAYFMEvAAAAAAAAABgUwS8AAAAAAAAAGBTBLwAAAAAAAAAYFMEvAAAAAAAAABgUwS8AAAAAAAAAGBTBLwAAAAAAAAAYFMEvAAAAAAAAABgUwS8AAAAAAAAAGBTBLwAAAAAAAAAYFMEvAAAAAAAAABgUwS8AAAAAAAAAGBTBLwAAAAAAAAAYFMEvAAAAAAAAABgUwS8AAAAAAAAAGBTBLwAAAAAAAAAYFMEvAAAAAAAAABgUwS8AAAAAAAAAGBTBLwAAAAAAAAAYFMEvAAAAAAAAABgUwS8AAAAAAAAAGBTBLwAAAAAAAAAYFMEvAAAAAAAAABgUwS8AAAAAAAAAGBTBLwAAAAAAAAAYFMEvAAAAAAAAABgUwS8AAAAAAAAAGBTBLwAAAAAAAAAYFMEvAAAAAAAAABgUwS8AAAAAAAAAGBTBLwAAAAAAAAAYFMEvAAAAAAAAABgUwS8AAAAAAAAAGBTBLwAAAAAAAAAYFMEvAAAAAAAAABgUwS8AAAAAAAAAGBTBLwAAAAAAAAAYFMEvAAAAAAAAABgUwS8AAAAAAAAAGBTBLwAAAAAAAAAYFMEvAAAAAAAAABgUwS8AAAAAAAAAGBTBLwAAAAAAAAAYFMEvAAAAAAAAABgUwS8AAAAAAAAAGBTBLwAAAAAAAAAYFMEvAAAAAAAAABgUwS8AAAAAAAAAGBTBLwAAAAAAAAAYFMEvAAAAAAAAABgUwS8AAAAAAAAAGBTBLwAAAAAAAAAYFMEvAAAAAAAAABgUwS8AAAAAAAAAGBTBLwAAAAAAAAAYFMEvAAAAAAAAABgUwS8AAAAAAAAAGBTBLwAAAAAAAAAYFMEvAAAAAAAAABgUwS8AAAAAAAAAGBTBLwAAAAAAAAAYFMEvAAAAAAAAABgUwS8AAAAAAAAAGBTBLwAAAAAAAAAYFMEvAAAAAAAAABgUwS8AAAAAAAAAGBTBLwAAAAAAAAAYFMEvAAAAAAAAABgUwS8AAAAAAAAAGBTBLwAAAAAAAAAYFMEvAAAAEAYqKysVG5urgoKClRYWEhRFEVRVCOtgoIC5ebmqrKy0ur/fYBNEPACAAAAYSA3N1eGYVAURVEUZZPKzc21+n8fYBMEvAAAAEAYKCgoqHmzaPXKJIqiKIqivFf1H2ULCgqs/t8H2AQBLwAAABAGCgsLZRiGCgsLrW4FAADUgddsmEXACwAAAIQB3iwCAGAPvGbDLAJeAAAAIAzwZhEAAHvgNRtmEfACAAAAYYA3iwAA2AOv2TCLgBcAAAAIA7xZBADAHnjNhlkEvAAAAECQjBgxQoZh6Omnn67zuBkzZqh79+6KiYlRjx49lJaW5nK/0+nU0KFD1alTJ7Vo0UIJCQnauXOnqV54swgAgD3wmg2zCHgBAACAIFi7dq3OPfdcXXLJJXUGvCtXrlRkZKTeeOMNfffddxoyZIiioqK0efPmmmNGjhypuLg4zZ49W5s2bVK/fv3UrVs3lZSU+NwPbxYBALAHXrNhFgEvAAAAEGBFRUW64IILtHjxYvXu3bvOgHfAgAG69dZbXW676qqr9Nhjj0mqWr3bqVMnjRo1qub+goICxcTEKCUlxeeeeLMIAIA98JoNswh4AQAAgAB74IEH9Mwzz0hSvQFv165dNWbMGJfbXnrpJV1yySWSpOzsbBmGoczMTJdjrrvuOg0cONDruKWlpSosLKyp3NzcoLxZvPf9b/WHt7/WwULfVxMDAADvCHhhFgEvAAAAEEApKSnq0aNHzfYJ9QW8UVFRmjZtmstt48aNU8eOHSVVbeFgGIYOHDjgcsydd96pAQMGeB03OTlZhmG4VaDfLMa/OE/xL87TnI37AzouAADhioAXZhHwAgAAAAGyb98+dezYUZs2baq5zaqAN1QreHv9a4niX5yn2Zk/BHRcAADCFQEvzCLgBQAAAALk888/l2EYioyMrCnDMBQREaHIyEg5HA63c4K1RUNtwXqzeM97qwl4AQAIIAJemEXACwAAAATIiRMntHnzZpe64oordN9992nz5s0ezxkwYID69u3rctvvfvc7ty9ZGz16dM39hYWFjeZL1gh4AQAILAJemEXACwAAAARR7S0a7r//fiUlJdX8+8qVK9W8eXONHj1a27ZtU3JysqKiolwC4ZEjR6pNmzaaM2eOsrKy1L9/f3Xr1q1mn19fEPACAGAPBLwwi4AXAAAACKLaAW/v3r2VmJjocsyMGTN04YUXKjo6Wr/61a+Ulpbmcr/T6dTQoUN11llnKSYmRgkJCdqxY4epPgh4AQCwBwJemEXACwAAAIQBAl4AAOyBgBdmEfACAAAAYSBYbxb/8j4BLwAAgUTAC7MIeAEAAIAwQMALAIA9EPDCLAJeAAAAIAwQ8AIAYA8EvDCLgBcAAAAIAwS8AADYAwEvzCLgBQAAAMIAAS8AAPZAwAuzCHgBAACAMBDsgPfzDQS8AAAEAgEvzCLgBQAAAMJAsN4s3vv+twS8AAAEEAEvzCLgBQAAAMIAAS8AAPZAwAuzCHgBAACAMEDACwCAPRDwwiwCXgAAACAMEPACAGAPBLwwi4AXAAAACAMEvAAA2AMBL8wi4AUAAADCAAEvAAD2QMALswh4AQAAgDAQrDeL931QFfDO2pAb0HEBAAhXBLwwi4AXAAAACAMEvAAA2AMBL8wi4AUAAADCAAEvAAD2QMALswh4AQAAgDBAwAsAgD0Q8MIsAl4AAAAgDBDwAgBgDwS8MIuAFwAAAAgDBLwAANgDAS/MIuAFAAAAwkCwA97U9QS8AAAEAgEvzCLgBQAAAMIAAS8AAPZAwAuzCHgBAACAMEDACwCAPRDwwiwCXgAAACAMEPACAGAPBLwwi4AXAAAACAMEvAAA2AMBL8wi4AUAAAACaPz48erZs6diY2MVGxurXr16af78+V6P7927twzDcKtbbrml5pjExES3+2+66SZTfRHwAgBgDwS8MIuAFwAAAAiguXPnKi0tTTt37tSOHTs0ePBgRUVFacuWLR6PP3r0qPLy8mpqy5YtioyM1JQpU2qOSUxM1M033+xy3LFjx0z1FeyAd2YGAS8AAIFAwAuzCHgBAACAIGvbtq0++OADn44dM2aMYmNjVVxcXHNbYmKi+vfv36AegvVm8f7Jawh4AQAIIAJemEXACwAAAASJw+FQSkqKoqOjtXXrVp/O6dGjhx555BGX2xITExUXF6cOHTrowgsv1OOPP678/HxTvRDwAgBgDwS8MIuAFwAAAAiwrKwstWzZUpGRkYqLi1NaWppP561Zs0aGYWjNmjUut6ekpGjOnDnKysrS559/rosuukhXXnmlHA6H17FKS0tVWFhYU7m5uQS8AADYAAEvzCLgBQAAAAKsrKxMu3btUkZGhpKSktS+fXufVvA++uij6tmzZ73HZWdnyzAMLVmyxOsxycnJHr+8jYAXAIDGjYAXZhHwAgAAAEGWkJCgRx99tM5jiouL1bp1a7399ts+jdm+fXtNnDjR6/2s4AUAwJ4IeGEWAS8AAAAQZH369FFiYmKdx0yZMkUxMTE+7a2bm5uriIgIzZkzx+ce2IMXAAB7IOCFWQS8AAAAQAAlJSVp+fLlysnJUVZWlpKSkhQREaFFixZJku6//34lJSW5nXfNNdforrvucru9qKhIzz//vFavXq2cnBwtWbJEl112mS644AKVlpb63Few3iw+8GPA+xkBLwAAAUHAC7MIeAEAAIAAeuihhxQfH6/o6Gh16NBBCQkJNeGuJPXu3dttNe/27dtlGIbLcdVOnTqlG2+8UR06dFBUVJTi4+P1yCOP6ODBg6b6IuAFAMAeCHhhFgEvAAAAEAYIeAEAsAcCXphFwAsAPsrPz9fcuXM1adIkDR8+XKNGjdLUqVO1efPmgM5TWlqqzZs3a968eZo4caJGjRqlYcOGacyYMfrwww+1YsUKFRcXB3TOUMvPz9eqVas0ffp0vfvuuxoxYoSGDx+usWPH6tNPP9W2bdvkdDqtbhMAmhQCXgAA7IGAF2YR8AJeJCYmyjAMtxo6dKhf46WkpLiMEx8fH9iGw0RlZaU2b96sDz/8UI8//rguv/xyRUVFBe2xdTqdmjlzpq666io1a9bM43Oies6RI0eqpKTE9BzHjx/X+++/rwcffFAXX3yxmjdv7nWe6oqMjNQNN9yglJQUVVZWmp4zOTm53jnqq969e/s838aNGzV8+HDdcsstOvvss30av02bNnr88ce1adMm09eHwCCI9660tFQbN27UtGnT9M477+i1117TmDFj9PHHH2v16tUqKyuzusUGaerXF64IeAEAsAcCXphFwAt44S3gjY2N1ZEjR0yPR8Drv/379+v555/Xddddp5YtW9YbDAbqsT1w4ID+53/+x1Toef755yszM9PUPIsXL25Q0HrFFVcoKyvL1JyhDnjvvfdev+dp1qyZBg4cqFOnTpm6RphnxyDe6XRq586dmjp1qp5++mn97ne/U4sWLdz6DISMjAwlJyfrmmuucfvDUu2KiYlRv379tGTJEtPzTJkypcG/n7UrOTm50VwfrEPACwCAPRDwwiwCXsALbwGvYRh67rnnTI9HwOu/9PR0U0FGIB7b7du3q0uXLh7Hj4iIUJs2bbwGILGxsfr22299nquugLdZs2Zq3bq1zjzzzDpX9rZu3VorV670ec7GFPBGR0erXbt2atWqlSIiIuqcr6ioyOc5YZ5dgviioiINHjxYv//979WmTRuf+muI1NRUnX/++X4/Nn/84x9NfRlWMALeYcOGNZrrg3WC9WYx8cOqgHfGun0BHRcAgHBFwAuzCHgBL+oKeFu0aKEffvjB1HgEvP4LdcBbVFSkiy66yG3c66+/XvPnz6/ZhsHpdGrr1q36xz/+oejoaJdjO3XqpLy8PJ/mqw54o6OjdcMNNyg5OVkLFixQTk6Oy/YLTqdTO3bs0NixY9W9e3e3/tq2batDhw75NGftgPfWW2/VhAkTTNWcOXN8fkyrg8NOnTrp7rvv1oQJE7R69WodO3bM5biTJ09q5cqVevrpp/Wzn/3M7Rr/8pe/+DwnzLNLEJ+Tk2M6hGyIF198sc6xIyIi1LZtW48rh6urc+fOysnJ8Wm+YAS869atazTXB+sQ8AIAYA8EvDCLgBfwoq6A1zAMPfbYY6bGI+D1X+2At02bNkpISNCgQYM0a9YsPfnkkwF9bGuPZxj1772ckZGhM8880+WcBx980Kf5du7cqf/+97+mXrzLysr06KOPuvX58MMP+3R+7YDXl49vN8Tnn3+ub775xtR+rbt379YvfvELt2v8+uuvg9hpeLNLEG91wNuqVSs98MAD+uijj7Rnzx5VVFTUHLt3716NHTtW8fHxbj384he/8Cn83r59u+k/uJxetVc19+jRo1FdH6xDwAsAgD0Q8MIsAl7Ai9oBb6dOnVz+PSoqSrt37/Z5PAJe/23evFlPP/20pk6dqh07driFhLXDyoY8tgcOHFBMTIzLeAMGDPDp3IULF7qc16xZM23ZssXvXurjdDrVu3dvlzljY2N9+qK3UAe8/tq+fbvb6uhHHnnE6raaLLsE8bUD3pYtW+raa6/Vc889p5SUFA0bNiwoAe8vf/lLTZo0yacQ88SJE+rfv79bH0lJSQ3qpT4bNmxwm3P06NF1nmOn60PDEPACAGAPBLwwi4AX8KJ2wPvII4+oZ8+eLrfde++9Po9HwBs8gQx4R4wY4TJW8+bNTW3Hceutt7qcf9999/ndiy/mzZvnFrCsWrWq3vPsEvBK0p///GeXXi+88EKrW0ItoQ7iDx06pMcff1yTJ09WVlaWHA6Hy/2etjhoiHHjxmny5Mlu89SntLRUV1xxhUsfZ5xxRlD3KR44cKDbf8Pq2x/XTteHhiHgBQDAHgh4YRYBL+BF7YD3scce0+zZs/1eoUnAGzyBDHh///vfu4x16623mjp/1qxZLufHxcWprKzM737qk5+f7xZkzZw5s97z7BTwjh492qXXVq1aWd0SPGhMQXygA96GWLp0qVsvc+fODcpc5eXlat++vctcf/zjH4MyV7VQXh8ajoAXAAB7IOCFWQS8gBeeAl5Juuqqq1xuv+2223waj4A3eAIZ8LZu3dplrJEjR5o6//Dhw25hx/z58/3upz5lZWVu882YMaPe8+wU8E6aNMlthSAan8YUxDemgLeyslLt2rVz6WXYsGFBmav2H5gMw1BqampQ5qoWyutDwwXrzeKDBLwAAAQUAS/MIuAFvPAW8C5ZssTtDfTatWvrHY+AN3gCFfCWlJT4tRq2tri4OJcxnnvuOb/68cWePXvcel69enW959kp4H3ppZdceu3evbvVLcGDxhTEN6aAV5LbNgZPPvlkUObp16+fyzzt27dXeXl5UOY6XaiuDw0X7IB3OgEvAAABQcALswh4AS+8BbyS1KdPH5f7fv/739c7HgFv8AQq4N2/f79bKLR48WLT45xzzjkuY9x0001+9eOLd955x2UuX7eEsFPAe9lll7n0+sQTT7gdU1BQoGbNmrn9/AJVX331lQVXbi+NKYhvbAHvJZdc4tLLU089FfA5Dh8+rKioKJd5Bg4cGPB5PAnF9SEwCHgBALAHAl6YRcALeFFXwLt69Wq38GDZsmV1jkfAGzyBCng97Wc7b9480+N07NjRZYxzzjnHr37qs3fvXnXo0MFlrkGDBvl0rqeA98SJE1q+fLmmT5+uyZMna9asWVq+fLny8/OD0r8vxo8f79JnZGSktm7d6nbcl19+GbRwt3nz5iouLrbg6u3FlyA+VBpTwFtZWanY2FiXXl577bWAz/PWW2+5XfOGDRsCPk9tobo+BAYBLwAA9kDAC7MIeAEv6gp4Jalv374u91999dV1jhfqgHfq1KmaMGFCyMpKgQp4KysrFRER4TLWlClTTI1RUVHhtoouIiJCJ0+e9Ksnb9LS0txWCvfo0cPneWo/Zm3atFFkZKTHgDMiIkIXX3yxBg0apLy8vIBehzdFRUUaMmSI26rcV1991ePxQ4YMCVrAe/nll4fkmu3M1yA+VBpTwOvpjw9ffvllwOe59NJLXea49NJLAz6HJ6G6PgQGAS8AAPZAwAuzCHgBL+oLeDdt2uQWBta12jPUAW98fHzQAi9PZaVAfsla165dXcYy+1HjzMxMj4/P/v37TY3z1VdfuQToY8eO1YgRI/Twww/r/PPPdxv/qquu0sGDB30ev/Zj5mvFxMTon//8pxwOh6nrqc3pdLr9keDtt9/W0KFD1b9/f7Vs2dJl3mbNmmno0KFex1uyZInef/99vf/++7r88stdzr3vvvtq7vNW1157rcs5f/rTn2ruq291vif79+8P6R9Yli5d2pAfh9/MBvGh0pgC3tr74rZs2VKlpaUBnWPDhg1u1ztmzJiAzuFNKK4PgUPACwCAPRDwwiwCXsCL+gJeSbr77rtdjvn1r38tp9PpcTwC3uAJZMB7zz33uIx17rnnqrKy0ufzX3nlFY+Pz/bt2031ce+99/r0uP/yl7/UhAkTVFFRYWp8fwPe6rrmmmtUUFBgas7TVVRU+DRP8+bN9cc//lFr1qzxeewePXq4jOFL+Hn11Ve7nDNr1iy/r02S0tPTQ/r7l5iY2KB+vQl0EB8qjSXg9fSlnMH4ArKBAwe6zBEVFaXDhw8HfJ7aQnV9CJxgvVn83ylrCXgBAAggAl6YRcALeOFLwLtjxw41b97c5bjp06d7HI+AN3gCGfB+9NFHbtfm7Wda24kTJ/Tzn//c4+OTkZFhqg9fAt6zzz5bL7/8sr7//nvT11n9mJ133nl66qmnNGPGDH333Xc6fvy4KioqdOzYMW3evFmTJk3Sdddd53H+G264QeXl5abnlnwPeK+//np99NFHPq8ILCkpcfudPH78eJ3nVFZWqlWrVi7n+POYnq6pBLzBDOKDqTEEvMePH9e5557r0kNsbGzAtzkpLy9X+/btXea57bbbAjqHJ6G6PgRW0APetQS8AAAEAgEvzCLgBbzwJeCVpIcfftjluF/+8pceP77Ol6wFTyAD3tLSUnXq1MllvLPOOkt79+6t8zyn06n777/fawC2YsUKU334uoK3OlwbOHCgTp065fP4CxYsMLX1wMKFC3XWWWe5ze3vak1fg8PTw+zPP/+83nHXrl3rcl63bt3qPWfbtm0u57Rt29avazpduAW8ZoP4YLM64HU6nerfv79bDxMnTgz4XLNmzXKbZ/bs2QGf53ShvD4EFgEvAAD2QMALswh4AS98DXj37t2rmJgYl2M//PBDt+MIeIMnkAGvJI0bN84tuIiPj9fy5cs9Hn/kyBG37TpqV2ZmZoN6Kisr08GDB5Wenq6XXnpJnTt3dpujV69eOnHiRIPmqUt2drY6dOjgMmfLli1N7f1bl6KiImVnZ+uzzz7TPffco+joaLdrfOONN+ocY9KkSS7H/+lPf6p33v/+978u59xwww0BuZ6mIFhBfLBZHfB6+tK/fv36BWWu2nvgduzY0fSWLWaF8voQWAS8AADYAwEvzCLgBbzwNeCV3Pc/jI+PV1lZmcsxBLzBE+iAV5Juu+02jwFWr169NHjwYL3zzjsaPny4BgwY4Pbx/r59+7qdl5OT0+CeTldSUqJnnnnGbZ477rgjoPPUNnfuXLc5X3/99aDMtW3bNv361792m2/u3Llez3n88cddjh02bFi98/z97393Oefvf/97IC+jyQlEEB9sVga8tf/IYBhVn+w4duxYwOc6fPiwoqKiXOZ69tlnAz7P6UJ5fQg8Al4AAOyBgBdmEfACXpgJeA8ePOj2ZUP//ve/XY4h4A2eYAS8J0+e9PgR5Prqb3/7m2bOnOl2e337wPrrH//4h9tcixcvDspc1X7zm9+EbMXrsWPH1L17d7efr6dtUCTpqquucjl23rx59c7Rp08fl3OmTp0a6Mto0vwJ4oPNqoB35syZatasmcu8Xbp00b59wQm93nrrLbfrzMrKCspcUuivD4FHwAsAgD0Q8MIsAl7ACzMBryQNGjTI5fhOnTrp5MmTNfcT8AZPMAJeqerLt0aNGqUzzzyz3mC3devWmjJliiT3cCk2NlZOpzMgPdVWVlambt26uczny7YEDfHSSy+5zNeqVaugzrdo0SKfwkOHw6Gf/exnLsft37+/3vHbtGnjcs7WrVuDcRlNmtkgPtisCHgXLlzotpq5ffv22rZtW9DmvPTSS13mu+yyy4I2lxXXh8Aj4AUAwB4IeGEWAS/ghdmA9/jx425B0ciRI2vuD3XAO3XqVE2YMCFkZaVgBbzVCgoK9MEHH+jOO+/UBRdcoDZt2igmJkbnnnuuEhISNH78eJePJ7/88ssu/Vx//fUB7ae22n9cOPPMM4M636effuoWnpn5gjeznE6nfv7zn7vM5+lj6Fu3bnU5pmPHjvWOnZ2d7XLOGWecYVkoaXe+BvGhEOqAd+XKlW6f4mjdurXWr18ftDk3bNjgdo21PzkSKFZcH4IjWG8WH/ox4P10bd1fSAoAAHxDwAuzCHgBL8wGvJL02muvuQVtBQUFkkIf8MbHx9e76jSQZaVgB7xm3XHHHS79vPDCC0Gdb8aMGW4/j+rnXTB4CvJ8WSnbELfccovLfLfddpvbMVOnTnU55qabbqp33M8++8zlnF69egWk3/3794f0DyxLly4NSN8N4WsQHwqhDHgzMzPd/rh3xhln6Ouvvw7anJL73u/R0dE6evRowOex6voQHAS8AADYAwEvzCLgBbzwJ+AtLi5Wx44dXc4bOnSoJALeYGpsAW/tx3727NlBnW/hwoVuP48DBw4EbT5PgXJxcXHQ5pOke+65x2W+G2+80e2Y2l+WlpSUVO+4tVc/P/HEEwHpNz09PaS/f4mJiQHpu6F8CeJDIVQB77Zt29ShQwe3oHXBggVBma9aeXm52rdv7zJvML5g0arrawrGjx+vnj17KjY2VrGxserVq5fmz5/v9XhPz9mYmBiXY5xOp4YOHapOnTqpRYsWSkhI0M6dO031RcALAIA9EPDCLAJewAt/Al5JGjNmjMt5sbGxOnLkCAFvEDWmgHf16tUuvXTo0EFlZWVBnXPatGkuc0ZERKi8vDxo8w0fPtxlvjPOOCNoc1W78cYbXea899573Y6p/WVp06dPr3fcm266yeWc9957LyD9hmvA60sQHwqhCHhzcnLUuXNnlzkiIyOVmpoa8LlqmzVrltv1+fKFgmZYeX1Nwdy5c5WWlqadO3dqx44dGjx4sKKiorRlyxaPx0+ZMkWtW7dWXl5eTR08eNDlmJEjRyouLk6zZ8/Wpk2b1K9fP3Xr1k0lJSU+90XACwCAPRDwwiwCXsALfwPe0tJSde3a1eXcZ599li9ZC6LGFPA+/PDDLr08//zzQZ/z2WefdQuVg+nqq692mS9Q2xp4U1lZ6bZa0dO2F23btnU5ZteuXfWOXXvF/bp16wLSc7gGvL4E8aEQ7IB3//79Ou+889z+sPLxxx8HdB5v+vXr5zJ3p06dArp3tNXX11S1bdtWH3zwgcf7pkyZori4OK/nOp1OderUSaNGjaq5raCgQDExMUpJSfG5BwJeAADsgYAXZtzhIn8AACAASURBVBHwAl74G/BK0nvvvedybosWLTR69OhGE0I2NY0l4M3IyFCzZs1q+oiJiVF2dnZQ5zx16pTbKrt77rknaPMtW7bMLTh7+eWXgzafJM2ZM8dtzoULF7ock5OT43J/bGysnE5nnePm5ua6nNO8eXNTK+HgytcgPhSCGfDm5+fr4osvdht/3LhxAZujLocPH1ZUVFTQHmerr68pcjgcSklJUXR0tLZu3erxmClTpigyMlLnnHOOunTpon79+rms9q3+QsjMzEyX86677joNHDjQ514IeAEAsAcCXphFwAt40ZCAt6KiQhdccIHbCqvGEEI2RY0h4M3Ly1P37t1d+nj11VfrPa+h2zf87W9/cwtiZs6cWec59QWf3hw8eFDnnnuuy1xRUVH1rpQtLS31az6pKsyqvZLwzDPPdHvcan9k/dprr6137Llz57qc07NnT7/7hG9BfKgEK+AtLCzUFVdc4Tb2yJEjAzK+L9566y23+b2FhmY1hutrSrKystSyZUtFRkYqLi5OaWlpXo9dtWqVPv74Y2VmZmrZsmXq27evWrdurdzcXEnSypUrZRju+6vfeeedGjBggNdxS0tLVVhYWFPVf9gK9JvFhz8i4AUAIJAIeGEWAS/gRUMCXsl9X9TaRcAbOIEOeEtKSjR79myfP/K8fv16t3D3V7/6lU/hbXp6unr16qVFixaZCl5PnDihxx57zO159dvf/rbecXr37q1x48bp1KlTPs+XmZnp9kcLwzD05JNP1nvuI488or/+9a/au9fcG//MzEyPKwnHjh3rduzQoUNdjvFlRVvtvYSt2k6gsQhFEF+bp60spkyZ4ncf1YIR8J46dUrXXXed27j//Oc/Gzy2GZdeeqnL/FdeeWVAxm0s19eUlJWVadeuXcrIyFBSUpLat2/vcxhfXl6u888/X0OGDJHkf8Bb+/WxuoIV8KasIeAFACAQCHhhFgEv4EVDA16n06mePXsS8AbI0qVLNWHCBI916623ugVL3o6dMGFCvXMdP35chmGoc+fOevLJJzV37tyaVVTVjh07ptmzZ+vee+912ZbBMAy1a9dOO3bs8Om6Tg+4unbtqmeffVYzZ85Udna2Kioq3PpKT0/XCy+8oLPOOsvtOdW6dWtt3Lix3jmrv4CvZcuWuuuuuzRlyhRlZma6bU9w9OhRzZ07V3fddZciIyPd5rv00kt9+h+O6t+liIgIXXPNNRo1apSWLl2q/Px8l+OcTqf27Nmj6dOn609/+pPHOW+44QaPwXvfvn1Nh4S1f8dffPHFes9pykIRxNdml4C3vLxct9xyi9uYZj4aHwgbNmxw62H8+PENHrexXF9Tl5CQoEcffdTn4//85z/r7rvvluT/Fg2hXsFLwAsAQGAQ8MIsAl7Ai4YGvJLnjywT8Pqn9s+jIVWf6oC3dkVFRaldu3aKjo72OvbZZ5+trKwsn6+rvi/jatmypdq3b6+YmJg6j4uLi9Pq1at9mrM64PVULVq08Gm+iy66yG0lmTd1/ewiIyPVtm1bxcXFuQXltatPnz46efKkxzlq70PsS9D9hz/8weWculbBhYNQBPG1NSTgXbdundc/4jzwwANu49b1R58TJ07UOdcTTzzhNl7Xrl01fvz4Osf1VlOnTvXpGmsbOHCgSw8xMTE6fvy4X2M1xutr6vr06ePzFyI6HA51795dzz77rKSfvmRt9OjRNccUFhY2mi9ZI+AFACCwCHhhFgEv4EUgAl5Juuqqqwh4A6AxBLz1Vb9+/XTw4EFT11VfwOtL9e/f322FcV3qCnjrq2bNmunJJ580tb1DQ392Z5xxhkaNGuU1MDx8+LDL8dHR0SovL6+3r5tvvtltrgEDBmjIkCGaOHGiz9fXVIQiiK+tIQGvt4+e+1M5OTl1ztW7d++AzWUY/v33v7y83O1L7O666y7T4zTW62tqkpKStHz5cuXk5CgrK0tJSUmKiIjQokWLJEn333+/kpKSao5/5ZVXtHDhQmVnZ2v9+vW6++671aJFC5ctHUaOHKk2bdpozpw5ysrKUv/+/dWtWzdTXw5JwAsAgD0Q8MIsAl7Ai0AFvEuWLOENcACEMuCtqKjQyJEjde2119a7kjUmJka33Xab0tPT/bouh8OhFStWaNCgQfrd736nFi1a+HQNZ599tv76178qIyPD9Jzz58/XwIED9Zvf/KbO1ci1n6/PP/+89uzZY3q+Y8eOKSUlRYmJifrFL37h03yRkZG6/PLLNWbMGB05cqTO8RcuXOhy7mWXXeZTX56+oK66Bg0aZPo67S7YQbwnBLy+q/1FgoZh6MsvvzQ9TmO9vqbmoYceUnx8vKKjo9WhQwclJCTUhLtS1WN++mreZ555Ruecc46io6N11lln6ZZbbtGGDRtcxnQ6nRo6dKjOOussxcTEKCEhweftgKoR8AIAYA8EvDCLgBcA6lBWVqaMjAylpKRozJgxGjZsmEaMGKH33ntPy5YtM7WS1Rfl5eXavHmz5syZo/Hjx+v111/XsGHDNGbMGE2ePFlpaWk+b43g63xZWVmaO3euJk6cqDfeeEOvvvqqRo8ercmTJ+uLL75QXl5ewOaTqgLflStXatq0aXr77bc1fPhw/etf/9LYsWP1n//8R6tWrfJ5BahUtart9HDp4Ycf9um83bt3q1OnTh4DqtmzZ/t7ebYV7CDeEwJe3/Xv399ljJ///OemwvTGfn0IjeAFvOsIeAEACCACXphFwAsACFuFhYX69NNPNWLECL3++uv68MMPtWnTJlVWVlrdmuUCHcQDsF6wA95pBLwAAAQEAS/MIuAFAAAAwgABLwAA9kDAC7MIeAEAAIAwQMALAIA9EPDCLAJeAAAAIAwQ8AIAYA8EvDCLgBcAAAAIAwS8AADYAwEvzCLgBQAAAMJAsN4s/t/HBLwAAAQSAS/MIuAFAAAAwkCwA97/fkvACwBAIBDwwiwCXgAAACAMEPACAGAPBLwwi4AXAAAACAMEvAAA2AMBL8wi4AUAAADCAAEvAAD2QMALswh4AQAAgDBAwAsAgD0Q8MIsAl4AAAAgDATrzeIjBLwAAAQUAS/MIuAFAAAAwgABLwAA9kDAC7MIeAEAAIAwEOyAd+q33wd0XAAAwhUBL8wi4AUAAADCAAEvAAD2QMALswh4AQAAgDBAwAsAgD0Q8MIsAl6ErbIyacwY6amnqv5ZVuZ6v8MhpadL06ZJS5ZU1bRpVbc5HK73V9/m6dzT76vrnNrqmz+YavdZVlb1z6lTqx6rqVND04enXhoyZ/VYZq6jvudJIPl0rf48IH4+iPU9x5cskQYPlu67r+qfCxcG5nlaPfaQIVW1ZEnDn2uBeh4F+vfSU1/B6DVUv6/BYPY6msp1A8FAwAsAgD0Q8MIsAl6EpRdekCIjJcP4qSIjq26XpNRUqUsX1/tPr3btqur027p0qTrP07ldulSNXfv2M8+UkpPdQ6L65u/QQfrsM9+u1VtY6y388DR37cequjp3lh58sO7w05ewxdsx3h7L1FTfQ5zq4555pupx83Ydqanu53p6nkRESHfd5Vto5BIOj3aobGG612Qw9TOHunQo8Xitdf5w3A7y4cK9nVPPVC1bSpdeKt18c9Vz19vz08Q0Lq1Omya98ornsdu1+2kss6G7p2vp3LlqLjMhYH2/l76OWdePpq7/ttT1h6PqsP3++6v+mZzs3muHDtL06cH7w1EwglgzT3l/jgfCTbDeLD76CQEvAACBRMALswh40SSYCRZeeKHuUKp//6oQr77wqnb5c4638NjXY6sDaW8++8w9QKrdZ3S09Kc/VQU9n33WsOs4PSSXfAtbZsxwv+a2batCVDOPU2xs1XWMHv3TytxPP5Xat/e9/9P7qu950qpV3blq375Ss2a1Hh+jQi8YI90GS231gCKMShlGpevPynAqIuLHeVJTPf9wqm/7859/Wu46Y0bdSWR1PfOMx18Yb1P58zsREVH1vPIWTHoLdL3V1Vd7eFwjvf8u+Hotpz8vPf33xJ/HxFOwWF9I7O1x9PSc79Kl6vekVauG/6y89eurQASxZ55Z9XyoXsX8yit1P69OH9vs8UC4IuAFAMAeCHhhlmF1A0BD+RIsVAc2n3ziHg7ZvWbM+OkaT/9Y+4AB5scK1GPzwgv1B2KpqfWHqKGudu2qHseyMu+rlj1dR13PRddyyjCcLiGvw2imLsY+1Q53qyvCcKprF6ccnc8J3oWflqw5HOYDyPqq9vOgekW7mWDX1+fd6fy5lltukeLi3Pv1p9fawWKggvNgVXVvZlY2+xKs1g74Z8yo+3Fo1cq3x7tz55/C986d67+2rl3ZrgEIdsD7n9XfB3RcAADCFQEvzDKsbgDw1969ezVqVLaqQzPXN/RVt40ala1Ro7LVsWOZ5eFJsKpt23K9/nq24uIqPNxf+3EJRTnVrJlT7dqV1TG/U82bO7z87KytCRN26Lnn9vl8rW3OKNZ3E97TqNd3+Xg9TkUaFSozmkuGoXSjt09zpRu9g37xpa1aacpDn4TkORL4n33V827cuB0aPnyPJk3aoXHjdgSwX//PPeusMn3zzXq1aVMe4GsO1s/mp3/v2LFMo0Zla+3a9Zo06afHdu3a9Ro1KlsdOtT339aqn8vpt1X9e12Pg+/PjXbtSk0dn55u9SsXYC0CXgAA7IGAF2YZVjcA+OtnP2slo46Vj1W3Hzf15t++FQ7XGKp6RYbxrqlzFhoJOrvO56J7jTGelgxD04y7fTp+mnF30C/eaRia6mM/9ihHI+ihuo41gh78qeqtQ47Uur3gtPus7tH3mjbN6lcuwFoEvAAA2AMBL8wyrG4A8Jfh48rH8CjC3UDV9dcf0513HjJ1zn3GR6bnecp4VzIa1wpeGYaWNqnfq8b0e9GYevGndzv3/1OxghfhjoAXAAB7IOCFWYbVDQD+Mow3LQ8LqKZcvodatxkzTY9fvYK3eg/eCK978Faqq7FXDiM0m0f/1E/TCPQoqqqc7MELiIAXAAC7IOCFWYbVDQD+qvqIsNWhAdV0y/eAd7TxjKlxT9+DV4ahVON2RRiVbiFv9W2pxu0hvfiqfpxeQ2eKsldV/S5/9pnVr1oIJ+PHj1fPnj0VGxur2NhY9erVS/Pnz/d6/HvvvadrrrlGbdq0UZs2bZSQkKA1a9a4HJOYmCjDMFzqpptuMtVXsN4sPvZJBgEvAAABRMALswyrGwD8ZX1oQDX9qv/LoNoZh1VmNK9zFW7t8V4wRrrdmWrcri6G65e7dTX2hjzcrasf92ux+udDUb5XcrLVr1oIJ3PnzlVaWpp27typHTt2aPDgwYqKitKWLVs8Hv+Xv/xF48aNU2ZmprZt26YHH3xQcXFx+uGHH2qOSUxM1M0336y8vLyaOnbsmKm+gh3wfrL6+4COCwBAuCLghVmG1Q0A/rI6LKDCqTwFvVW3VQew3lbhnl6RRoXHcLe6HEYzpRu9Nc24W+lG75Bty1BfP5cbaz1ef6RR5uF2imq8lZpq9SsXwlnbtm31wQcf+HSsw+FQbGysPv7445rbEhMT1b9//wb1QMALAIA9EPDCLMPqBgB/WR0UUOFTzxhvuq1m7eJhda2nVa9xxlHdbMzTGONpl20Z7FanjGg9afxbNxpf6knj3zplRCvVuF2GUSnP4bflLVOUW7Vrxz68CD2Hw6GUlBRFR0dr69atPp1z4sQJtWjRQl988UXNbYmJiYqLi1OHDh104YUX6vHHH1d+fr6pXgh4AQCwBwJemGVY3QDgL6uDAip8qno1rS+raxvbKtxgV6pxuzrXCrWbGRV1nOJL+EtATAWvliyx+tUL4SIrK0stW7ZUZGSk4uLilJaW5vO5TzzxhM477zyVlJTU3JaSkqI5c+YoKytLn3/+uS666CJdeeWVctTxV4vS0lIVFhbWVG5urgh4AQBo/Ah4YZZhdQOAv6wOCaimXxFGpboae5t8SNvQqh1qlxnNa/59idFHS4w+mmbcrVeMIW5hcKxxXD8zTtYa0imDL3ijglRDhlj96oVwUVZWpl27dikjI0NJSUlq3769Tyt4R4wYobZt22rTpk11HpednS3DMLSkjr9aJCcnq/YXsxHwAgDQ+BHwwizD6gYAf1kdElBNrVxXjVbvp2vVl5w11fK0wrn2bZ8Zd3j4gjeH1a1TTaQIeGGVhIQEPfroo3UeM2rUKMXFxWndunU+jdm+fXtNnDjR6/2hWsH7+H8IeAEACCQCXphlWN0A4C+rQwLKTuXtI/+VamccUbLxklug2NXDHrtU6MrTquBXjCFidS/V0GKLBlilT58+SkxM9Hr/66+/rtatW2v16tU+jZebm6uIiAjNmTPH5x6C9WaRgBcAgMAi4IVZhtUNAP6yOiSgGm9FuK32dA8Fa6/QDbe9c+1anr7IjqJ8Lb5kDaGSlJSk5cuXKycnR1lZWUpKSlJERIQWLVokSbr//vuVlJRUc/zIkSMVHR2tmTNnKi8vr6aKiookSUVFRXr++ee1evVq5eTkaMmSJbrssst0wQUXqLS01Oe+gh7wrsoJ6LgAAIQrAl6YZVjdAOAvq4MCqvHW08Zb9X7knxW69q3qMP5mY54fp/MFbuFZVT/31FSrX7kQLh566CHFx8crOjpaHTp0UEJCQk24K0m9e/d2Wc0bHx8vT3vlJicnS5JOnTqlG2+8UR06dFBUVJTi4+P1yCOP6ODBg6b6IuAFAMAeCHhhlmF1A4C/rA8Mwqeio63vwUylG73dbmSFbtOrdKO36dOasZdvmBYBLyAR8AIAYBcEvDDLsLoBwF/WBwbhURERUsuW1vfhU69Gpboaewlvw6QcRjN1MfYpwuuevJXqbOzVEqNPTbB/yohWe+OQ2Mc3/CoiQuralS0aEN4IeAEAsAcCXphlWN0A4C+rwwKqcVXtPXWp8KhU4/aan72vz4fqcwh5w7PS061+9QKsE6w3i09MJeAFACCQCHhhlmF1A4C/rA4JKOuqlVGo1kaBy23sqRu+5emL1+p7PqQat/+4ktfy9qkQ17RpVr96AdYh4AUAwB4IeGGWYXUDgL+sDgmoUFWlDMOpoUayy/657KlLnV7+PB8WGglWt01ZUKzgRTgLdsD7MQEvAAABQcALswyrGwD8ZXVIQIWmWJlLBaumGXdb3QJlQZ06ZfWrF2CdYAe8Y5fuktPpDOjYAACEIwJemGVY3QDgL6tDAiq49TOjWEuMPqzMpfyriAipfXupVSuvx6QbvS1vkwp9jRlj9asXYJ1gB7zxL87TS7M3B3RsAADCEQEvzDKsbgDwl9UhARXMcmqGcYfVTVBNvBxGM3Ux9rl9QRvVtOupp6x+9QKsE4qAN/7FeQEdGwCAcETAC7MMqxsA/GV1SEAFq5x63njD6iaoMKlU43ZFGJWEvGFUrOBFOAvWm8W/Tl1PwHuaAwWntOdIsdVtAABsjIAXZhlWNwD4y+qQgApGOfV3wl0qxJVq3K4uxj6r26BCVOzBi3BGwBs4TqdTz8/YqBc+26g1e47q4Y/WujwG1eWodGp8+m79csiXin9xnroPmW916wBsrKyiUtvyCvVtdr5W7DyiBVvy9M2uI/pm1xGlbz+kWRtyNWfjfn2WkasvNu1XWtYBfbn5gKav3acxi3doeNp3Grt0lz5elaMl3x3U3I379f7X2XpnyU6NWrBd//fxOv3fx+v08twt+tf87/TizE16YmqGbn33a133xlL1fXeF7pywSv/38ToNmpWlySv26Oudh7XrUJG+O1CobXmFOn6yLCT7sTudzppyVDpVWelUwalyHS0u0w/HT2nf0ZMqKXfoVJlDJeUOHSsu09HiMpVVVAa9t0Ag4IVZhtUNAP6yOiSgAlsdjINsy0BZVg6jmdKN3ppq3KPWRoEMw2l1S1SQKj3d6lcvwDoEvIGR8f1Rj2GuP7Xv6EmrLwewnQpHpYpKK1RZWRUiFpwq16bc4zp0okQVjkqVOyrdAsayikptzzuhTbnHawK+0gqHpKqgsLTCoaLSChWcLFdxaYV2Hjyh7/OL5fhxjpJyh/KLSuWodOpUmaPm9up+DhaWqOBUuU6UlKvgVLl2Hy5ScWmFpKpV/Uu3H9K8TQf06dq9+nTtXn28Kkfj0ncpKTVLT0zN0IMfrtHj/8nQc9M36rnpG/XXqev15H/X63+nrFXCm8t0ycsLdcHg+QH7b0+wq2fyAv3m1UX67fDF+vOElXr4o7V6YmqGnv00UwNTNuje97/VzW9/rRvfWq77J69R33dX6H9GfKXebyzV5cMWqUfyAv12+GJd8vJCnT8oTT2TF+h/RnylK15brF8O+VKXvrJQ5w1K08VDv1T3IeYfl+5D5uvyYYt1+bBFSnhzmXq/sVQ3jVmuhDeXqf/Yb/TA5DX669T1GpiyQX/973o9+2mmnpu+Uf+a/51embtVoxdu13vLszVx2W59vCpHK3cfCfjznIAXZhlWNwD4y+qQgGp4tTcO6hnjTaUbvfkyNarRVKpxu6oCXkLepljTpln96gVYh4C3YUrKHbpt3DcBD0JOD4oAKzmdThWWlLs8J0srqlZAZnx/VHkFJco9dlLFpRUqrXDoUGGJNuw9plW787Vmz1HtOnRCR4pKa4JXR6VTuw4VaVteoTblHtcPx0/puwOFWp2dr3mbDmjuxv36eudh7Tt6Uo5KpzK+P6qJy3br1S+26umUDeo/9htd+/pSXfLyQl352mJdPPRLXfLyQpffn18MTvP4e3Vu0jzd+u7XumnMcv3m1UUe749/cZ7OG5Sm8wZ5HqOuOm9Qmq58bbES3lwW8uD1oqFf6orXFuua17/SzW9/rWte/0rXj0pX7zeWqv/Yb9R/7De6573V6vfvFer77grdNu4b3ffBt/rHZ5v00uzNeubTTD0weY36jEpX/7Hf6K//Xa/nZ2xUUuomfbBij95ctENJqZs05PPNemfJTn2wYo8WbMnTqt35mpmRW7Pq95W5W/XYJxm6avgSdR8yX795dZEu+GfjCKHPH5QW0p/L32dsDPjvIwEvzDKsbgDwl9UhAdWw+l9jMqEu1WjL07YNkUaFDPbqtX2xghfhjIDXf19uPuDxTf0Dk9fo2emZevw/GfruwE+Pa+6xkzXHvPrFVh0sLNH0dfvqDAj+35vLdO/737rcdss7XzfKALiy0qml2w4pr6BEhwpLdKy4TBOX7Vb8i/PU990VcjqdKquorFnt6MnJsgp9sWm/UtfnanveCVVWOrVqd77yCkrcjnU6ndp58ISKSiuUe+xkzQpNp9OpQ4Ulev3LbZqwbLdLoJM8Z4uW7TislDV7NW9T1UfUB83KqvNncNu4b/TIx+s08stt2nf0pCoclY3y8a/PkaJSrdh5RNPW7NVHK3P06hdbNXT2Zr25cLtem7dVf3l/tfqMSle/f6/QfR98qwc/rAr7Tg86zxuUVrO1iD919civdGEIw75uSfUfYybw82U8X+vcpHk1j/fdk1Yr8cM1evSTdRqYskGjFmzX+19na9qavZq4bLfGp+/Wv7/aqUnLd2vM4h2a8s0eLd1+SJt/KNCuQyd0qLAkJNsfNMTxk2XK3Hdc2/IKtXLXEaWuz9Wk5bv13vJsjU+v+ueMdfu0dNshLdiSp0/X7tWXm/O0NueoVu46UnOtWbkF+u5AofYdPanNPxRoxc4jytx3XDlHirV1f6H25p/U1v2FyjlSrCNFpfrh+CmdLKtQSblDTqdT5Y5KHSsu07HiMh0/WaaTZVV/mDhWXKY9R4q1ZX+BNv9QoJW7jmjFziP6attBLdtxWLM25Gramr368Js9mrR8t97/uqrvsUt3KXnOFr00e7MGzcrSY59k6ImpGXrskwxN+WZPwB9HAl6YZVjdAOAvq0MCyt9yqp1xmHCXavRVvW3DNONupRu9NcO448cvY2ucK3s7dLC+h8ZeXbpIDs85AxAWmkrA+/mGHxT/4jy9PHdLzZybfyio2Yfxi037tedIcc3Ho+uyZX+BSsp/+g/DkaJSt3Cm9vXFvzhPX+883ODrCGbYlfH9MT03faP+8PbXIQvYwql6v7FUH36zR69+sVUnSsrdfrbVH9kvLCmvCeR8CeVOlTm0fMdh5RwpVlZugT5amaPlOw7r2+x8pWUd0Acr9mjwrCz94cdVm9X9/PqV4H9831tYe9HQL3X5sEW6fNhij/d3S6o6t/r87kPmq8dLC/S7fy3RVcOX6LLTVtf2eGmBHpqyVn+fsVFjl+7S9HX7tGzHYa3LOaql2w9p5e6qgO9AQVWQt+vQCe04eELHisskSUWlFTpYWKIfjp9SxvdHlbq+arXp+r3HlFdQosrKqv9GZB8uUs6RYh0sLNH6vce0cd9xHT5RqqPFZSoqrVB+UamcTqcqHJXKPXZSe/NP6lBhiU6WVY1/rLhMe/NPauWuI1q67ZB2HjyhknKHTpZVqLi0qiornTp8olR7jhR7fI4A9SHghVmG1Q0A/rI6KAjnam8c/jHoMntupQyjUqnG7dZfBEX5UanG7WpnHPFyt1NWbO3Qt2/VqtSyMqlzZ8sfokZaVT+T1FSrX7kAawUt4P1v6ALelbuP+BVOfbBijxZtPai/vL9a8S9WrZY9/X5v4VTtun/ympp9OxuqwlGpi4f6v0KSCkw99klGwMa68jXfnkehrF+/slD/781levSTdUr8cI3umrRKby7aodmZP+jfX+3U+19n6/2vszUzI1dZuQU6VlymTbnHtXX/T9sq5B6r2iu64GTV9g3Hist0qLDE5Y8jUtVK65Jyh7blFWrFziP6NjvfZZ/bk2We/+iy//gpbc87oXKHPb78CggFAl6YZVjdAOAv6wOD8K0WxskfA5P6Ql7XoKursZdwl7J9OYxmesUYojONfJe7OhiHQt5OmzZVwW56etXestdfb/nD0yjrjDMqCHcBNY0VvFYGZd/sCvyX6FQrOFWuHQdPaG3OURX9uPLYUem0piP98AAAIABJREFUPByMf9H7x9rX7z2mtTlH9W12vhZuyasJ8r7YtL/mmNNXWdeuG99arvyiUhWcLNfq7HwNnpWlwydcV1D3SF6gp6Zt0IMfrtH2vKrVmnvzT+rNRTvUZ3S6nv00UzsPnpCj0lmz72s1x4+rNUvKHaqs9G0F7ennbs87oe8OFGrOxv36/VvL1DN5ge774NsGP54NreveWKobRqfr/slr9PBH6/TwR2v1t2kbdMVri/WX91drfPpuHbTBx/gB1I2AF2YZVjcA+MvqwCC8qyrc9b6S8afj7jKm1XzEnW0ZqKZUtbdwmGrcY0kr7dtb/lA04nLKMI5r9er1Vr9kAY1CsN4s1v6CokA48uO31Z+upNwRkgDt7zM2asDEVdr8Q4HiX6xa7WtlWFa99cTJsgrtza9aSVn045dceZJ9uEhr9hxVaYXDlvvH2kHFj3sAl1VU6oXPNro8f575NFOrdufraHGZ8otKlV9UqqXbD2nptkP6dG3Vvp5vLtqhcem7lLo+VxOX7dYbC7bpP6u/1/f5xTVbA1TvI1pZ6fRpuxEATQsBL8wyrG4A8Jf1wUG4l1M/N/ZqidFHzxhvuq1e7GAc1AzjDqubpKiQVbrR2+oWKC81adIOq1+ygEYhWG8WawekDVUdrP7vlLU1t5WUO3S+l2+6dzqrArDqfy+r+Olj3jsPnqgzzN1//JQ27D2mPqPTlXOkuMG9AwAQCAS8MMuwugHAX1YHBlRVpRu9JcN9NSOrdalwK4fRTO0t2KaBqr+GDw/8NxsDdmSXgPemMctdxnv0k3UeQ93U9bn67oB/17Jqd7625fGmGQDQOBHwwizD6gYAf1kdGFBVNc242/omKKqR1AzjDlnxRWtU3XXjjUetfskCGgW7BLz1baFw27hvAtA1AACNFwEvzDKsbgDwl9WBAVVV1St4KYqqqheMkSLgbUxVFbi/8ILVr1qA9ewQ8BacLK8z3O0+ZD5fHgUAaPIIeGGWYXUDgL+sDw3CvZzqbOxlKwaK8lCfGXe47UvtWgTAoS2nIiOlsjKrX7kAa4Uq4DUbwBaVVujplA36cnOe2/YMp1fP5AUB7RsAgMaKgBdmGVY3APjL+sCgKZdTbY0j8v5Rc6cMo1Kpxu1WN0pRjbZO35d6idFHS4w+GmK8YnVbYV1jxlj9ygVYK1QB72+HL9b+46d8Pj8pdZPHQPfDb/a4/PvRYv5KAwAIDwS8MMuwugHAX1YHBU25uhtbJaPqo+bNDIfb/a2MAsJdivKjphl3W91CWNdTT1n9ygVYK1QBb/yL85Tw5rIGnV+91UO5o1I3jVmuqd9+H9CeAQBozAh4YZZhdQOAv6wOCppynf7FaWVGc402ntFtxkzdZ3ykhUYC2zJQlJ+VbvS2uoWwLlbwItyFMuA1sxevp3MLTpUHtEcAAOyEgBdmGVY3APjL6qCgKRdfnEZRwSmH0UxdjH0yjEqrWwmzYg9ehNb48ePVs2dPxcbGKjY2Vr169dL8+fPrPGfGjBnq3r27YmJi1KNHD6Wlpbnc73Q6NXToUHXq1EktWrRQQkKCdu7caaqvxhjwniyrcDvvX2nfBbQ/AADshoAXZhlWNwD4y/rAoOlVhFGprnxxGkUFtVKN2xVhVIqQN1RVtZf4Cy9Y/aqFcDJ37lylpaVp586d2rFjhwYPHqyoqCht2bLF4/ErV65UZGSk3njjDX333XcaMmSIoqKitHnz5ppjRo4cqbi4OM2ePVubNm1Sv3791K1bN5WUlPjcV6gD3kMn6u/t7kmra45/a9EOzc78IaC9AQBgRwS8MMuwugHAX9aHBk2rIoxKRfDFaRQVkko1bv9xJa/lrYRBVeiBB/KsfskC1LZtW33wwQce7xswYIBuvfVWl9uuuuoqPfbYY5KqVu926tRJo0aNqrm/oKBAMTExSklJ8bmHUAe8U77ZU++5lw9bbHpLBwAAmjoCXphlWN0A4C/rQ4OmVV2MvYS7FBXCchjNtMToo7ZGvljNG5xq1qxShtFC69evt/olC2HM4XAoJSVF0dHR2rp1q8djunbtqjG1Nol+6aWXdMkll0iSsrOzZRiGMjMzXY657rrrNHDgQK9zl5aWqrCwsKZyc3MVyoD3pjHL6zzvoqFf1hx758RVAe0JAAA7I+CFWYbVDQD+sjo4aGq1xOhjfRMUFYaVatyuqm0ELG+liVaxRo3KtvolC2EoKytLLVu2VGRkpOLi4tz21D1dVFSUpk2b5nLbuHHj1LFjR0lVWzgYhqEDBw64HHPnnXdqwIABXsdNTk6WYRhuFaqAt65VuQu25Lkc9/yMjQHtCQAAOyPghVmG1Q0A/rI+NGhaNc242/omKCpM6/+zd/fxUdV33v8/SUgGqIYoRKgkUFTg4QPW1mpjWVlzsVh1xZLNWhHtIq1dkIo/tWtR3IK56OOqRkTp1puWbmvcLg0ImyrXtXjX1Ghb7qwWwj1YQAgI4l1SFAjMzPv3R2BwSELmHDL5zpl5PR+P9x/MnJl8zmbLt993D+cstuuVY0ddj5GmabkHb02N61ULmaa5uVlvv/223nzzTU2fPl19+vRp9wreZBW8rq/gPf/+9kvtm36+Iu7Yjz/lKYgAABxHwQuvzPUAgF/uS4P0Sp2Vuh+CkAzOIrtexsPXkpSoioqkcNj1yoVMNnr0aE2ePLnN95J1i4aTdfU9eK+Y/WpCn3n2T7s6dR4AAIKOghdemesBAL/cFwbpkqiKbKfClu16EEIyPjx8Lbmpq3O9ciGTjRo1ShMnTmzzvXHjxum6666Le23EiBGtHrI2Z86c2PtNTU0p/5C1//h927dHaTx4JKHbOAAAkKkoeOGVuR4A8Mt1UZAeicoswsPVCEmhhC1bdVaqu+wx9bKPXI+TVjnpX8ADSTN9+nS9/vrr2rFjh9auXavp06crKytLr7zyiiRpwoQJmj59euz4ZcuWqVu3bpozZ442bdqkiooK5ebmat26dbFjKisrVVBQoCVLlmjt2rUqKyvToEGDdOjQoYTn6uqCt+qP2zs8/qEXNnXqLAAApAMKXnhlrgcA/HJdFKRDett+yl1CUjjHy95qG6+5dpfrcQIfruBFV7n11ls1cOBA5eXlqbCwUKNHj46Vu5JUWlra6mreRYsWaciQIcrLy9OwYcNaPZQtGo1q5syZ6tu3r0KhkEaPHq0tW7Z4misVruD9j99vizsmEol26iwAAKQDCl54Za4HAPxyXRQEK1Hl2FG9aFdqhs3SDJulWhvFbRkICVDCln3s9g3co9d7uAcvIHV9wftU3V8kSQvf2Kn/9Uidtr//SatjAABAaxS88MpcDwD45b4wCEpaniA/zSpdD0IIOc3UWLmyeBCbj0Q1bZrrVQtwr6sL3p/Ubj3l+wtW7ezUOQAASBcUvPDKXA8A+OW+MAhGsixMuUtIGoUHsflJVFlZUk2N65ULcKurC94bfrb8lO8DAIC2UfDCK3M9AOCX+8IgGHnZRrsfghDSqQlbtmptlM62D9Rylb7zkVI+WVlScTG3aUBm6+qCd+B9/6M/bH2fghcAAI8oeOGVuR4A8Mt1WZD6iajYdnKfXULSOCdu2UDJm2h40BoymYuCt+RHv23z9Y8/be7UGQAASCcUvPDKXA8A+OW6JEjtRJRlEdVYuetBSKrnc59zPwM5rdRYuXrb+67HCEyqq12vXoA7Lgpert4FAMA7Cl54Za4HAPxyXRKkcoptJ+UuSSzZXOGdDglbtmbZDJ1pja5HSflwBS8yWVcUvF/+4SsUvAAAnCYKXnhlrgcA/HJdEqRiyqxGdVbKbRkIydA0Wzf1tE9cj5GyOfts7sGLzNYVBe+TdW9T8AIAcJooeOGVuR4A8Mt1UZCKqbVR7ocghDjNN+xZ1yOkbM48k4IXma0rCt5V2z/Ur5bvoOAFAOA0UPDCK3M9AOCX66IgtRJVb9vPlbuEENXaKNcjpHS4RQMyWVcUvPuaDmnd7sZTlrtb9/21U38+AADphoIXXpnrAQC/XJcE7hJt4888UI0Q0pKwZR976NrJf1cQMx6yhszWFQXve389pLffO8DVuwAAnAYKXnhlrgcA/HJdEqRKinigGiHkpNRYucwiouRtHa7gRSbrioJ3/18Pt3rtePZ8fFDNRyOd+rMBAEhHFLzwylwPAPjluiRwmRk2S9U2ngeqEULaTY2Vq7/tcj1GSqWoiHvwIrN1RcH7/oG2C97Vuz7u1J8JAEA6o+CFV+Z6AMAv10WBy9RZqfshCCEpn7Bla5bNEFfztqSmxvXKBbjVFQXvB+0UvAAAIHEUvPDKXA8A+OW6KHCVQnuPq3YJIZ5SY+U60xpdj+E0s2a5XrUA97qi4P3ok+ZWr1HwAgDgDQUvvDLXAwB+uS4LXOUb9qz7IQghgUuzdVMv+8j1GA4SVd++zdyaAVDXFLwff0rBCwDA6aLghVfmegDAL/elgZvMsFnuhyCEBDJ326OuR+jiRGUW1S237HW9ZAEpoSsK3sZPj7R6jYIXAABvKHjhlbkeAPDLfXHgJrU2yv0QhJBAps5KXY/gIBGu4AWO6ZKC92BLwfvj326l4AUAwCcKXnhlrgcA/HJfGnR1oupt+7n/LiHEd8KWrSLbpZaHrjkfp0tTV+d61QLc64qC96+HWgreSCSqKf/1pi7+4Stat7uxU38eAADpjoIXXpnrAQC/XJcFXZuWf2ZcY+WuByGEBDw1Vq5MLHirq12vWoB7XVHwHjh8tFO/GwCATETBC6/M9QCAX67Lgq5MH9tHuUsI6bTMshmuR+jyzJrletUC3OuKgvcTCl4AAE4bBS+8MtcDAH65Lgu6JlEV2j41WzfXgxBC0ihhy1Z/26WWfx3gfJwuSFRFReI+vMh4XVHwftpMwQsAwOmi4IVX5noAwC/3hUHyC4ksi3DlLiEkKWm5VUNUmVPych9eoCsK3kNH+F9SAAA4XRS88MpcDwD45booSHaKbBflLiEkqamxcp1hTa7H6LJwH15kOgpeAACCgYIXXpnrAQC/XBcFyUnL1XTjbIHClu16GEJIBqTWRrkeocvCFbzIdF1R8B4+SsELAMDpouCFV+Z6AMAv10VBchJVmf3G9RCEkAxK2LJVlPb3442quJh78KJrPPjgg7r00kt1xhlnqLCwUGVlZdq8efMpP1NaWioza5Vrr702dszEiRNbvX/11Vd7mq0rCt7mo5FO/W4AADIRBS+8MtcDAH65Lww6PzOtwv0QhJCMS3rfjzeqrKyoampcr1rIFFdffbWqqqq0fv16rVmzRtdee60GDBigTz75pN3PfPjhh9q7d28s69evV05OjqqqqmLHTJw4Uddcc03ccR999JGn2bqi4D0SpuAFAOB0UfDCK3M9AOCX+9KgMxNRke3ktgyEEGepsXL1tvddj5GENOqRR7a5XrKQwfbv3y8z0+uvv57wZ+bOnaszzzwzrhSeOHGiysrKTmuWrih4w5Fop343AACZiIIXXpnrAQC/3JcGnZWIsizCA9UIIc4TtmzV2ijNsFn6N/uhQvap65E6IQ/orbfecr1kIYO9/fbbMjOtW7cu4c8MHz5ckyZNintt4sSJ6tWrlwoLCzVkyBBNmTJFH3zwwSm/5/Dhw2pqaoqloaFByS54IxS8AACcNgpeeGWuBwD8cl8adE4KbR/lLiEk5RK2bOVbo+sxTjNRme3UG29Q8MKNSCSiMWPG6PLLL0/4M6tWrZKZadWqVXGvL1iwQEuWLNHatWv13HPP6cILL9RXvvIVhU9xc+mKigq1dW/fZBa80SgFLwAAp4uCF16Z6wEAv9wXB6dfPBTaPjVbN9eDEEJIq9RZqesROi3z5m1xvWQhQ02ZMkUDBw5UQ0NDwp+ZPHmy/uZv/qbD47Zt2yYzU21tbbvHuLiCFwAAnD4KXnhlrgcA/HJdGJxeuC0DISS1U23jXY/Qabn55n2ulyxkoKlTp6qoqEjbt29P+DOffPKJ8vPz9eMf/zih4/v06aOf/exnCX9/V9yDFwAAnD4KXnhlrgcA/HJdGHhJL/so7s/FtpNy93jy893PQAhplXS6gvess47oFP+KHehU0WhUU6dO1bnnnqutW7d6+mxVVZVCoVCH99aVpIaGBmVlZWnJkiUJfz8FLwAAwUDBC6/M9QCAX64Lg0SSZREV2041WzfVWamqbbzqrFRhy3Y/nOt07y716eN+DkJImwlbtvrYe67H6LTU1bletZApvvvd76pXr1567bXXtHfv3lgOHjwYO2bChAmaPn16q8+OHDlSN954Y6vXDxw4oO9///tasWKFduzYodraWn35y1/W4MGDdfjw4YRno+AFACAYKHjhlbkeAPDLdVnQcbgNAyEk2Flk16vlQWVR16Ocdu680/WqhUzR1kPNzExVVVWxY0pLSzVx4sS4z23evFlmpldeeaXVdx48eFBXXXWVCgsLlZubq4EDB2rSpEnat8/b7UcoeAEACAYKXnhlrgcA/HJdFnScqKZZpeshCCHktDLNKpUOBa+ZVFPjeuUC3KLgBQAgGCh44ZW5HgDwy3VR0HGiKrad3I6BEBL4LLbrW91LPIjp3VvcixcZjYIXAIBgoOCFV+Z6AMAv10VBoqmzUvdDEELIaWa+3eR6hE5Jba3r1Qtwh4IXAIBgoOCFV+Z6AMAv1yVBoplvN7sfghBCTjN1Vup6hE7JjBmuVy/AHQpeAACCgYIXXpnrAQC/XJcEiWau3eV+CEIIOc2ELVtFtktZFnE9ymmFgheZjIIXAIBgoOCFV+Z6AMAv1yVBoplvN7kfghBCOiE1Vq4siwS65OUWDchkFLwAAAQDBS+8MtcDAH65LgkSDffgJYSkU2qsXEW2y/UYvsJD1pDpKHgBAAgGCl54Za4HAPxyXRR0nIiKbafClu16EEII6dSELVt1Vqpf2TeVbWGZRV2PlFBqalyvXIBbFLwAAAQDBS+8MtcDAH65LgpOnZZ/wlxj5a4HIYSQpCVID167807XqxbgHgUvAADBQMELr8z1AIBfrsuCU6XYdlLuEkLSPtU23vUICWfUKNerFuAeBS8AAMFAwQuvzPUAgF+uy4K2km+NqrVR3JaBEJIRCdIVvGbS4sWuVy7ALQpeAACCgYIXXpnrAQC/UvWejzxUjRCSKQlb9rEHrkVcj5JQ8vN5yBoyGwUvAADBQMELr8z1AIBfqVrwVtt490MQQkgXpcbK1VLwpubfySenttb16gW4Q8ELAEAwUPDCK3M9AOCX2fvOi4K2whW8hJBMS42V6+wU/Tv55MyY4Xr1Atyh4AUAIBgoeOGVuR4A8Cv1/klwRMW2k/vvEkIyMmHL1o1WrVS/kpeCF5mMghcAgGCg4IVX5noAwC/XJUF8ojKLqMbKXQ9CCCFOs9iuVx9776SXU6f05RYNyGQUvAAABAMFL7wy1wMAfrkuCT6bfPuYcpcQQo4lbNmqs1JV23jNshlqKXjdl7y9e/OQNWQ2Cl4AAIKBghdemesBAL9cFwWfzXy7yf0QhBCSgkmlh7DV1LheuQC3KHgBAAgGCl54Za4HAPxyXRR8NjxYjRBCWids2SqyXUqVe6YvXux65QLcouAFACAYKHjhlbkeAPDLdVHQEh6sRggh7aXOSl2PEJfCQm7RgMyW7IL3C9MpeAEA6AwUvPDKXA8A+OW6KDCLKIsHqxFCSLuptvGuR2iVujrXqxfgDgUvAADBQMELr8z1AIBfrkuCYttJuUuIy1x4ofsZyCmTalfwmknV1a5XL8AdCl4AAIKBghdemesBAL+6vhhoeQr8nfaY6qyU2zIQQkgHSbV78JpxBS8yW7IL3kEUvAAAdAoKXnhlrgcA/OrqUuAMa+KKXUII8ZgaK1eqFLxFRdyDF5mNghcAgGCg4IVX5noAwK+uLgZqbZT7doIQQgKYRXa9cuyo6zH07W+7XrmQCR588EFdeumlOuOMM1RYWKiysjJt3rz5lJ+pqqqSmcUlFArFHRONRjVz5kz169dP3bt31+jRo7V161ZPs1HwAgAQDBS88MpcDwD41XWlQETFtpNbMhBCyGlksV2vllvduBvj9ttdr1zIBFdffbWqqqq0fv16rVmzRtdee60GDBigTz75pN3PVFVVKT8/X3v37o1l3759ccdUVlaqV69eev7551VfX6+xY8dq0KBBOnToUMKzUfACABAMFLzwylwPAPjVdaVAlFszEELIaSZs2ephnzod47vfdb1yIRPt379fZqbXX3+93WOqqqrUq1evdt+PRqPq16+fHnnkkdhrjY2NCoVCWrBgQcKzJLvgPe/+pZ36vQAAZCoKXnhlrgcA/Oq6UiCq79ts5+UIIYQEOXVW6noE3X+/65ULmejtt9+WmWndunXtHlNVVaWcnBwNGDBARUVFGjt2rNavXx97f9u2bTIzrV69Ou5zV1xxhe68886EZ6HgBQAgGCh44ZW5HgDwqytLgWwLq9m6OS9ICCEkqKm28a5H0IwZrlcuZJpIJKIxY8bo8ssvP+Vxy5cv13/+539q9erVeu2113TdddcpPz9fDQ0NkqRly5bJzPTuu+/Gfe6GG27QuHHj2v3ew4cPq6mpKZaGhgYls+A9n4IXAIBOQcELr8z1AIBfXV0MzLW7nBckhBAS1KTCFby1ta5XLmSaKVOmaODAgbGiNlFHjhzR+eefrxnH/lcJvwVvRUWFTn54GwUvAACpj4IXXpnrAQC/uroYuMN+4rwgIYSQoCZs2TrbPnD046Pq3VsKh12vXMgkU6dOVVFRkbZv3+7r89/4xjc0fvx4Sf5v0cAVvAAABBMFL7wy1wMAfnV1QcAVvIQQcnqZZTMc/NiozKKqqXG9aiFTRKNRTZ06Veeee662bt3q6zvC4bCGDh2q733ve7Hv7Nevn+bMmRM7pqmpKeUeskbBCwBA56DghVfmegDAr64sCLK4By8hhJx2wpat3va+WkrXrvqxO/XII9tcL1nIIN/97nfVq1cvvfbaa9q7d28sBw8ejB0zYcIETZ8+PfbnWbNm6eWXX9a2bdv01ltvafz48erevbs2bNgQO6ayslIFBQVasmSJ1q5dq7KyMg0aNEiHDh1KeLZkF7wX/BsFLwAAnYGCF16Z6wEAv7qyl7jRfu28GCGEkHRIjZXr+FW1yf9xUZldr7feesv1koUM0tY9b81MVVVVsWNKS0s1ceLE2J/vvvtuDRgwQHl5eerbt6+uvfZa/fnPf4773mg0qpkzZ6pv374KhUIaPXq0tmzZ4mk2Cl4AAIKBghdemesBAL+6pouI6kxrUtiynZcihBCSLum6WzVEZbZTb7xBwQtIFLwAAAQFBS+8MtcDAH6ZRbqkHKixcudlCCEZm/PPl7Ky3M9BOjXVNr5Lf+S8ed6ucgTSVbIL3sH/9kKnfi8AAJmKghdemesBAL/a28h3Zhc0y2Y4L0IIyfh87nPuZyCdmjor7dIfefPN+1wvWUBKoOAFACAYKHjhlbkeAPAruYVAVEW2k1szkJZ07+5+BkLSKGHLVpHtUtf8SwzJLKqaGterFuAeBS8AAMFAwQuvzPUAgF9JLwO4NQMhhCQtLQ9bi6irHrbWu7cUDrteuQC3KHgBAAgGCl54Za4HAPxKZhFQbTc4Lz8IISTdU2Pl6m6fdtmPrK11vXIBbiW94P0BBS8AAJ2BghdemesBAL+SWQLMtbucFx+EEJIJmW3f67If941vuF65ALcoeAEACAYKXnhlrgcA/EpmCXCH/cR56UEIIZmQ+XZTl/24/Hxu04DMluyCdwgFLwAAnYKCF16Z6wEAv5JZAnAFLyGEdE3qrLRLf2RdnevVC3An2QXvV/7Pbzv1ewEAyFQUvPDKXA8A+JWczX9UOXZUzdbNeelBCCFJyec+536GzyRs2SqyXWp54Fryf+T8+a5XL8CdZG0Wf791v8b85Pdat7uxU78XAIBMRcELr8z1AIBfnb/xj8osqmlW6bzwIISQpKVHD/cznJQaK1dXFbxz57pevQB32CwCABAMrNnwylwPAPjV2Zv+HDtKuUsI6Zpcc430q19JhYXuZ0mRLLLrlWNHk/6juIIXmYzNIgAAwcCaDa/M9QCAX52x0c+yI7ralmqu3cVtGQghXZuzz5Yuv9z9HCmUxXa9Wv41RfJ+DPfgRSZjswgAQDCwZsMrcz0A4FfnbPajMouoxsqdFxuEEEJMs2xG0r6+uFgKh12vXoA7bBYBAAgG1mx4Za4HAPzqvE1/VEW2U2HLdl5sEEJIpids2TrLPkjK19fUuF65ALfYLAIAEAys2fDKXA8A+NXZG/86K3VebBBCCEnOVbz5+Vy9C7BZBAAgGFiz4ZW5HgDwq7M3/9U23nmpQQghxNRs3ZRtYXX2/Xi5/y4yHZtFAACCgTUbXpnrAQC/OrtT4ApeQghJjdRZaVK+urra9coFuMVmEQCAYGDNhlfmegDAr87b9HMPXkIISaVU2/ikfDVX8CLTsVkEACAYWLPhlbkeAPCr8zb9EdVYufNCgxBCSEs6/wreqIqLuQcv0NjYKDNTQ0ODmpqaCCGEEJKiaWhokJmpsbHR9X99QECY6wEAvzpr419hM52XGYQQQk4kbNkqsl0yi3TC10VlFtW0aa5XLcC945tFQgghhAQjDQ0Nrv/rAwLCXA8A+GWd1CXU2ijnZQYhhJD41Fi5OqfglcyiKiriCl4gEomooaFBjY2NSbnKKN2vDOY80yucZ3qF80yvcJ5NamxsVENDgyKRiOv/+oCAMNcDAH51Vo9QbeOdFxmEEEJaZ5bN6NSv5B68QHI0NWXGfQI5z/TCeaYXzjO9cJ6Ad+Z6AMCvTtvwW6nzEoMQQkjrdO6tGqT5812vXEB6ypQNKueZXjjP9MJ5phfOE/DOXA8A+HW6G/0si6jYdips2c5LDEIIIW2nxsqVZRFldULJO3eu65ULSE+ZskHlPNML55leOM/0wnkC3pnrAQC/vG3s44uB42VBjZU7Ly8IIYRNmWaqAAAgAElEQVScOjVWfuxK3tP7Kq7gBZLj8OHDqqio0OHDh12PklScZ3rhPNML55leOE/AO3M9AOCXl019H3sv7s/FtpNylxBCApSwZavOSjXfblK+Ncos6vlruAcvAAAAgHRkrgcA/EpsQ99yG4Zm66Y6K1W1jVedlXJbBkIICXBqrFwt/zIj8ZK3Tx8pHHa9cgEAAABA5zPXAwB+mb3RweY+KrOIFtn1zssIQgghnZewZWuWzVC2HU3wI1EtWuR61QIAAACA5DDXAwB+JXr1VpHt4nYMhBCSJvFzP95u3SKqqXG9agEAAABAcpjrAQC/Ev2nuTxQjRBC0iM1Vq4si+jkB2d2nKiyskTJCwAAACAtmesBAL+8bO6zjt2Ll3vvksCmd2/pjDPcz0GIo4Qt+9iVu17L3RMpLuY+vEAyPPHEExo4cKBCoZBKSkq0atUq1yO168EHH9Sll16qM844Q4WFhSorK9PmzZvjjiktLZWZxeW2226LO2bnzp269tpr1aNHDxUWFur73/++jh49GndMXV2dLr74YuXl5en8889XVVVVsk8vpqKiotU5DB06NPb+oUOHdPvtt+vss8/W5z73Of3TP/2T9u3bF/cdqX6OkjRw4MBW52lmuv322yUF93f5+uuv67rrrtPnP/95mZmee+65uPej0ahmzpypfv36qXv37ho9erS2bt0ad8yHH36om2++WWeeeaZ69eqlW2+9VQcOHIg7pr6+XiNHjlQoFFJRUZEefvjhVrMsWrRIQ4cOVSgU0vDhw7V06dKkn+ORI0d07733avjw4erZs6c+//nPa8KECdqzZ0/cd7T1+3/ooYdS5hw7Ok9JmjhxYqtzuPrqq+OOSfXfZSLn2dZ/Ts1Ms2fPjh0ThN9nImtIV/79GqT1F8lnrgcA/PKzua+zUuclBSGeM3eutHChlJXlfhZCHKXOSjvlq+rqXK9eQHpZuHCh8vLy9PTTT2vDhg2aNGmSCgoK9N5777kerU1XX321qqqqtH79eq1Zs0bXXnutBgwYoE8++SR2TGlpqSZNmqS9e/fG0tTUFHs/HA5r+PDhuvLKK7V69Wq98MIL6tOnj+6///7YMdu3b1fPnj31r//6r9q4caMef/xx5eTk6KWXXuqS86yoqNCwYcPizuH999+PvT9lyhQVFxfrd7/7nd5880199atf1d/+7d8G6hwlaf/+/XHn+Nvf/lZmprpjf9kH9Xf5wgsv6Ac/+IF+85vfqK2yrLKyUr169dLzzz+v+vp6jR07VoMGDdKhQ4dix1xzzTX64he/qJUrV+oPf/iDLrjgAt10002x95uamtS3b19985vf1Pr167VgwQL16NFD8+bNix2zbNky5eTkaPbs2dq4caNmzJih3NxcrVu3Lqnn2NjYqCuvvFLPPvusNm/erBUrVqikpESXXHJJ3HcMHDhQP/zhD+N+v5/9z7Lrc+zoPKWWgveaa66JO4ePPvoo7phU/10mcp6fPb+9e/fq6aefVlZWlrZt2xY7Jgi/z0TWkK76+zVo6y+Sz1wPAPjlZ2NfbeOdlxSEeM7dd7ufgRDHqbbxnfJV1dWuVy8gvZSUlGjq1KmxP0ciEZ177rmtrrpKVfv375eZ6fXXX4+9Vlpaqrvuuqvdz7zwwgvKzs6OuyLrpz/9qfLz89Xc3CxJuvfeezVs2LC4z914442trsxLloqKCn3xi19s873Gxkbl5uZq8eLFsdc2bdokM9OKFSskBeMc23LXXXfp/PPPVzQalZQev8uTy7JoNKp+/frpkUceib3W2NioUCikBQsWSJI2btwoM9Of/vSn2DEvvviisrKyYlfBPvXUUzrrrLNi5ylJ9913X9yV3uPGjdOYMWPi5rnssstaXQXd2efYljfeeENmpp07d8ZeGzhwoObOndvuZ1LpHKW2z3PixIkqKytr9zNB+11Kif0+y8rK9Pd///dxrwXt9ym1XkO68u/XoK+/6HzmegDALz8be67gJYFMnz7uZyDEcbiCF0g9zc3NysnJabWRv+WWWzR27FhHU3nz9ttvy8ziru4qLS1Vnz591Lt3bw0bNkzTp0/Xp59+Gnt/5syZrcrT7du3y8z05z//WZL0d3/3d62Kxaefflr5+flJPJsTKioqYv+0fdCgQbr55ptjxdjvfvc7mZk+/vjjuM8MGDBAjz32mKRgnOPJmpub1bt3b/3oRz+KvZYOv8uTy7Jt27bJzLR69eq446644grdeeedkqRf/vKXKigoiHv/6NGjysnJ0W9+8xtJ0oQJE1oVi6+++qrMLHYFaXFxcavC7YEHHtBFF13UOSd3TCKF4G9/+1tlZWXFXYE9cOBA9e3bV2effba+9KUvafbs2XH/zD2VzlFq+zwnTpyoXr16qbCwUEOGDNGUKVP0wQcfxN4P2u9S6vj3uW/fPnXr1k2//vWv414P2u9Tar2GdNXfr+mw/qLzmesBAL+8bup72/vcg5cQQgKasGWrv+1Sog/YbCvcgxfoXHv27JGZafny5XGvT5s2TSUlJY6mSlwkEtGYMWN0+eWXx70+b948vfTSS1q7dq3mz5+v/v37q7y8PPb+pEmTdNVVV8V95tNPP5WZ6YUXXpAkDR48WA8++GDcMUuXLpWZ6eDBg0k6oxNeeOEFLVq0SPX19XrppZc0YsQIDRgwQH/961/161//Wnl5ea0+85WvfEX33nuvpGCc48meffZZ5eTkxN2nNR1+lyeXZcuWLZOZ6d1334077oYbbtC4ceMkST/60Y80ZMiQVt9VWFiop556SpL0ta99TZMnT457f8OGDTIzbdy4UZKUm5ur6pP+6cuTTz6pc8455/RP7DM6KgQPHTqkL3/5y7r55pvjXn/00UdVV1en+vp6/fSnP1VBQYG+973vxd5PpXOU2j7PBQsWaMmSJVq7dq2ee+45XXjhhfrKV76i8LH/whK036XU8e/z4Ycf1llnnRV3SxEpeL/PttaQrvr7NejrL5LDXA8A+OV1Yz/LZjgvKAghhPjPLJtxWl/xmX8tB6ATBH2DOWXKFA0cOFANDQ2nPO74FVl/+ctfJAWjFDzZxx9/rPz8fP3iF79I24L3qquu0nXXXXfKY4L4u8z0gvfIkSP6+te/rosvvjju6t22/PKXv1S3bt10+PBhSal1jtKpz/O441do19bWSgre71Lq+DyHDh2qO+64o8PvSfXfZ1trCAUvXDLXAwB+Jb6pj6q37efqXUIICXhO9z68s2a5XrmA9BLkfyI6depUFRUVafv27R0e+8knn8jMYg+3CcI/62/LpZdequnTp6flLRreeecdZWdn6/nnnz/lcUH8XWbyLRqOHDmif/zHf9RFF10Ud9uC9qxfv15mps2bN0tKrXOU2j/Pk/Xp00c/+9nPJAXvdymd+jx///vfy8y0Zs2aDr8nlX+f7a0h3KIBLpnrAQC/EtvQR2UWUY2VOy8mCCGEnF5O9z68Z5/NLRqAzlZSUhJ3JVYkElH//v1T9iEv0WhUU6dO1bnnnqutW7cm9Jk//vGPMjPV19dLOvGAnM8+qXzevHnKz8+PXWl27733avjw4XHfc9NNNzl7ANmBAwd01lln6d///d9jDwH67//+79j7mzdvVlsPAQrKOVZUVKhfv35x9+tsSxB/l+09ZG3OnDmx15qamtp8yNqbb74ZO+bll19u88FcR44ciR1z//33t3pg1clXRY8YMaJLHrJ2vNwdNmyY9u/fn9D3zJ8/X9nZ2bGyL5XOUWr7PE/W0NCgrKwsLVmyRFLwfpfSqc9z4sSJuuSSSxL6nlT8fXa0hnTl369BW3+RfOZ6AMCvRDf03JqBEELSI2HLVpHtklnE99fwkDWgcy1cuFChUEjPPPOMNm7cqMmTJ6ugoCDu6eCp5Lvf/a569eql1157TXv37o3l+D+1/8tf/qIf/vCHevPNN7Vjxw4tWbJE5513nq644orYd4TDYQ0fPlxXXXWV1qxZo5deekmFhYW6//77Y8ds375dPXv21LRp07Rp0yY9+eSTysnJiV05mmz33HOPXnvtNe3YsUPLli3TlVdeqT59+sSKsilTpmjAgAF69dVX9eabb2rEiBEaMWJEoM7xuEgkogEDBui+++6Lez3Iv8sDBw5o9erVWr16tcxMjz32mFavXh17UF5lZaUKCgpi924tKyvToEGD4u5pes011+jiiy/WqlWr9Mc//lGDBw/WTTfdFHu/sbFRffv21YQJE7R+/XotXLhQPXv21Lx582LHLFu2TN26ddOcOXO0adMmVVRUKDc3N+6hhMk4xyNHjmjs2LEqKirSmjVr4v6z2tzcLElavny55s6dqzVr1mjbtm2aP3++CgsLdcstt6TMOXZ0ngcOHND3v/99rVixQjt27FBtba2+/OUva/DgwbGiT0r932VH53lcU1OTevbsqZ/+9KetPh+U32dHa4jUdX+/Bm39RfKZ6wEAvxLdzN9pjzkvJQghhHROaqxcWRaR34etnXRbNgCd4PHHH9eAAQOUl5enkpISrVy50vVI7TKzNlNVVSVJ2rVrl6644gqdffbZCoVCuuCCCzRt2rRW9/5855139A//8A/q0aOH+vTpo3vuuafV1aN1dXX60pe+pLy8PJ133nmxn9EVbrzxRn3+859XXl6e+vfvrxtvvDF231mp5aFVt99+u8466yz17NlT5eXl2rt3b9x3pPo5Hvfyyy/LzLRly5a414P8u6yrq2vz/08nTpwoqeUqwpkzZ6pv374KhUIaPXp0q/P/8MMPddNNN+mMM85Qfn6+vv3tb+vAgQNxx9TX12vkyJEKhULq37+/KisrW82yaNEiDRkyRHl5eRo2bJiWLl2a9HPcsWNHu/9ZrTv2v9S+9dZbuuyyy9SrVy91795dF154oR588MG4YtT1OXZ0ngcPHtRVV12lwsJC5ebmauDAgZo0aVKrgi7Vf5cdnedx8+bNU48ePdTY2Njq80H5fXa0hkhd+/drkNZfJJ+5HgDwK9HNfC/7kPvvEkJIGmWxXa9sC/v6OFfwAgAAAEg35noAwC9PG3ordV5IEEII6Zz4vRdvcTH34AUAAACQfsz1AIBfXjb11TbeeSFBCCGkc1Jt4z1+pOV2DjU1rlcuAAAAAOh85noAwC8vm3uu4CWEkPRJrY3y/LFZs1yvWgAAAACQHOZ6AMCvxDb1ERXbTu7BSwghaRQ/Be/dd7tetQAAAAAgOcz1AIBfHW/oozKLapFd77yMIIQQ0nnxfouGlnCLBgAAAADpyFwPAPiV6Iae2zMQQkh6hYesAQAAAMAJ5noAwK9EN/Q8YI0QQtIrYctWke1SlkU8f7yuzvXqBQAAAACdy1wPAPiV8GaeK3gJISTtUmPlxwpebyVvdbXr1QsAAAAAOpe5HgDwK5GNfKHt4wFrhBCSpqmxcp1t73v6GFfwAgAAAEg35noAwK9ENvJ326POCwhCCEla5s6VBg1yP4ejhC1b/W2XWh6q2fFHevfmHrwAAAAA0o+5HgDwK5HNPLdnIISkbXr3lg4elLIz918peH3YGgUvAAAAgHRkrgcA/Dr1Rj6qItvJ7RkIIembM8+UZs92P4fDVNt4zx/jFg0AAAAA0o25HgDwq/0NfFRmEdVYufPygRBCkprcXPczOEytjfL8MR6yBgAAACDdmOsBAL/a38BHNc0qnRcPhBBCkhs/BS9X8AIAAABIN+Z6AMCv9jfwERVzewZCCEn7eLlFQ1aWVFzMPXgBAAAApB9zPQDgV0ebeR6wRggh6Z3EH7IWVVaWVFPjeuUCAAAAgM5nrgcA/OpoQ19t452XD4QQQpKXsGWryHYpyyIdHBrVtGmuVy0AAAAASA5zPQDgV0d7f67gJYSQ9E+NlR8reKOnOCzK7RkAAAAApC1zPQDgV3sb+SzuwUsIIRmVWTYjoUN5wBoAAACAdGSuBwD8ansDH1WWRVRj5c4LB0IIIV2TRB+2dvfdrlcuAAAAAOh85noAwK/2NvCzbIbzsoEQQkjXJdGHrRUWcpsGAAAAAOnHXA8A+NXeBp6HqxFCSGYlbNnKt8aEDuc2DQAAAADSjbkeAPCr3c07D1cjhLhMbq77GTIsYcvWGdaU0OHV1a5XLwAAAADoXOZ6AMCvkzftPFyNEEIyM4neosGMK3iRmCeeeEIDBw5UKBRSSUmJVq1adcrjFy1apKFDhyoUCmn48OFaunRp3PvRaFQzZ85Uv3791L17d40ePVpbt26NO+brX/+6iouLFQqF1K9fP/3zP/+z9uzZE3dMfX29Ro4cqVAopKKiIj388MOdc8IAAAAINHM9AODXZzfsWRbh4WqEEJKhSfQha717cw9edGzhwoXKy8vT008/rQ0bNmjSpEkqKCjQe++91+bxy5YtU05OjmbPnq2NGzdqxowZys3N1bp162LHVFZWqlevXnr++edVX1+vsWPHatCgQTp06FDsmMcee0wrVqzQO++8o2XLlmnEiBEaMWJE7P2mpib17dtX3/zmN7V+/XotWLBAPXr00Lx585L3fwwAAAAEgrkeAPDrs5v2HDuqaVbpvGQghBDS9Un0Ct5Zs1yvXAiCkpISTZ06NfbnSCSic889Vw899FCbx48bN05jxoyJe+2yyy7TbbfdJqnl6t1+/frpkUceib3f2NioUCikBQsWtDvHkiVLlJWVpSNHjkiSnnrqKZ111llqbm6OHXPfffdp6NCh3k8SAAAAacVcDwD4Fb9x5wpeQgjJ1IQtW0W2S1kWaeeQKFfvIiHNzc3KycnRc889F/f6LbfcorFjx7b5meLiYs2dOzfutQceeEAXXXSRJGnbtm0yM61evTrumCuuuEJ33nlnm9/54Ycfaty4cbr88stjr02YMEFlZWVxx7366qsyM3300UcJnV8kElFDQ4MaGxvV1NRECCGEkBRNY2OjGhoaFIlEElrjAXM9AODXyRt47sFLCCGZmxorj92uJ/6tiMwiqllMu4uO7dmzR2am5cuXx70+bdo0lZSUtPmZ3NxcVZ/09L4nn3xS55xzjqSWWziYmd599924Y2644QaNGzcu7rV7771XPXv2lJnpq1/9qj744IPYe1/72tc0efLkuOM3bNggM9PGjRvbnO3w4cNxm8WNGzfKzAghhBASkDQ0NJziv7kAJ5jrAQC/rJ19fp2VOi8aCCGEdH1qrFxFtivu5WLb2fKvO3i6GhLguuB9//33tWXLFr3yyiu6/PLLde211yoajUryV/BWVFSovc2i6yuTCCGEENJ+GhoaZGZqbGzs4L+9AC3M9QCAX+3t8attvPOSgRBCiJuELVt1VqpqG686Kz3xrzpOKuCAtqTKLRokxTZ2x8tmP7doOPkK3uPf2dTU1O7PBQAA7jU1NbFmwxNzPQDgV3v7e67gJYQQ0ipcwYsElZSU6I477oj9ORKJqH///qd8yNp1110X99qIESNaPWRtzpw5sfebmpo6fMjazp07ZWaqO/b/u8cfsnb8oWuSdP/993t6yBqbRQAAgoE1G16Z6wEAv07eu3MPXkIIIbL4q3hftVIdtRypudn1soWAWLhwoUKhkJ555hlt3LhRkydPVkFBgfbt2yep5Ura6dOnx45ftmyZunXrpjlz5mjTpk2qqKhQbm6u1q1bFzumsrJSBQUFWrJkidauXauysjINGjRIhw4dkiStXLlSjz/+uFavXq133nlHv/vd7/S3f/u3Ov/883X48GFJUmNjo/r27asJEyZo/fr1WrhwoXr27Kl58+YlfG5sFgEACAbWbHhlrgcA/Prsfv74g3VqrNx5sUAIIcRd2roPb5HtUs2Nz7pethAgjz/+uAYMGKC8vDyVlJRo5cqVsfdKS0s1ceLEuOMXLVqkIUOGKC8vT8OGDdPSpUvj3o9Go5o5c6b69u2rUCik0aNHa8uWLbH3165dq1GjRunss89WKBTSF77wBU2ZMkW7d++O+576+nqNHDlSoVBI/fv3V2VlpafzYrMIAEAwsGbDK3M9AODXZzfvsYfopEC5QAghpJ10757U76+xcmVZRGaRuLdi/yPg4rDrpQtwis0iAADBwJoNr8z1AIBfbT5EhxBCSGomKyup3x+27GNX7kba/vEWUXHhIYXpeJHB2CwCABAMrNnwylwPAPjmuqwghBCSMqmz0oQO5VlryGRsFgEACAbWbHhlrgcAfEuBQoEQQkhqpNrGJ3RodbXrxQtwh80iAADBwJoNr8z1AIBvKVAoEEIISY3U2qiEDq2tdb14Ae6wWQTSw33/Xa/bf/2WotGo61EAJAlrNrwy1wMAvqVAoUAIISQ1QsELdIzNIhB8R8MRDbzvfzTwvv/Rx582ux4HQJKwZsMrcz0A4FsKFAqEEEJSI9yiAegYm0Ug+A4dCccK3g8OHHY9DoAkYc2GV+Z6AMC3FCgUCCGEpEZ4yBrQMTaLQPAdbD5R8L7310OuxwGQJKzZ8MpcDwD41ZgChQIhhJDUSNiyVWS7ZBZp55CIiouiCoddr16AO2wWgeA7cPhorODd20jBC6Qr1mx4Za4HAPx6NAUKBUIIIamTaVYps+ixfPatltemTXO9cgFusVkEgq/x4JFYwbvn44OuxwGQJKzZ8MpcDwD4NSoFygRCCCGpkY6v4JWKi8UVvMhobBaB4Pvok+ZYwbvrw09djwMgSViz4ZW5HgDwa1cKFAqEEEJSI9yDF+gYm0Ug+D44cDhW8O78gIIXSFes2fDKXA8A+BVNgUKBEEJIaqTaxid06N13u169AHfYLALB995fD8UK3u3vf+J6HABJwpoNr8z1AIBvKVAoEEIISY0kegVvYSG3aUDmYrMIBN/exhMF71/2H3A9DoAkYc2GV+Z6AMC3FCgUCCGEpEbClq1Cey+hw7lNAzIVm0Ug+HZ/fDBW8G7d91fX4wBIEtZseGWuBwB8S4FCgRBCSOrkbns0oUOrq10vYIAbbBaB4Nv14aexgnfTXv6zDKQr1mx4Za4HAHxLgTKBEEJI6oQHrQGnxmYRCL53PvgkVvBu2MN/loF0xZoNr8z1AIBvKVAmEEIISZ2ELVtFtktmkTYPybKIioui3IMXGYvNIhB82/YfiBW863Y3uh4HQJKwZsMrcz0A4FsKlAmEEEJSKzVWriyLKOukkvf4azUV9a5XL8AZNotA8L393l9jBW99w8euxwGQJKzZ8MpcDwD4lgJFAiGEkNRLjZUfu5L3xMvFtlM1Vi7NmOF69QKcYbMIBN+WfScK3j/v/Mj1OACShDUbXpnrAQDfUqBEIIQQkpoJW7bqrFTVNl51VqqwZbe8R8GLDMZmEQi+je82xQreN9/50PU4AJKENRtemesBAN9SoEAghBASsNTWul69AGfYLALBt253Y6zgfWMHBS+Qrliz4ZW5HgDwzXVJQAghJFjJzpaam12vXoAzbBaB4Ktv+DhW8K7Y9oHrcQAkCWs2vDLXAwC+uS4KCCGEBC91da5XL8AZNotA8K3edaLgXfaX912PAyBJWLPhlbkeAPDNdUlACCEkeKmudr16Ac6wWQSC7813PooVvH/YSsELpCvWbHhlrgcAfHNdEhBCCAleuIIXGYzNIhB8b+z4MFbwvrZlv+txACQJaza8MtcDAL65LgkIIYQEJ1lZUnGxFA67Xr0AZ9gsAsG3YtsHsYL31c3vuR4HQJKwZsMrcz0A4JvrsoAQQkggEjVrKXhralyvXIBTbBaB4Fv2l/djBW/txn2uxwGQJKzZ8MpcDwD4lgKlASGEkNRP1EyaNs31qgU4x2YRCL4/bD1R8L6ygYIXSFes2fDKXA8A+JYCpQEhhJDUT9SM2zPAkyeeeEIDBw5UKBRSSUmJVq1adcrjFy1apKFDhyoUCmn48OFaunRp3PvRaFQzZ85Uv3791L17d40ePVpbt26Nvb9jxw7deuut+sIXvqDu3bvrvPPO0wMPPKDm5ua4Y8ysVVasWJHwebFZBILvtS37YwXvi+v2uh4HQJKwZsMrcz0A4FsKlAaEEEICFB6whgQsXLhQeXl5evrpp7VhwwZNmjRJBQUFeu+9tu91uWzZMuXk5Gj27NnauHGjZsyYodzcXK1bty52TGVlpXr16qXnn39e9fX1Gjt2rAYNGqRDhw5Jkl588UV961vf0ssvv6xt27ZpyZIlOuecc3TPPffEvuN4wVtbW6u9e/fGcuTIkYTPjc0iEHyvbn4vVvC+sPZd1+MASBLWbHhlrgcA/Gp0XRQQQggJVqqrXS9dCICSkhJNnTo19udIJKJzzz1XDz30UJvHjxs3TmPGjIl77bLLLtNtt90mqeXq3X79+umRRx6Jvd/Y2KhQKKQFCxa0O8fs2bM1aNCg2J+PF7yrV6/2dV4Sm0UgHdRu3BcreP9f/R7X4wBIEtZseGWuBwB8c10UEEIICVa4ghcdaG5uVk5Ojp577rm412+55RaNHTu2zc8UFxdr7ty5ca898MADuuiiiyRJ27ZtU1vF7BVXXKE777yz3Vl+8IMf6JJLLon9+XjBW1xcrMLCQl1++eVasmSJp/NjswgE38vr98YK3udX73Y9DoAkYc2GV+Z6AMA310UBIYSQYGXhQtcrF1Lcnj17ZGZavnx53OvTpk1TSUlJm5/Jzc1V9UlXhz/55JM655xzJLXcwsHM9O678f+U+oYbbtC4cePa/M63335b+fn5+vnPfx577f3339ejjz6qlStX6o033tB9992nrKysU5a8hw8fVlNTUywNDQ1iswgE24vr3o0VvM/9mYIXSFcUvPDKXA8A+Oa6KCCEEBKsFBbyoDWcUioUvLt379b555+v73znOx3OO2HCBI0cObLd9ysqKtTWg9nYLALBtXTtiYL3v99scD0OgCSh4IVX5noAwDfXRQEhhJDghds04BRc36Jhz549Gjx4sCZMmKBIJNLhvE888YT69evX7vtcwQukn/+7Zk+s4F30p12uxwGQJBS88MpcDwD45rokIIQQErzwoM3uCvYAACAASURBVDV0oKSkRHfccUfsz5FIRP379z/lQ9auu+66uNdGjBjR6iFrc+bMib3f1NTU6iFru3fv1uDBgzV+/HiFE7zS/F/+5V908cUXJ3xubBaB4Ht+9e5YwbvwjZ2uxwGQJKzZ8MpcDwD45rokIIQQErxwBS86sHDhQoVCIT3zzDPauHGjJk+erIKCAu3bt09Sy20Rpk+fHjt+2bJl6tatm+bMmaNNmzapoqJCubm5WrduXeyYyspKFRQUaMmSJVq7dq3Kyso0aNAgHTp0SFJLuXvBBRdo9OjR2r17t/bu3RvLcc8884yqq6u1adMmbdq0ST/60Y+UnZ2tp59+OuFzY7MIBF/NWw2xgvfXKyl4gXTFmg2vzPUAgF91VqpqG686K1XYst2XBoQQQlI7Z57JPXiRkMcff1wDBgxQXl6eSkpKtHLlyth7paWlmjhxYtzxixYt0pAhQ5SXl6dhw4Zp6dKlce9Ho1HNnDlTffv2VSgU0ujRo7Vly5bY+1VVVWrrXrlmFjvmmWee0YUXXqiePXsqPz9fJSUlWrx4safzYrMIBN/iN08UvP+14h3X4wBIEtZseGUdHwKkps/u2Ytsl2qs3H15QAghJHXzv/+366ULcIrNIhB8z76xK1bw/ufyHa7HAZAkrNnwylwPAPj12T17lkWUZRFKXkIIIa0SNZOysqTmZtdLF+AUm0Ug+KpX7YwVvFV/3O56HABJwpoNr8z1AIBfJ+/hsyyiYtvJ7RoIIYS0He6/iwzHZhEIvv9a8U6s4P3FHyh4gXTFmg2vzPUAgF/t7t+t1H2JQAghJPVSXe166QKcYrMIBN+vlu+IFbw/f32b63EAJAlrNrwy1wMAfrW7f7fx7ksEQgghqReu4EWGY7MIBF/VH7fHCt6fvfYX1+MASBLWbHhlrgcA/Gp3/84VvIQQQk5O795SOOx66QKcYrMIBN8v/nCi4H2y7m3X4wBIEtZseGWuBwD8Onnvzj14CSGEhC1bdVaqahuvOis9sSbMmuV62QKcY7MIBN/PX98WK3ifeJWCF0hXrNnwylwPAPj12T19lkWUZRHVWLnzcoEQQk6ZrCz3M6RpaqxcRbYr7uUi26VFeeO5ehcQm0UgHfzstb/ECt5/r93qehwAScKaDa/M9QCAX/Eb+J2Uu4SQ1M8tt7ifIU1TY+XKsojMInFvxf4HwMUUvACbRSD4nqx7O1bwPvbKFtfjAEgS1mx4Za4HAPz67Aa+yHZR8BJCvCU3Vxo4sOt+3j33SPPnuz/vNEzYso9duRtt55CIigsPcREvMh6bRSD4Hv/d1ljB++jLm12PAyBJWLPhlbkeAPDrs5v3hG7RcMklUo8ezosIQkiG5sYbpfx893OkYeqsNKFD6+pcr1yAW2wWgeD78W9PFLyzX9rkehwAScKaDa/M9QCAXydv3HnIGiGEpGBycpL+M+bbzQkdOn++65ULcIvNIhB8j72yJVbwVr5IwQukK9ZseGWuBwD8am8DX2el7gsNQgghXZa5dldCh86d63rlAtxiswgE35yXN8cK3geXbnQ9DoAkYc2GV+Z6AMCv9jbw1TbeedlACCGk6zLfbkroUK7gRaZjswgE38MvbooVvP/nfza4HgdAkrBmwytzPQDgV3sbeK7gJYSQzAr34AUSw2YRCL4HX9gYK3hn/V8KXiBdsWbDK3M9AOBX6817VL1tP/fgJYSQDEuzdVOOHZVZtJ1DosrJkZqbXa9cgFtsFoHg+9HSEwVvxZL1rscBkCSs2fDKXA8A+NXWBt4sohord142EEII6bpwBS+QGDaLQPD98P9tiBW8M59f53ocAEnCmg2vzPUAgF9tbd6zLKJi28lVvIQQkkGptvEJHVpd7XrlAtxiswgEX8WS9bGC999+s9b1OACShDUbXpnrAQC/TrWJ5z68hBCSOam1UQkdWlvreuUC3GKzCATfzOfXxQre6TUUvEC6Ys2GV+Z6AMCvU23iq22888KBEEJI14SCF0gMm0Ug+H7w3NpYwXvv4nrX4wBIEtZseGWuBwD8OtUmnit4CSEkc8ItGoDEsFkEgm96zYmC955Fa1yPAyBJWLPhlbkeAPCr7Q18VDl2VM3WzXnhQAghpGvCQ9aAxLBZBILv3sX1sYL3e8+udj0OgCRhzYZX5noAwK9TbuK5gpcQQjImYctWke1SlkXaOSSq4mIpHHa9cgFusVkEgu+eRWtiBe9dC/7sehwAScKaDa/M9QCAX6fa73MPXkIIyawstutlFj2Wk9+OqqzM9aoFuMdmEQi+7z27Olbw/n/VFLxAumLNhlfmegDAr1Pt9bmClxBCMic1Vq7e9v4pDmkpfadNc71yAW6xWQSC764Ff44VvLf/+i3X4wBIEtZseGWuBwD8amsTn2URFdtOhS3beeFACCEk+amxcplF1PaVu/HJyZGam12vXoA7bBaB4Luj+kTBO+W/3nQ9DoAkYc2GV+Z6AMCv1pv5ln+aW2PlzgsHQgghyU/YstXfdimRcvd45s51vXoB7rBZBILv9l+/FSt4J//qT67HAZAkrNnwylwPAPjVdsEboeA93fTo4X4GQghJIHVW6vljd9zhevUC3GGzCATflP96M1bwfucZCl4gXbFmwytzPQDgV9ub94iKuEUDIYRkRKptvOePcQUvMhmbRSD4Jv3nn2IF761Vb7geB0CSsGbDK3M9AODXqTbws2yG8+KBEEJIclNrozx9hHvwIlFPPPGEBg4cqFAopJKSEq1ateqUxy9atEhDhw5VKBTS8OHDtXTp0rj3o9GoZs6cqX79+ql79+4aPXq0tm7dGnt/x44duvXWW/WFL3xB3bt313nnnacHHnhAzSf9P2x9fb1GjhypUCikoqIiPfzww57Oi80iEHzfeeaNWME78elT/90EILhYs+GVuR4A8OvUG3lu1UAIIemexAvellv6TJvmeuVCECxcuFB5eXl6+umntWHDBk2aNEkFBQV677332jx+2bJlysnJ0ezZs7Vx40bNmDFDubm5WrduXeyYyspK9erVS88//7zq6+s1duxYDRo0SIcOHZIkvfjii/rWt76ll19+Wdu2bdOSJUt0zjnn6J577ol9R1NTk/r27atvfvObWr9+vRYsWKAePXpo3rx5CZ8bm0Ug+L5ddaLgnfBLCl4gXbFmwytzPQDgV0eb+d62P9i3asjNdT8DIYSkcBK/RUOUchcJKykp0dSpU2N/jkQiOvfcc/XQQw+1efy4ceM0ZsyYuNcuu+wy3XbbbZJart7t16+fHnnkkdj7jY2NCoVCWrBgQbtzzJ49W4MGDYr9+amnntJZZ50Vd1Xvfffdp6FDhyZ8bmwWgeC75ZerYgXvN/9jpetxACQJaza8MtcDAH4lsqnnVg2EEJK+SfQha08+ucX1koWAaG5uVk5Ojp577rm412+55RaNHTu2zc8UFxdr7kk3d37ggQd00UUXSZK2bdsmM9Pq1avjjrniiit05513tjvLD37wA11yySWxP0+YMEFlZWVxx7z66qsyM3300Ucdn5zYLALp4J9/sTJW8I6ft8L1OACShDUbXpnrAQC/EtnU97b3g30VLyGEkHYTtmwV2S5lWaTNQ1pe36k33njL9ZKFgNizZ4/MTMuXL497fdq0aSopKWnzM7m5uaquro577cknn9Q555wjqeUWDmamd999N+6YG264QePGjWvzO99++23l5+fr5z//eey1r33ta5o8eXLccRs2bJCZaePGjW1+z+HDh9XU1BRLQ0OD2CwCwXbTz1fECt5xP1ve8QcABBIFL7wy1wMAfiXaAdRZqfMSghBCSHJSY+XHityTS96Isiwqs3K99RYFLxKTCgXv7t27df755+s73/lO3Ot+Ct6KigqZWauwWQSC68Z5y2MF7zd+usz1OACShIIXXpnrAQC/Et3/z7ebnRcQhBBCkpd77GFlWzju5Rw7qu987c8yMwpeJMz1LRr27NmjwYMHa8KECYpEInHv+blFA1fwAunnhp+eKHj/6SkKXiBdUfDCK3M9AOBXonv/uXaX8/KBEEJIcjLNKmUWbeOtyLHXuYIX3pSUlOiOO+6I/TkSiah///6nfMjaddddF/faiBEjWj1kbc6cObH3m5qaWj1kbffu3Ro8eLDGjx+vcDjc6uccf8jakSNHYq/df//9PGQNyDD/9NSyWMFb9sQfXY8DIElYs+GVuR4A8CvR/f98u8l5AUEIIaTz86x9Qy0lblsFr469vp978MKThQsXKhQK6ZlnntHGjRs1efJkFRQUaN++fZJarqSdPn167Phly5apW7dumjNnjjZt2qSKigrl5uZq3bp1sWMqKytVUFCgJUuWaO3atSorK9OgQYN06NAhSS3l7gUXXKDRo0dr9+7d2rt3byzHNTY2qm/fvpowYYLWr1+vhQsXqmfPnpo3b17C58ZmEQi+sif+GCt4v/74H1yPAyBJWLPhlbkeAPAr0Q6Ae/ASQkj6ZZFd3+q2DO1lypQ9rpcsBMzjjz+uAQMGKC8vTyUlJVq5cmXsvdLSUk2cODHu+EWLFmnIkCHKy8vTsGHDtHTp0rj3o9GoZs6cqb59+yoUCmn06NHasmVL7P2qqiq1da9cM4v7nvr6eo0cOVKhUEj9+/dXZWWlp/NiswgE39jH/xAreMf85PeuxwGQJKzZ8Mo6PgRITR1v6luu6lps1zsvIgghhHReaqxcrR+q1n7y84+qjX/xDmQcNotA8I35ye9jBe81P6bgBdIVaza8MtcDAH4ltrGPqth2KmzZzgsJQgghp5+wZavIdslLwWsm1dW5XrUA99gsAsF3zY9PFLxXz33d9TgAkoQ1G16Z6wEAvzxt7LlNAyGEpEXqrNTXR6urXa9agHtsFoHgu+qx12MF75WPvuZ6HABJwpoNr8z1AIBfXjb28+1m56UEIYSQ00+1jff1Ua7gBdgsAungykdfixW8o+bUuR4HQJKwZsMrcz0A4JeXjf1cu8t5KUEIIeT04+cKXu7BC7RgswgE36g5dbGC9389Uud6HABJwpoNr8z1AIBfXjb38+0m56UEIYSQ00/YsvX/t3f/8VGVd9rH7yQkAYsQQX48QjzLtsJ2pVq3bSxb19TFtlZ5YLNWBFvksbvibnXV2voctIFsrAgCSruCP7YVqI8bMN2odE9AFI0/CAKCEQJBoKiACIhoIioEZuZ6/hgYDQkh55DJnTPzeb9e12vLzCT5Znbs3fvycJ8zzV5fXzZhwi7bSxbQKbBZBMKvcPoLiYL37+59wfY4AJKENRt+GdsDAEH52dyXmmLrpQQhhJD2ya3mPl9f0rdvoyoqbK9agH1sFoHwu+je5xMF73emPW97HABJwpoNv4ztAYCg2r65j2mg2a6IybReShBCCDn1LDOX+PySmDIyRMmLtMdmEQi/v536ecE77J5ltscBkCSs2fDL2B4ACMpvJ1BlCq2XEoQQQk49/gteKSNDys8XZ/EirbFZBMLv2/csSxS8F06h4AVSFWs2/DK2BwCC8ru5LzNjrJcShBBCTj1lZkzgL6+qsr16AfawWQTC71t3P5coeL9593O2xwGQJKzZ8MvYHgAIyvemnit4CSEkJVJqigN/eVmZ7dULsIfNIhB+3/j1s4mC92/uetb2OACShDUbfhnbAwBB+dvUx1RiJnEOLyGEhDwRk6mBZoeMiQX6FlzBi3TGZhEIvwvu+rzg/XrpUtvjAEgS1mz4ZWwPAAQVZGM/0OxQhSmyXlAQQggJlipTGPjLOYMX6Y7NIhB+5/370kTB+7WSZ2yPAyBJWLPhl7E9ABBUsA1+VBkmSslLCCEhTbDzd2PKyJAqKmyvXIBdbBaB8Bs6+ZlEwTt0MgUvkKpYs+GXsT0AEFTQfiDDRJVvtnNcAyGEhCwRk6lZ5hbfX3raaRHKXUBsFoFU8NVJSxIF71cnLbE9DoAkYc2GX8b2AEBQp9oVcNM1QggJTypM0dGzd/1/+Zw5m20vWUCnwGYRCL8hxYsTBe/gXy22PQ6AJGHNhl/G9gBAUKfaF5SZMdYLC0IIISdPhSlShonKmGigb/HQQxS8gMRmEUgF59z5ecF7zp0UvECqYs2GX8b2AEBQp9oZcAUvIYR0/kRM5tErd4OVu8ZIU6a8ZXvJAjoFNotA+P3lHZWJgvcv76i0PQ6AJGHNhl/G9gBAUMH7As7gJYSQsKTKFJ7yt+EKXiCOzSIQfsfKXcf19BcTPdvjAEgS1mz4ZWwPAAQVfLMfU4Upsl5aEEIIOXnKzJhT/jZ9+jRykzVAbBaBsIvFYk0KXsf1FIvFbI8FIAlYs+GXsT0AEFSQTX6GiWihucp6YUFSPN262Z+BkBRJe1zBa0xMGRmi5EXaY7MIhNuRSLRZwXskErU9FoAkYM2GX8b2AEBQQTf63c3HKjXFHNFA2j8ZGVJ+vvTEE/ZnIaS9062b1LVrh//ciMlUL/PBKX+rY/94RiK2Vy/AHjaLQLgdOhJpVvA2HqHgBVIRazb8MrYHAII61c1+b7OPoxpI++fqq6WBA+3PQUh75fgr0nv37vCit9QUt9u3q6qyvXoB9rBZBMLt4OHmBe/Bw/ybSyAVsWbDL2N7ACCoU9/ox2RMlJKXEEI6eSImU6eb+nb5dmVltlcvwB42i0C4fXLoSLOC99PGI7bHApAErNnwy9geAAiqfXqDqPLNdo5rIISQTp5yc6Xi/2Iudkrfiit4kc7YLALh1nDwcLOC9+ODh22PBSAJWLPhl7E9ABBUe3YHVabQenlBCCGk9fzCTNepFLy9enEGL9Ibm0Ug3D76tLFZwVv/KQUvkIpYs+GXsT0AEFR79gZlZoz14oIQQsiJU2H+UQOzdp3Stykttb1yAXaxWQTCbf8nzQveDz9ptD0WgCRgzYZfxvYAQFDt2R0sM5dYLy8IIYS0nP82RcowUQW/ejem3r25ehdgswiE2/sfH2pW8O47cMj2WACSgDUbfhnbAwBBtWd/QMFLCCGdMxGTqYFmh06l3DUmpvJy26sWYB+bRSDc9jQclON6+ss7KjVoYrzg3fvxQdtjAUgC1mz4ZWwPAATVnh3CreY+6yUGIYSQ5qkyhe3yrbi5GvyYPXu2HMdRbm6uCgoKtGrVqlZfX15eriFDhig3N1dDhw5VZWVlk+djsZgmTZqk/v37q2vXrho+fLi2bNnS5DV33323hg0bpm7duqlnz54t/hxjTLMsWLCgzb8Xm0Ug3HZ99Jkc19NX7qzUl++olON62l1PwQukItZs+GVsDwAE1Z4dQg/zkSIm03qRQQghJH7VbpUpVJkZo2JT2i7ftqzM9qqFsFi4cKFycnI0d+5cbdy4Uddff73y8vK0d+/eFl9fXV2trKwsTZ8+XXV1dSouLlZ2drZqa2sTr5k2bZp69uypp59+WuvWrdPIkSM1aNAgHTz4eTEzefJk3X///brttttaLXjnzZun3bt3J/LF73EybBaBcNv54adyXE+Df7VY5/xqsRzX066PPrM9FoAkYM2GX8b2AEBQ7d0plJjJ1ksNQghJ91SYoqNHMrTvt+YKXrRVQUGBbrzxxsSfo9GozjrrLE2dOrXF148ePVpXXHFFk8cuvPBC3XDDDZLiV+/2799fM2bMSDxfX1+v3NzcFq++nTdvXqsF71NPPeX7dzqGzSIQbts/iBe8X520REOK4wXvjv2f2h4LQBKwZsMvY3sAIKj23vxnmIj+aK60Xm4QQkgok5Fxyt+jwhTp2Jm57TdaVP36NXKDNbRJY2OjsrKympWo1157rUaOHNni1+Tn52vWrFlNHps8ebLOO+88SdK2bdtkjFFNTU2T11x88cW6+eabm32/kxW8Z511lnr37q1vfetbevTRRxWLxU74+xw6dEgNDQ2J7Ny5U2wWgfB6a98nclxPQyc/o7+etESO6+mdDz6xPRaAJKDghV/G9gBAUMnpKGKqMEX2ixJCCEmzREymept9at9yNyZjopoxY5vtJQshsWvXLhljtGLFiiaP33777SooKGjxa7Kzs1V23Bkgc+bMUd++fSXFj3Awxui9995r8pqrrrpKo0ePbvb9Wit477rrLi1fvlyvv/66pk2bptzcXP32t7894e9TUlKils7tZbMIhNPWvQfkuJ6+VvKMhpY8I8f19NY+Cl4gFVHwwi9jewAgqOR0DDHlm+2cx0sIIR2cZTmXJeHbxmTMNK1du9b2koWQ6OwF7/EmTZqkgQMHnvB5ruAFUsuWPR/LcT19vXSpzvv3pXJcT1v3HrA9FoAkoOCFX8b2AEBQyewaqkyh9bKDEEJCmwDHNfzIPJGEUWIyZrtWr6bgRdt09iMajud5nowxOnToUJtez2YRCLdNuxvkuJ6+8etndcFdz8pxPW3Z87HtsQAkAWs2/DK2BwCCSmY3cbO5335BQgghaZLPz95Nzo945JHNtpcshEhBQYFuuummxJ+j0agGDBjQ6k3WRowY0eSxYcOGNbvJ2syZMxPPNzQ0BLrJ2vHuvvtunXHGGW167bGfy2YRCK8Nu+rluJ6+dfdz+sav4wXvpt388wykItZs+GVsDwAElcy+oYfZzzENhBDSAYmYTA00O5TMgnfKlLdsL1kIkYULFyo3N1fz589XXV2dJkyYoLy8PO3Zs0eSNG7cOE2cODHx+urqanXp0kUzZ87Upk2bVFJSouzsbNXW1iZeM23aNOXl5WnRokVav369Ro0apUGDBungwYOJ12zfvl01NTUqLS1V9+7dVVNTo5qaGh04EP/r13/605/0u9/9TrW1tdq6dasefPBBnXbaaZo8eXKbfzc2i0C4rd8ZL3gvnLJM37r7OTmupw276m2PBSAJWLPhl7E9ABBUsnsHjmkghJDkp8oUJv3HcAUv/HrggQd09tlnKycnRwUFBVq5cmXiucLCQo0fP77J68vLyzV48GDl5OTo3HPPVWVlZZPnY7GYJk2apH79+ik3N1fDhw/X5s1NP5fjx49XSzdEq6qqkiQtWbJEX//619W9e3d96Utf0vnnn6+HH35Y0Wi0zb8Xm0Ug3N7Y8ZEc19PfTn1eF05ZJsf1VPsuBS+Qiliz4ZexPQAQVLILgTIzxnrxQQghqZ7HzDVJ/hF7OYMXOIrNIhBua7d/KMf1dNG9z+tvpz4vx/X0xo6PbI8FIAlYs+GXsT0AEFSyeweu4CWEkOSmwhSpp/kwyT/mPq1dS8ELSGwWgbB77e39clxPhdNf0EX3xgve17d/aHssAEnAmg2/jO0BgKCSWQhwBi8hhCQ3n99YLXln78ZTSMELHMVmEQi3lds+kON6umRGlS6e/oIc19Oad/bbHgtAErBmwy9jewAgqOSVATHdaH6rKlNIyUsIIUlIxGSqu2lQssvdM844LGO6UPACR7FZBMJtxZ/jBe/w+17UJTOq5LieVr1FwQukItZs+GVsDwAE1RE9xECzQxWmyHoZklLJy7M/AyHEakrM5A78cR9q6tRttpcsoFNgswiE2/Kt++S4nr5//0v6+5nxgvfVbR/YHgtAErBmwy9jewAgqI4pBqLKMFFKXkIIaadETKa6mU87+MfGNGqU7VULsI/NIhBuL21+X47r6bLfvKzv3f+iHNdT9dZ9tscCkASs2fDL2B4ACKrjioGo8s12jmsghJB2SKkptvBj40dB/OIXtlcuwC42i0C4vfDmXjmup8t/+7J+MOslOa6nV7ZQ8AKpiDUbfhnbAwBBdXRBUGUKrRcjhBAS5kRMpnqZD6yNkJkpNTbaXr0Ae9gsAuH2/KY9clxP//uBV/TD37wsx/X04ub3bY8FIAlYs+GXsT0AEFRHFwOPm2uslyOEEBLmVJlC2yNo1izbqxdgD5tFINye3RgveEfNXq4R//GKHNfTC2/utT0WgCRgzYZfxvYAQFAdXgqYW6yXI4QQEuaUmTG2R9BNN9levQB72CwC4bakdrcc19M/PlitkQ/EC95ldXtsjwUgCViz4ZexPQAQVEeXAjeb+62XI4QQEuZwBS9gF5tFINwq178nx/X0o4eq9Q9zlstxPS3dsNv2WACSgDUbfhnbAwBBdXQp0Mfs4UZrhBByCik3Vyp+w7OYlRGysjiDF+mNzSIQbv+zbpcc19Poh1foyger5bieltRS8AKpiDUbfhnbAwBB2SgHuNEaIYQES6Ppoh6mXnbK3fjPvP122ysXYBebRSDcnq55V47raex/vqqrHlohx/VUuf4922MBSALWbPhlbA8ABGWjo3iMG60RQojvVJgi9TZ7rY2QkRGj3AXEZhEIuydf3ynH9fST36/U1Y/EC97/WbfL9lgAkoA1G34Z2wMAQdkoCXqaD1VhiqyXJYQQEpZUmCIZE5WtYxmMkXr0OKyKCturFmAfm0Ug3P64Jl7wjnt0lcb+56tyXE9P17xreywAScCaDb+M7QGAoOwUBVFlmCglLyGEtCERk6neZp9slrvxxH8+JS/SHZtFINyeeG2HHNfT/5m7Sj/5/Uo5rqcnX99peywAScCaDb+M7QGAoGwVBRkmqnyznRuuEULISbLMXGJ7hCbJz5ciEdurF2APm0Ug3Bas2i7H9fRP81fr2kdXyXE9/fcaCl4gFbFmwy9jewAgKNtFATdcI4SQ1lNsSm2P0CxVVbZXL8AeNotAuD2+8h05rqfr//Ca/s/ceMH7xGs7bI8FIAlYs+GXsT0AEJTtkqDMjLE/BCGEdOJ0xoL38cdtr16APWwWgXB77NV4wXvDY2v0T/NXy3E9LVy93fZYAJKANRt+GdsDAEHZLgm4gpcQQlpPZzuiwRhp1izbqxdgD5tFINzmV78tx/X0s8fX6p//8Joc19N/raTgBVIRazb8MrYHAIKyVxDE1Nu8zxm8hBBykjSaLso0Edm/ydrn4QpepDM2i0C4PfrKW3JcTzeVva4bHlsjx/X02Kvv2B4LQBKwZsMvY3sAICh7BUFMXc2nWmYuoeQlhJBWUmUKbY/QLJzBi3TGPXY6SQAAIABJREFUZhEIt9+9vE2O6+mWBa/rZ4+vleN6+sOKt22PBSAJWLPhl7E9ABCU7ZLAGGmg2aEKU2R/EEII6SSJmEwtM5eo2JTqH0yF7XGaJD9fikRsr16APWwWgXB75KU/y3E9/XxhjW78r3jBO3f5W7bHApAErNnwy9geAAjKdlEQT1QZJkrJSwghxqjCFKm32Wd7jBPm9tttr1yAXWwWgXB7sCpe8P6i/A3dvOB1Oa6n379CwQukItZs+GVsDwAEZbsoOJYME1W+2c5xDYSQtE6FKVL8rN2WztvtHGfwDhzIFbxIb2wWgXCb/cJWOa6n//vHdbp1YY0c19N/vrTN9lgAkoA1G34Z2wMAQdkuCo5PlSm0PwQhhFhIxGSqu2lQZylyWwtn8CKdsVkEwu23y7bIcT1NrFiv2554Q47r6eEX/2x7LABJwJoNv4ztAYCgbJcEx6fYlHIVLyEkLVNiJtseoc0pK7O9egH2sFkEwm3Wc5vluJ7ufHK9flkeL3jnVG21PRaAJGDNhl/G9gBAULZLgpbCTdcIIemWiMlUN/Op7THaHK7gRTpjswiE231L35Tjepr0dK3c/14nx/X0wPNbbI8FIAlYs+GXsT0AEJTtkqDlcNM1Qkh6pdQU2x6hzeEMXqQ7NotAuE1/ZpMc11PJog2648n1clxPv11GwQukItZs+GVsDwAEZbsoOHGiGshN1wghaZCIyVQv84HtMdqQ+NnAFRW2Vy6ExezZs+U4jnJzc1VQUKBVq1a1+vry8nINGTJEubm5Gjp0qCorK5s8H4vFNGnSJPXv319du3bV8OHDtWVL01Lm7rvv1rBhw9StWzf17NmzxZ+zfft2XX755erWrZv69OmjX/7ylzpy5Eibfy82i0C4TV0cL3hL/7RRv3oqXvDe/+xm22MBSALWbPhlbA8ABGW/MGg9pabY/hCEEJLEVJlC2yO0KV/60hHKXbTZwoULlZOTo7lz52rjxo26/vrrlZeXp71797b4+urqamVlZWn69Omqq6tTcXGxsrOzVVtbm3jNtGnT1LNnTz399NNat26dRo4cqUGDBungwYOJ10yePFn333+/brvtthYL3kgkoqFDh+rSSy9VTU2NFi9erDPPPFN33HFHm383NotAuN1TWSfH9XS3t1GTn66V43q6b+mbtscCkASs2fDL2B4ACMp2YXDyxDiqgRCS0ikzY2yPcJLEZMwevfrqWttLFkKkoKBAN954Y+LP0WhUZ511lqZOndri60ePHq0rrriiyWMXXnihbrjhBknxq3f79++vGTNmJJ6vr69Xbm6uFixY0Oz7zZs3r8WCd/HixcrMzNSePXsSjz300EPq0aOHGhsb2/S7sVkEwu3X/7NRjuvpnsV1Klm0QY7rafozm2yPBSAJWLPhl7E9ABCU/eLgZIkqP9lHNfTsafuXJISkca42ZbZHOEliMqZIa9dS8KJtGhsblZWVpaeeeqrJ49dee61GjhzZ4tfk5+dr1qxZTR6bPHmyzjvvPEnStm3bZIxRTU1Nk9dcfPHFuvnmm5t9vxMVvJMmTdL555/f5LG33npLxhi9/vrrLc526NAhNTQ0JLJz506xWQTC69//FC91712ySXcdLXunLqbgBVIRBS/8MrYHAIKyXxy0LVWmMHnffOFCacAA+78kISTtUm6uVLxAjdke5YT56lcPyJhCrV5NwYu22bVrl4wxWrFiRZPHb7/9dhUUFLT4NdnZ2SorK2vy2Jw5c9S3b19J8SMcjDF67733mrzmqquu0ujRo5t9vxMVvNdff72+//3vN3ns008/lTFGixcvbnG2kpISGWOahc0iEE7HjmWY8cybmnL0uIZ7KutsjwUgCSh44ZexPQAQlO3ioK0pM2OS8427dYsXvL172/8lCSFplYjJVA9Tb3uMNqdv30bO4EWbpFrByxW8QGopfuroubvPbtY9i+MF76//Z6PtsQAkAQUv/DK2BwCCsl0YtDUlZrL9IQghpB1Taoptj+AzMWVkiJIXJ5VqRzQcj80iEG53PLlejuvpN89t0b1LNslxPZX+iYIXSEWs2fDL2B4ACMp+YdC2nG7qtcxcktyzeAkhpIMSMZnqbhpsjxEo+flSJGJ79UJnV1BQoJtuuinx52g0qgEDBrR6k7URI0Y0eWzYsGHNbrI2c+bMxPMNDQ2Bb7K2d+/exGOPPPKIevTooUOHDrXpd2OzCISb+9/r5LieHnh+i2Y886Yc11PJog22xwKQBKzZ8MvYHgAIynZR4De9zAcqNcUUvYSQ0CZiMjXT3Gp7jFNKVZXt1Qud3cKFC5Wbm6v58+errq5OEyZMUF5envbs2SNJGjdunCZOnJh4fXV1tbp06aKZM2dq06ZNKikpUXZ2tmpraxOvmTZtmvLy8rRo0SKtX79eo0aN0qBBg3Tw4MHEa7Zv366amhqVlpaqe/fuqqmpUU1NjQ4cOCBJikQiGjp0qL7//e/rjTfe0DPPPKM+ffrojjvuaPPvxmYRCLdflr8hx/U0+4Wtuu/ZzXJcT8VP1Z78CwGEDms2/DK2BwCCsl0SBE1vs08Vpsj+IIQQ4iMVpkgDzQ7bY5xyjjsqFWjRAw88oLPPPls5OTkqKCjQypUrE88VFhZq/PjxTV5fXl6uwYMHKycnR+eee64qKyubPB+LxTRp0iT169dPubm5Gj58uDZv3tzkNePHj1dLN0Sr+sK/lXjnnXf0wx/+UN26ddOZZ56pX/ziFzpy5Eibfy82i0C43fZEvOB96MU/6zfPbZHjerrzyfW2xwKQBKzZ8MvYHgAIynZJEDwxZZgoJS8hJDSpMEXKMFEZE7U9yimHK3iRztgsAuF268IaOa6n/3xpm/5jWbzgnVixzvZYAJKANRt+GdsDAEHZLglOLVHlm+0c10AI6fSJmMyjV+6Gv9zNy+MMXqQ3NotAuP1b2etyXE+/f+UtzX5hqxzX0//9IwUvkIpYs+GXsT0AEJTtoqA9UmUK7Q9BCGme7Gz7M3SCREymZplbbI/RbvnHf7S9cgF2sVkEwu1n/7VWjutp7vK39GDVn+W4nn5R/obtsQAkAWs2/DK2BwCCsl0UtEceN2PtD0EIIS0kVc7c/WKKi22vXIBdbBaBcPvXx9fIcT39YcXbeuSleMH78ydqbI8FIAlYs+GXsT0AEJTtoqD1xNr0uj5mL2fxEkI6XVLpzN0vZtky2ysXYBebRSDcJjz2mhzX0/979R397uVtclxPtyx43fZYAJKANRt+GdsDAEHZLgraIxkmyg3XCCGdKql05u7nial3b87fBdgsAuH2T/PjBW/Zqu169JW35Liebiqj4AVSEWs2/DK2BwCCsl8YtE8yuOEaIaQTpcoU2h6hnROTMTFVVNhetQD72CwC4XbdvNVyXE8LV2/X/Oq35biefvZfa22PBSAJWLPhl7E9ABCU/dKgfcMN1wghnSFlZoztEU4pGRnHP7ZdM2Zss71kAZ0Cm0Ug3MbPXSXH9VT+2g49tiJe8P7L/1tjeywAScCaDb+M7QGAoGyXCO2dW8199ocghKR9UuUK3ltvlR55ZLOMydTatVzdBEhsFoGw+8nvV8pxPVWs3anHV74jx/U04bHXbI8FIAlYs+GXsT0AEJTt8qC908fs4ZgGQoi1REymqkyhbjb3y5iI7XFOOb16SQ89RMELfBGbRSDcrvndq3JcT0/XvKsFq7bLcT3903wKXiAVsWbDL2N7ACAo2+VBMsIxDYQQG6kwRUdvrGZ9lCRkB0c0AEexWQTC7epHVshxPS16Y5eeWL1DjuvpunmrbY8FIAlYs+GXsT0AEJT90qD9U2bG2B+CEJJWqTBFyjBRxW9GZn2cJCT+u3GTNYDNIhB2Vz0cL3i9de/pj2t2ynE9jZ+7yvZYAJKANRt+GdsDAEHZLw3aP+PMH7TMXMJRDYSQDknEZB69cjdVy91jiSk/X4pEbK9cgF1sFoFwu/LBajmupyW176libbzg/cnvV9oeC0ASsGbDL2N7ACAo+4VB8tLb7FOFKbI/CCEkpZMqN1Rra6qqbK9cgF1sFoFw+4c5y+W4npZu2K2na96V43r68e8oeIFUxJoNv4ztAYCgbBcFyU1MxsQoeQkhSc1j5se2R+jQlJXZXrkAu9gsAuE2cna84H1u4x4temOXHNfTmEdetT0WgCRgzYZfxvYAQFC2i4LkJ6aBZjvHNRBCkpYbzQO2R+jQcAUv0h2bRSDcRvzHK3JcTy9s2itv3XtyXE9XPbzC9lgAkoA1G34Z2wMAQdkuCjqskDCF9ocghKRkfpY2BS9n8AISm0Ug7H74m5fluJ5e3Py+ltTGC94fPVRteywAScCaDb+M7QGAoOwXBh2TW8199ocghKRkxpu5tkfogMSPvCkvt71qAfaxWQTC7QezXpLjenplyz49s2G3HNdT0ZzltscCkASs2fDL2B4ACMp+adAxOd18xDENVt740+3PQEgSEzGZ6mX22h6jw1JaanvVAuxjswiE2/fuf1GO66l66z49t3GPHNfTqNkUvEAqYs2GX8b2AEBQtsuCDi0mTLH9IdIpp59OwUtSPlWm0PYIHZpevTiiAWCzCITb38+skuN6enXbB3p+U7zg/d8PvGJ7LABJwJoNv4ztAYCgbJcFHZnTTb0eN9eoyhRyNS8hJHBiX/jPZWaM7XE6PNxkDemOzSIQbt+dES94V7+9X1Vv7pXjerr8ty/bHgtAErBmwy9jewAgKNtFga0MNDtUYYrsD0IICV1ixih69D+XmmLb43R4yspsr1yAXWwWgXD7u3tfkON6WvPOh3p5y/tyXE+X/YaCF0hFrNnwy9geAAjKdlFgL1FlmCglLyGkzYkZo4acHI3OzNTBM89UxGRqgNmh+A3IrI/XYeEKXqQ7NotAuH1n2vNyXE+vb/9Qy7fuk+N6+v79L9keC0ASsGbDL2N7ACAo20WB3USVb7ZzXAMh5ISJmExVmUL9lxmjZeYS/Z35e91yy0pVLYvo38e/ZXu8Dk68yF640PbKBdjFZhEIt2H3LJPjelq38yOt+PMHclxPl973ou2xACQBazb8MrYHAIKyXxjYT5UptD8EIaTTpcIUHb1C1/oonSp9+nCjNaQ3NotAuBVMeU6O66n23Xqt3BYveC+ZWWV7LABJwJoNv4ztAYCgbBcFnSGPHb3xWpkZww3YCCGSiZe7xkSVbscvtDUc04B0xmYRCLdv/Dpe8Na916DX3t4vx/X03RlVtscCkASs2fDL2B4ACMp2SdAZ0tN82OTP3ICNkPROxGSql9knyt0ThxutIZ2xWQTC7W/uelaO6+nN3R9r7fYP5bie/u7eF2yPBSAJWLPhl7E9ABCU7ZKgcyTa5M8Z3ICNkLROiZlke4ROH67gRTpjswiE2/mlS+W4nrbu/Vg1Oz6S43r626nP2x4LQBKwZsMvY3sAICjbJUFnTQY3YCMkrXLsZmq3mvvElbutJz+fM3iR3tgsAuE2tOQZOa6nbe8f0Pqd9XJcT8PuWWZ7LABJwJoNv4ztAYCgbBcFnT2zzC2UvISkeP5orlQfs9f2GKFJebntlQthMXv2bDmOo9zcXBUUFGjVqlWtvr68vFxDhgxRbm6uhg4dqsrKyibPx2IxTZo0Sf3791fXrl01fPhwbdmypclr9u/fr2uuuUann366evbsqZ/+9Kc6cOBA4vm3335bxphmefXVV9v8e7FZBMLtryctkeN6eueDT1T7brzgLZjynO2xACQBazb8MrYHAIKyXRSEISl9Ju/AgVL37vbnIMRSbjfTxBW7/lJaanvlQhgsXLhQOTk5mjt3rjZu3Kjrr79eeXl52rt3b4uvr66uVlZWlqZPn666ujoVFxcrOztbtbW1iddMmzZNPXv21NNPP61169Zp5MiRGjRokA4ePJh4zWWXXabzzz9fK1eu1CuvvKKvfOUrGjt2bOL5YwXvsmXLtHv37kQOHz7c5t+NzSIQbn9VHC94d+z/VHXvNchxPX3zbgpeIBWxZsMvY3sAICjbRUE4EkvNM3l79JCWLrU/ByGWUm6uVLzcpeD1k969OaIBJ1dQUKAbb7wx8edoNKqzzjpLU6dObfH1o0eP1hVXXNHksQsvvFA33HCDpPjVu/3799eMGTMSz9fX1ys3N1cLFiyQJNXV1ckYo9deey3xmiVLligjI0O7du2S9HnBW1NTE/h3Y7MIhNs5v1osx/X07kefafOej+W4nv7mrmdtjwUgCViz4ZexPQAQlO2iIDyJqbd5P/WOa7jySvszEGIhjaaLepgPbY8R2nCTNbSmsbFRWVlZeuqpp5o8fu2112rkyJEtfk1+fr5mzZrV5LHJkyfrvPPOkyRt27ZNLRWzF198sW6++WZJ0qOPPqq8vLwmzx85ckRZWVl68sknJX1e8Obn56tPnz76zne+o0WLFrX6+xw6dEgNDQ2J7Ny5U2wWgfD68h2VclxPu+sPauveeMF7fulS22MBSAIKXvhlbA8ABGW7JAhbSk2x/SHaM7m59mcgpINTYYo4c/cUU1Zme/VCZ7Zr1y4ZY7RixYomj99+++0qKCho8Wuys7NVdtwHa86cOerbt6+k+BEOxhi99957TV5z1VVXafTo0ZKkKVOmaPDgwc2+d58+ffTggw9Kkvbt26f77rtPK1eu1OrVq+W6rjIyMloteUtKStTSub1sFoFw+ouJnhzX096PD2rb+wfkuJ6+VvKM7bEAJAEFL/wytgcAgrJdEoQtvcy+1LuKl5A0SoUpUoaJimMZTi1cwYvWdOaCtyXjxo3TRRdddMLnuYIXSB2xWEyOGy949x04pLf3fSLH9XTuZApeIBVR8MIvY3sAICjbJUEYU2xKVWUKKXoJCVkiJlMDzQ4ZE7U9SqiTn88ZvGhdZz6ioSWzZ89W//792/bLic0iEGaR6OcF74efNGrH/k/luJ6+OmmJ7dEAJAFrNvwytgcAgrJdFIQ5fcxe3Wruo+wlpBMnYjJVZQpVZsZolrnF9jghT/yq51/8wvbKhTAoKCjQTTfdlPhzNBrVgAEDWr3J2ogRI5o8NmzYsGY3WZs5c2bi+YaGhhZvsrZmzZrEa5YuXdrkJmst+ed//mddcMEFbf7d2CwC4dV4JJooeOs/O6x3P/pMjutp8K8W2x4NQBKwZsMvY3sAICj7hUFqZKDZoQpTZH8QQkgiFabo6BW71kdJqfTpwxW8OLmFCxcqNzdX8+fPV11dnSZMmKC8vDzt2bNHUvxYhIkTJyZeX11drS5dumjmzJnatGmTSkpKlJ2drdra2sRrpk2bpry8PC1atEjr16/XqFGjNGjQIB08eDDxmssuu0wXXHCBVq1apeXLl+ucc87R2LFjE8/Pnz9fZWVl2rRpkzZt2qQpU6YoMzNTc+fObfPvxmYRCK+DhyOJgvfAoSN6rz5e8H7lzkrbowFIAtZs+GVsDwAEZbsoSJ1ElWGilLyEdJJ8ftYuxzEkI5zBi7Z44IEHdPbZZysnJ0cFBQVauXJl4rnCwkKNHz++yevLy8s1ePBg5eTk6Nxzz1VlZdPCJRaLadKkSerXr59yc3M1fPhwbd68uclr9u/fr7Fjx6p79+7q0aOHrrvuOh04cCDx/Pz58/XVr35Vp512mnr06KGCggL98Y9/9PV7sVkEwuvTxiOJgvfTxiPa23BQjuvpL++g4AVSEWs2/DK2BwCCsl0SpFIyTFT5ZjvHNRBiKceOY3jcjFUfs1cnLne5wdqp5rh7YQFphc0iEF4fHzycKHgPHo7o/Y8PJf4MIPWwZsMvY3sAICjbJUEqpsoU2h+CkDRLhSnSAI5j6LBwBS/SGZtFILzqP/284D0ciWr/J42JP8diMdvjAWhnrNnwy9geAAjKdkmQiikzY+wPQUgapcIUKX61LlfmdkR69eIMXqQ3NotAeH2x0I1EY/ro08//fCQStT0egHbGmg2/jO0BgKBsFwWpmBIzWVWmUGVmjKpMIUc2EJLEREymepl9otztuPToQcGL9MZmEQivfQcONblit+ELRzY0HqHgBVINazb8MrYHAIKyXRScKN262Z8hWGLKNEeaPDbQ7ODma4QkKSVmsu0R0jIc0YB0xmYRCK9jN1UbNDF+5u4nh440OZMXQGphzYZfxvYAQFC2S4ITJSPD/gztl6iMiarcXGl7EEKaJzvb/gwBEz+agSt3bYSbrCGdsVkEwuu9+s/kuJ6+cmelJOmzxkii4P3k0BHL0wFob6zZ8MvYHgAIynZJkE7JMBGVmMkc2UBIOyRiMjXQ7BAFr51wBS/SGZtFILx2fvipHNfTOb9aLEk6dOTzgvfjg4ctTwegvbFmwy9jewAgKNslQTqmu2lQqSmm6CXkFFJqim2PkLbp04czeJHe2CwC4bVjf7zg/aviJZKkw5FoouCt/5SCF0g1rNnwy9geAAjKdlGQzult9nE2LyE+EjGZqjKFutXcJ67ctZH4e15ebnvlAuxiswiE19v7PpHjejp38jOSpGg0lih4P/yk0fJ0ANobazb8MrYHAIKyXxikc2LKMFFKXkLakApTdPRIBuujpHFiuv1226sWYB+bRSC8/vz+ATmup6+VPJN47FjBu+/AIYuTAUgG1mz4ZWwPAARlvzBI90SVb7anz3ENWVn2ZyChS4UpUoaJiqt2bSaq66/fxdEMgNgsAmG2Zc/HclxP55cuTTw2aGK84N3bcNDiZACSgTUbfhnbAwBB2S8NiDFSlSm0PwQhnTDcTK1zZeBAqaLC9soF2MVmEQivN3fHC96/uevZxGNfubNSjutpdz0FL5BqWLPhl7E9ABCUMf9hvTAIkhEj7M/QnnncXGN/CEI6YZaZS2yPQL6QjIx4KHmRztgsAuG1cVeDHNfTN+9+LvHYOb9aLMf19O5Hn1mcDEAysGbDL2N7ACAoE9I70ffpY3+G9syZZi9n8ZK0zrEbqJWZMaoyhYqYTFWYIvUyH9gejRyXjAwpP18c14C0xWYRCK/ad+vluJ4unLIs8dhfFS+R43rasf9Ti5MBSAbWbPhlbA8ABBX/a8/81Wf7iXLDNZK2aekGar3NPsX/uylqezxyglRV2V7BADvYLALhtW7nR3JcT8Pu+bzgPXfyM3JcT+988InFyQAkA2s2/DK2BwCCsl0QkM+TkW43XCPEfPEGascXufzLp86esjLbKxhgB5tFILxe3/6hHNfTd6Y9n3hsaEm84N32/gGLkwFIBtZs+GVsDwAEZbsgIM1z7IZrLf2VdevDEdJOiZhMLTXDdbqpF0VuOMMVvEhXbBaB8Frzzn45rqeLp7+QeOz80qVyXE9b91LwAqmGNRt+GdsDAEHZLghI85SZMS3+lfWBZgdHOJDQJ2IyVWqK1d002B6FBAxn8CLdsVkEwmvVW/GC95IZVYnHLrjrWTmup817PrY3GICkYM2GX8b2AEBQtosC0jw/Mk+o5bNH43+N/VZzH1f0klCmwhQdPVvX+ijkFJKRIVVU2F69AHvYLALh9eq2D+S4nv5+ZlXisW/8+jk5rqdNu/lnGkg1rNnwy9geAAjKdlFAvhh/f02dK3pJmPL5WbscxxD23H677ZULsIvNIhBe1Vv3yXE9fe/+FxOPFUyJF7wbdtVbnAxAMrBmwy9jewAgKNtFAQmeDBNVholS8pJOn4jJPHrkCOVuKoTjGZDu2CwC4fX8pj1yXE8//M3Lice+fc8yOa6n2ncpeIFUw5oNv4ztAYCgbBcF5FQTVb7ZrojJ5KZspNOmyhTaHoG0c7jBGtIZm0UgvB5+8c9yXE8/e3xt4rG/nfq8HNfTGzs+sjgZgGRgzYZfxvYAQFAdWQh06WK/lEjVlJpibspGOk2O/5cNj5kf2x6JtHPKymyvXoA9bBaB8LplwetyXE8PPL8l8dhF98YL3rXbP7Q4GYBkYM2GX8b2AEBQtksC0l6J6vibsnGEA7GRClPU7F82ZJqI7bFIO4creJHO2CwC4fX9+1+S43paVrcn8Vjh9BfkuJ7WvLPf4mQAkoE1G34Z2wMAQdkuCUh7Jdri4xkmqj5mjx43Y7XMXKJl5hKOcCCB0tIRIMcee9xco1nmFt1s7lf8nN3jP4+cvZtK4QxepDs2i0A4HToS0ZfvqJTjetr10WeJxy+ZUSXH9bTqLQpeINWwZsMvY3sAICjbRQGxF45wSIHk5Uk//7mUlZXUn9PSVbndTYN6mHrrbwHpyMSL+ooK2ysXYBebRSCcat+tl+N6+lrJM4rFYonHh9/3ohzX06vbPrA4HYBkYM2GX8b2AEBQ9gsDYisZR491KDXFXNUbplx9dfwA1GXLpMmTk/7zKkyRWjoChKRnrr7a9qoF2MdmEQinP67ZKcf1NPrhFU0eP3ZsQ/XWfZYmA5AsrNnwy9geAAjKdllAbKfpX53vZT5QqSmm6O2MyciQ/u3f4sVuSYnUvXvSftYXj17oaj5p9jkh6ZtevTieAWCzCITTXf+zUY7rqWTRhiaP/2BWvOB9ecv7liYDkCys2fDL2B4ACMp2WUDap3Bp7wKut9nH8Q1plC+er1tqijXguOMYCPliuMEa2mr27NlyHEe5ubkqKCjQqlWrWn19eXm5hgwZotzcXA0dOlSVlZVNno/FYpo0aZL69++vrl27avjw4dqyZUuT1+zfv1/XXHONTj/9dPXs2VM//elPdeDAgSavWbdunS666CLl5uZq4MCBuvfee339XmwWgXAa+5+vynE9PbF6R5PHL//ty3JcTy9upuAFUg1rNvwytgcAgrJdFJBTz3e/m4zvG79RVomZrEbTpdnNtaz/0qTd0tL5ulyxS1pLWZntlQthsHDhQuXk5Gju3LnauHGjrr/+euXl5Wnv3r0tvr66ulpZWVmaPn266urqVFxcrOzsbNXW1iZeM23aNPXs2VNPP/201q1bp5EjR2rQoEE6ePBg4jWXXXaZzj//fK1cuVKvvPKKvvKVr2js2LGJ5xsaGtSvXz/pBP8EAAAQfklEQVT9+Mc/1oYNG7RgwQJ169ZNjzzySJt/NzaLQPjEYjF9vXSpHNfT+p31TZ4b8R+vyHE9vbCp5f9+AhBerNnwy9geAAjKdlFAOn8yjjt7taf5UE+YH9kfjJxyKkxR4izmTjAOCUm4ghdtUVBQoBtvvDHx52g0qrPOOktTp05t8fWjR4/WFVdc0eSxCy+8UDfccIOkeDnTv39/zZgxI/F8fX29cnNztWDBAklSXV2djDF67bXXEq9ZsmSJMjIytGvXLknSgw8+qDPOOEONjY2J17iuqyFDhrT5d2OzCITP7vqDclxPf3lHpQ4ebnrW0MjZy+W4npbV7bE0HYBkYc2GX8b2AEBQtosCEtbE9B3zElfzhjiNpovONHvF1bqk7YkpP58zeHFyjY2NysrK0lNPPdXk8WuvvVYjR45s8Wvy8/M1a9asJo9NnjxZ5513niRp27ZtMsaopqamyWsuvvhi3XzzzZKkRx99VHl5eU2eP3LkiLKysvTkk09KksaNG6dRo0Y1ec0LL7wgY4w+/PDDNv1+ydosbnv/gOreayCEJCGPr3xHjuvp0vtebPbPXtGceMH76CtvWZ+TkHTOro8+a9d1VaLghX/G9gBAUPYLAxLm5JpPVG6ubHKGK8c4dK609P+bClOkHqbe9mgkVIkqIyOmigrbqxbCYNeuXTLGaMWKpneqv/3221VQUNDi12RnZ6vsuPM/5syZo759+0qKH+FgjNF7773X5DVXXXWVRo8eLUmaMmWKBg8e3Ox79+nTRw8++KAk6Xvf+54mTJjQ5PmNGzfKGKO6uroWZzt06JAaGhoS2blzp5KxWTx2DighJHn5t7LXm/2z96OHqq3PRQjxdNsTb7TruipR8MI/Y3sAICj7pQEJf2LqbhqaPDbQ7OAmbZ0gLZ2v28vsU/yqXa7cJX6yXTNmbLO9ZCEkUq3gLSkpkTGmWdp7s/jj363UN379HCEkSbno3ue1fOu+Zv/sla3argunLLM+HyHpnpJFG9p1XZUoeOGfsT0AEJT90oCkRpqWhRkmqgwTpeRNQtpytXTEZKrUFKvlIpdilwTJZK1du9b2koWQSLUjGjrqCl4AANC+KHjhl7E9ABCU/dKApGoyTFT5ZjvHNbRjWroid6DZoRIzWcWmVMWmVP9uJuus415DyKmnQatXU/Ci7QoKCnTTTTcl/hyNRjVgwIBWb7I2YsSIJo8NGzas2U3WZs6cmXi+oaGhxZusrVmzJvGapUuXtniTtcOHDydec8cdd3CTNQAAUhBrNvwytgcAgrJfGpBUzzJzSZMrThtNF87rbSUtXaHr/4pcrtIl7Z8bbthle8lCiCxcuFC5ubmaP3++6urqNGHCBOXl5WnPnvhd6seNG6eJEycmXl9dXa0uXbpo5syZ2rRpk0pKSpSdna3a2trEa6ZNm6a8vDwtWrRI69ev16hRozRo0CAdPHgw8ZrLLrtMF1xwgVatWqXly5frnHPO0dixYxPP19fXq1+/fho3bpw2bNighQsX6rTTTtMjjzzS5t+NzSIAAOHAmg2/jO0BgKBsFwYk9dPLfNDkz1nmSJM/t+W83nS5iVtLV+j2NvuOnptrfTyS5unR44giEdurFsLkgQce0Nlnn62cnBwVFBRo5cqViecKCws1fvz4Jq8vLy/X4MGDlZOTo3PPPVeVlZVNno/FYpo0aZL69eun3NxcDR8+XJs3b27ymv3792vs2LHq3r27evTooeuuu04HDhxo8pp169bpoosuUm5urgYMGKBp06b5+r3YLAIAEA6s2fDL2B4ACMp2YUDSIa1fcXqi83qPlbq3mvvU2+xt8jUDUvAmbhWmSBkmKmOiLbxfXJFLOkdKS22vWoB9bBYBAAgH1mz4ZWwPAARluywgqRw/xWT8vN5jxzfcau7TmceVus2/d+rcxC1iMjXA7FDzcpeQzpeKCtsrF2AXm0UAAMKBNRt+GdsDAEHZLgoI+WL6tFrqHp+Yepv3U+K4hvj5utbHIKRNyc8XRzUgrbFZBAAgHFiz4ZexPQAQlO2igJCm8X8UwTJzie2hAydm4kczcAQDCVuqqmyvXoA9bBYBAAgH1mz4ZWwPAARluyQg4cpf/7XUq5f9Ob6YO81d9ocImMMm8+hN1Sh4SbhSVmZ79QLsYbMIAEA4sGbDL2N7ACAo2yVBGHPbbTs0erSfowRSJw89tFmrV6/VLbfssD7LsYwzf0j6D4kl6fs+dvOTFt4zyuT0SnJu0scVvEhn9fX1MsZo586damhoIIQQQkgnzc6dO2WMUX19ve3/+YCQMLYHAIKyXz6EK336xM+erKqyP4uNHLtqLxKReve2P48x0p3m18n/IQMHSldf3X7fLyNDys9X2eNtvala+xR0GRnx/9u79+f/maR22vuf06MfXc7gRVo7tlkkhBBCSDiyc+dO2//zASFhbA8AAAAAIPmi0ah27typ+vp6X1cPccUv7w3vD+8N74/98N6k13tTX1+vnTt3KhqN2v6fDwgJCl4AAAAAzTQ0cP7fifDetI7358R4b1rH+3NivDcnxnsDUPACAAAAaAEb5hPjvWkd78+J8d60jvfnxHhvToz3BqDgBQAAANACNswnxnvTOt6fE+O9aR3vz4nx3pwY7w1AwQsAAACgBYcOHVJJSYkOHTpke5ROh/emdbw/J8Z70zrenxPjvTkx3huAghcAAAAAAAAAQouCFwAAAAAAAABCioIXAAAAAAAAAEKKghcAAAAAAAAAQoqCFwAAAAAAAABCioIXAAAASEMvvfSSRowYof/1v/6XjDF66qmnWn19VVWVjDHNsnv37g6auOPcc889+uY3v6nu3burT58+GjVqlN58882Tfl15ebmGDBmi3NxcDR06VJWVlR0wbccK8t7Mmzev2ecmNze3gybuOA8++KC+9rWv6fTTT9fpp5+ub3/721q8eHGrX5MOn5lj/L4/6fK5acnUqVNljNEtt9zS6uvS6fNzTFvem3T+7CB9UfACAAAAaWjx4sX61a9+pSeffNJXwbt582bt3r07kWg02kETd5wf/OAHmjdvnjZs2KA33nhDl19+uc4++2x98sknJ/ya6upqZWVlafr06aqrq1NxcbGys7NVW1vbgZMnX5D3Zt68eerRo0eTz82ePXs6cOqO8ac//UmVlZXasmWLNm/erDvvvFPZ2dnasGFDi69Pl8/MMX7fn3T53Bxv9erV+ou/+Audd955rZaY6fb5kdr+3qTrZwfpjYIXAAAASHN+Ct6PPvqog6bqPN5//30ZY/TSSy+d8DWjR4/WFVdc0eSxCy+8UDfccEOyx7OqLe/NvHnz1LNnzw6cqvM444wz9Pvf/77F59L1M/NFrb0/6fi5OXDggM455xw999xzKiwsbLXETLfPj5/3Jh0/OwAFLwAAAJDm/BS8juOof//+uvTSS7V8+fIOmtCurVu3yhjT6pVx+fn5mjVrVpPHJk+erPPOOy/Z41nVlvdm3rx5ysrK0tlnn62BAwdq5MiRJ7xqM1VEIhEtWLBAOTk52rhxY4uvSdfPjNS29ycdPzfXXnutbr31Vkk6aYmZbp8fP+9NOn52AApeAAAAIM21peB988039fDDD2vNmjWqrq7Wddddpy5dumjt2rUdNKUd0WhUV1xxhb7zne+0+rrs7GyVlZU1eWzOnDnq27dvMsezqq3vzYoVK/SHP/xBNTU1evHFFzVixAj16NFDO3fu7KBJO8769ev1pS99SVlZWerZs2erZ6Km42fGz/uTTp8bSVqwYIGGDh2qgwcPSjp5iZlOnx+/7026fXYAiYIXAAAASHttKXhbcvHFF+snP/lJEibqPP7lX/5FjuOctBhIp7LlmLa+N8c7fPiwvvzlL6u4uDhJk9nT2NiorVu3as2aNZo4caLOPPPME16hmo6fGT/vz/FS+XOzY8cO9e3bV+vWrUs8RsEbF+S9OV4qf3aAYyh4AQAAgDQXtOD95S9/qW9/+9tJmKhzuPHGGzVw4EC99dZbJ31tuv11aT/vTUt+9KMfacyYMe08VeczfPhwTZgwocXn0u0z05LW3p+WpOrn5qmnnpIxRllZWYkYY5SRkaGsrCxFIpFmX5Mun58g701LUvWzAxxDwQsAAACkuaAF76WXXqqioqIkTGRXLBbTjTfeqLPOOktbtmxp09eMHj1aI0aMaPLYsGHDUu6GR0Hem+NFIhENGTJEP//5z9t5us7nkksu0fjx41t8Ll0+M61p7f05Xip/bj7++GPV1tY2yTe/+U395Cc/OeH51uny+Qny3hwvlT87wDEUvAAAAEAaOnDggGpqalRTUyNjjO6//37V1NRo+/btkqSJEydq3LhxidfPmjVLTz/9tLZu3ara2lrdcsstyszM1LJly2z9Cknzr//6r+rZs6defPFF7d69O5HPPvss8Zpx48Zp4sSJiT9XV1erS5cumjlzpjZt2qSSkhJlZ2e3uYAIiyDvTWlpqZYuXapt27Zp7dq1GjNmjLp27drmv5ofFhMnTtRLL72kt99+W+vXr9fEiROVkZGhZ599VlL6fmaO8fv+pMvn5kSOP4Yg3T8/X3Sy9ybdPztITxS8AAAAQBqqqqqSMaZZjl1NN378eBUWFiZef++99+rLX/6yunbtql69eum73/2uXnjhBTvDJ1lL74sxRvPmzUu8prCwsNmVh+Xl5Ro8eLBycnJ07rnntnoDqbAK8t7ceuutOvvss5WTk6N+/frp8ssv1+uvv97xwyfZT3/6UzmOo5ycHPXp00fDhw9PlJdS+n5mjvH7/qTL5+ZEji8x0/3z80Une2/S/bOD9ETBCwAAAAAAAAAhRcELAAAAAAAAACFFwQsAAAAAAAAAIUXBCwAAAAAAAAAhRcELAAAAAAAAACFFwQsAAAAAAAAAIUXBCwAAAAAAAAAhRcELAAAAAAAAACFFwQsAAAAAAAAAIUXBCwAAAAAAAAAhRcELAAAAAAAAACFFwQsAAAAAAAAAIUXBCwAAAAAAAAAhRcELAAAAAAAAACFFwQsAAAAAAAAAIUXBCwAAAAAAAAAhRcELAAAAAAAAACFFwQsAAAAAAAAAIUXBCwAAAAAAAAAhRcELAAAAAAAAACFFwQsAAAAAAAAAIUXBCwAAAAAAAAAhRcELAAAAAAAAACFFwQsAAAAAAAAAIUXBCwAAAAAAAAAhRcELAAAAAAAAACFFwQsAAAAAAAAAIUXBCwAAAAAAAAAhRcELAAAAAAAAACFFwQsAAAAAAAAAIUXBCwAAAAAAAAAhRcELAAAAAAAAACFFwQsAAAAAAAAAIUXBCwAAAAAAAAAhRcELAAAAAAAAACFFwQsAAAAAAAAAIUXBCwAAAAAAAAAhRcELAAAAAAAAACFFwQsAAAAAAAAAIUXBCwAAAAAAAAAhRcELAAAAAAAAACFFwQsAAAAAAAAAIUXBCwAAAAAAAAAhRcELAAAAAAAAACFFwQsAAAAAAAAAIUXBCwAAAAAAAAAhRcELAAAAAAAAACFFwQsAAAAAAAAAIUXBCwAAAAAAAAAhRcELAAAAAAAAACFFwQsAAAAAAAAAIUXBCwAAAAAAAAAhRcELAAAAAAAAACFFwQsAAAAAAAAAIUXBCwAAAAAAAAAhRcELAAAAAAAAACH1/wFA9STffu5h4gAAAABJRU5ErkJggg==\" width=\"1400\">"
      ],
      "text/plain": [
       "<IPython.core.display.HTML object>"
      ]
     },
     "metadata": {},
     "output_type": "display_data"
    }
   ],
   "source": [
    "from matplotlib.animation import FuncAnimation\n",
    "\n",
    "\n",
    "fig = plt.figure(figsize=(14,7))\n",
    "ax1 = plt.subplot(121)\n",
    "ax2 = plt.subplot(222)\n",
    "ax3 = plt.subplot(224)\n",
    "pi_ani = PiAnimation(ax1, ax2, ax3)\n",
    "anim = FuncAnimation(fig, pi_ani, frames=10_000, interval=50, blit=True)\n",
    "plt.show()"
   ]
  },
  {
   "cell_type": "code",
   "execution_count": null,
   "metadata": {},
   "outputs": [],
   "source": []
  }
 ],
 "metadata": {
  "kernelspec": {
   "display_name": "Python 3 (ipykernel)",
   "language": "python",
   "name": "python3"
  },
  "language_info": {
   "codemirror_mode": {
    "name": "ipython",
    "version": 3
   },
   "file_extension": ".py",
   "mimetype": "text/x-python",
   "name": "python",
   "nbconvert_exporter": "python",
   "pygments_lexer": "ipython3",
   "version": "3.8.11"
  }
 },
 "nbformat": 4,
 "nbformat_minor": 4
}
