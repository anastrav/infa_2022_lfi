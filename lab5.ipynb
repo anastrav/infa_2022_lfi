{
  "metadata": {
    "kernelspec": {
      "name": "python",
      "display_name": "Python (Pyodide)",
      "language": "python"
    },
    "language_info": {
      "codemirror_mode": {
        "name": "python",
        "version": 3
      },
      "file_extension": ".py",
      "mimetype": "text/x-python",
      "name": "python",
      "nbconvert_exporter": "python",
      "pygments_lexer": "ipython3",
      "version": "3.8"
    }
  },
  "nbformat_minor": 5,
  "nbformat": 4,
  "cells": [
    {
      "cell_type": "markdown",
      "source": "# Визуализация массивов numpy",
      "metadata": {},
      "id": "c52796a8-4517-4e37-b4fe-e08ad5d9921f"
    },
    {
      "cell_type": "markdown",
      "source": "## Изображения как массивы\nВ компьютерной графике используется так называемое \"растровое\" представление изображения, которое представляет собой не что иное как матрицу \"пикселей\", каждый элемент которой является числовым кодом цвета. Массив numpy, имеющий подходящие размеры и подходящий тип данных, может быть визуализирован непосредственно как растровое изображение. Посмотрим простой пример.",
      "metadata": {},
      "id": "5232eec2-a2dc-438a-b143-df07433c2611"
    },
    {
      "cell_type": "code",
      "source": "import numpy as np\ngradient = np.tile(np.arange(0, 256, dtype='uint8'), (255, 1))\ngradient",
      "metadata": {
        "trusted": true
      },
      "execution_count": 1,
      "outputs": [
        {
          "execution_count": 1,
          "output_type": "execute_result",
          "data": {
            "text/plain": "array([[  0,   1,   2, ..., 253, 254, 255],\n       [  0,   1,   2, ..., 253, 254, 255],\n       [  0,   1,   2, ..., 253, 254, 255],\n       ...,\n       [  0,   1,   2, ..., 253, 254, 255],\n       [  0,   1,   2, ..., 253, 254, 255],\n       [  0,   1,   2, ..., 253, 254, 255]], dtype=uint8)"
          },
          "metadata": {}
        }
      ],
      "id": "43135c95-869c-4263-a42e-ba9fbe38ba98"
    },
    {
      "cell_type": "markdown",
      "source": "Стоит обратить внимание на тип данных - uint8. Это целое беззнаковое 8-битное число. Проще говоря, просто 1 байт. Именно такой тип используется для кодирования цвета (хотя библиотека matplotlib позволяет визуализировать массивы с любыми типами данных, но для некоторых других целей стоит использовать тип uint8). О функции `np.tile` почитайте подробнее в документации.",
      "metadata": {},
      "id": "cc9f09e9-2824-441c-babd-d77c781afe36"
    },
    {
      "cell_type": "code",
      "source": "import matplotlib.pyplot as plt\nplt.imshow(gradient, cmap='gray', vmin=0, vmax=255)\nplt.show()",
      "metadata": {
        "trusted": true
      },
      "execution_count": 2,
      "outputs": [
        {
          "output_type": "display_data",
          "data": {
            "text/plain": "<pyolite.display.Image at 0x3147cf8>",
            "image/png": "[encoded data removed]"
          },
          "metadata": {}
        }
      ],
      "id": "0ce03ed6-2d54-41bb-add3-aa9c2f845fdf"
    },
    {
      "cell_type": "markdown",
      "source": "Визуализация массива в matplotlib выполняется с помощью функции imshow. Аргументы `cmap='gray', vmin=0, vmax=255` говорят о том, что должны использоваться оттенки серого со значениями от 0 (черный) до 255 (белый).",
      "metadata": {},
      "id": "d6892a15-b9fc-4a9c-8192-156724e9ebf7"
    },
    {
      "cell_type": "markdown",
      "source": "**Упраженение №1**\n\nПопробуйте поэкспериментировать с этими параметрами. Посмотреть встроенные цветовые схемы matplotlib можно здесь: https://matplotlib.org/stable/tutorials/colors/colormaps.html",
      "metadata": {},
      "id": "0129b12a-0f6a-430e-b787-bebe69cba7a2"
    },
    {
      "cell_type": "code",
      "source": "import matplotlib.pyplot as plt\nplt.imshow(gradient, cmap='plasma', vmin=80, vmax=255)\nplt.show()",
      "metadata": {
        "trusted": true
      },
      "execution_count": 3,
      "outputs": [
        {
          "output_type": "display_data",
          "data": {
            "text/plain": "<pyolite.display.Image at 0x312fd60>",
            "image/png": "[encoded data removed]"
          },
          "metadata": {}
        }
      ],
      "id": "97c89fe0-ddd6-4e28-9730-71f985218aa4"
    },
    {
      "cell_type": "markdown",
      "source": "## Загрузка растрового изображения в массив\nВоспользовавшись библиотекой pillow можно загрузить в массив растровое изображение.",
      "metadata": {},
      "id": "bd558d4e-ba4d-47cc-9c41-4ed4914cf37a"
    },
    {
      "cell_type": "code",
      "source": "from PIL import Image\nimg = Image.open('flowers.jpg')\nimg_arr = np.array(img)",
      "metadata": {
        "trusted": true
      },
      "execution_count": 6,
      "outputs": [
        {
          "ename": "<class 'FileNotFoundError'>",
          "evalue": "[Errno 44] No such file or directory: 'flowers.jpg'",
          "traceback": [
            "\u001b[0;31m---------------------------------------------------------------------------\u001b[0m",
            "\u001b[0;31mFileNotFoundError\u001b[0m                         Traceback (most recent call last)",
            "Cell \u001b[0;32mIn[6], line 2\u001b[0m\n\u001b[1;32m      1\u001b[0m \u001b[38;5;28;01mfrom\u001b[39;00m \u001b[38;5;21;01mPIL\u001b[39;00m \u001b[38;5;28;01mimport\u001b[39;00m Image\n\u001b[0;32m----> 2\u001b[0m img \u001b[38;5;241m=\u001b[39m \u001b[43mImage\u001b[49m\u001b[38;5;241;43m.\u001b[39;49m\u001b[43mopen\u001b[49m\u001b[43m(\u001b[49m\u001b[38;5;124;43m'\u001b[39;49m\u001b[38;5;124;43mflowers.jpg\u001b[39;49m\u001b[38;5;124;43m'\u001b[39;49m\u001b[43m)\u001b[49m\n\u001b[1;32m      3\u001b[0m img_arr \u001b[38;5;241m=\u001b[39m np\u001b[38;5;241m.\u001b[39marray(img)\n",
            "File \u001b[0;32m/lib/python3.10/site-packages/PIL/Image.py:3068\u001b[0m, in \u001b[0;36mopen\u001b[0;34m(fp, mode, formats)\u001b[0m\n\u001b[1;32m   3065\u001b[0m     filename \u001b[38;5;241m=\u001b[39m fp\n\u001b[1;32m   3067\u001b[0m \u001b[38;5;28;01mif\u001b[39;00m filename:\n\u001b[0;32m-> 3068\u001b[0m     fp \u001b[38;5;241m=\u001b[39m \u001b[43mbuiltins\u001b[49m\u001b[38;5;241;43m.\u001b[39;49m\u001b[43mopen\u001b[49m\u001b[43m(\u001b[49m\u001b[43mfilename\u001b[49m\u001b[43m,\u001b[49m\u001b[43m \u001b[49m\u001b[38;5;124;43m\"\u001b[39;49m\u001b[38;5;124;43mrb\u001b[39;49m\u001b[38;5;124;43m\"\u001b[39;49m\u001b[43m)\u001b[49m\n\u001b[1;32m   3069\u001b[0m     exclusive_fp \u001b[38;5;241m=\u001b[39m \u001b[38;5;28;01mTrue\u001b[39;00m\n\u001b[1;32m   3071\u001b[0m \u001b[38;5;28;01mtry\u001b[39;00m:\n",
            "\u001b[0;31mFileNotFoundError\u001b[0m: [Errno 44] No such file or directory: 'flowers.jpg'"
          ],
          "output_type": "error"
        }
      ],
      "id": "fb089d32-38a7-4f11-87dd-5fea051e3d79"
    },
    {
      "cell_type": "code",
      "source": "img_arr.shape",
      "metadata": {
        "trusted": true
      },
      "execution_count": 7,
      "outputs": [
        {
          "ename": "<class 'NameError'>",
          "evalue": "name 'img_arr' is not defined",
          "traceback": [
            "\u001b[0;31m---------------------------------------------------------------------------\u001b[0m",
            "\u001b[0;31mNameError\u001b[0m                                 Traceback (most recent call last)",
            "Cell \u001b[0;32mIn[7], line 1\u001b[0m\n\u001b[0;32m----> 1\u001b[0m \u001b[43mimg_arr\u001b[49m\u001b[38;5;241m.\u001b[39mshape\n",
            "\u001b[0;31mNameError\u001b[0m: name 'img_arr' is not defined"
          ],
          "output_type": "error"
        }
      ],
      "id": "5aca1b5f-bdf3-4790-9695-c57d4fb267a3"
    },
    {
      "cell_type": "markdown",
      "source": "Мы получили 3-мерный массив. Первые две оси - это высота и ширина изображения, третья ось содержит три компонента цвета - красный, синий и зеленый. Отобразить изображение можно тем же способом.",
      "metadata": {},
      "id": "7b8f9060-5785-43b8-947a-3cb70762bcfc"
    },
    {
      "cell_type": "code",
      "source": "plt.imshow(img_arr)\nplt.show()",
      "metadata": {},
      "execution_count": null,
      "outputs": [],
      "id": "2f42cddd-bce3-4446-81fb-f04deb7a8c1d"
    },
    {
      "cell_type": "markdown",
      "source": "Поскольку в данном случае мы имеем цветное изображение, параметр `cmap` указывать не нужно.",
      "metadata": {},
      "id": "b76a5785-3f7b-483f-aff6-f4e72b88e677"
    },
    {
      "cell_type": "markdown",
      "source": "## Обработка изображений",
      "metadata": {},
      "id": "ee614607-c113-43b1-8108-70debb4a0e21"
    },
    {
      "cell_type": "markdown",
      "source": "Попробуем применить к изображению (или, что то же самое, к массиву) некоторые из известных нам операций. Например, усреднение по третьей оси (т.е. по оси цвета) дает нам черно-белое изображение.",
      "metadata": {},
      "id": "eef322c0-0542-4d07-a21c-a7e48a7583a2"
    },
    {
      "cell_type": "code",
      "source": "plt.imshow(img_arr.mean(axis=2), cmap='gray')\nplt.show()",
      "metadata": {
        "trusted": true
      },
      "execution_count": 5,
      "outputs": [
        {
          "ename": "<class 'NameError'>",
          "evalue": "name 'img_arr' is not defined",
          "traceback": [
            "\u001b[0;31m---------------------------------------------------------------------------\u001b[0m",
            "\u001b[0;31mNameError\u001b[0m                                 Traceback (most recent call last)",
            "Cell \u001b[0;32mIn[5], line 1\u001b[0m\n\u001b[0;32m----> 1\u001b[0m plt\u001b[38;5;241m.\u001b[39mimshow(\u001b[43mimg_arr\u001b[49m\u001b[38;5;241m.\u001b[39mmean(axis\u001b[38;5;241m=\u001b[39m\u001b[38;5;241m2\u001b[39m), cmap\u001b[38;5;241m=\u001b[39m\u001b[38;5;124m'\u001b[39m\u001b[38;5;124mgray\u001b[39m\u001b[38;5;124m'\u001b[39m)\n\u001b[1;32m      2\u001b[0m plt\u001b[38;5;241m.\u001b[39mshow()\n",
            "\u001b[0;31mNameError\u001b[0m: name 'img_arr' is not defined"
          ],
          "output_type": "error"
        }
      ],
      "id": "881d9824-6fad-41af-8dbf-10e0d440cc37"
    },
    {
      "cell_type": "markdown",
      "source": "Можно визуализировать отдельно красный, зеленый и синий компоненты изображения.",
      "metadata": {},
      "id": "776044e5-0086-4322-b4cf-5a08a91353d3"
    },
    {
      "cell_type": "code",
      "source": "ax1 = plt.subplot(131)\nax1.imshow(img_arr[:, :, 0], cmap='Reds_r')\nax2 = plt.subplot(132)\nax2.imshow(img_arr[:, :, 1], cmap='Greens_r')\nax3 = plt.subplot(133)\nax3.imshow(img_arr[:, :, 2], cmap='Blues_r')\nplt.show()",
      "metadata": {},
      "execution_count": null,
      "outputs": [],
      "id": "6279293e-8cac-4494-9bad-6870f4648ac6"
    },
    {
      "cell_type": "markdown",
      "source": "С помощью срезов и транспонирования можно переворачивать изображение (при транспонировании нужно правильно указать оси, чтобы цвет остался без изменений).",
      "metadata": {},
      "id": "5aba804d-9144-4e33-9f22-0b0d2d994bf7"
    },
    {
      "cell_type": "code",
      "source": "ax1 = plt.subplot(221)\nax1.imshow(img_arr[::-1])\nax2 = plt.subplot(222)\nax2.imshow(img_arr[:, ::-1])\nax3 = plt.subplot(223)\nax3.imshow(img_arr[::-1, ::-1])\nax3 = plt.subplot(224)\nax3.imshow(np.transpose(img_arr, (1, 0, 2)))\nplt.show()",
      "metadata": {},
      "execution_count": null,
      "outputs": [],
      "id": "f6d50b5a-2895-4250-b37e-5e53d0675f61"
    },
    {
      "cell_type": "markdown",
      "source": "С помощью некоторых математических функций можно производить обработку изображения. Например, увеличить красный компонент (преобразования типов необходимы, чтобы не выйти за пределы допустимых значений байта и не получить некрасивые искажения).",
      "metadata": {},
      "id": "2e4e01dd-c25e-435f-94c7-2a76ba2c3f42"
    },
    {
      "cell_type": "code",
      "source": "modified = img_arr.astype('float')\nmodified[:, :, 0] *= 1.5\nmodified[modified > 255] = 255\nmodified = modified.astype('uint8')\nplt.imshow(modified)\nplt.show()",
      "metadata": {},
      "execution_count": null,
      "outputs": [],
      "id": "84634f13-fc78-4065-a44f-5f151bb91d53"
    },
    {
      "cell_type": "markdown",
      "source": "Здесь стоит немного пояснить третью строчку. При применении к массивам логических операций мы получаем массив такого же размера, как исходный, но содержащий булевы значения.",
      "metadata": {},
      "id": "2918b23d-9284-46c8-9266-ea174bd104bd"
    },
    {
      "cell_type": "code",
      "source": "a = np.array([1, 2, 3, 4])\na > 2",
      "metadata": {},
      "execution_count": null,
      "outputs": [],
      "id": "3724f3f8-3565-496e-b032-01e536e8cac1"
    },
    {
      "cell_type": "markdown",
      "source": "С другой стороны в качестве \"индекса\" для среза мы можем использовать массив булевых значений, который означает, какие элементы из исходного массива войдут в срез, а какие - нет.",
      "metadata": {},
      "id": "491fb9c8-bcfd-4031-98fc-803c4debbfcd"
    },
    {
      "cell_type": "code",
      "source": "a[[True, False, True, False]]",
      "metadata": {},
      "execution_count": null,
      "outputs": [],
      "id": "fc2ee50a-fd86-4fd3-9fc3-49652205be70"
    },
    {
      "cell_type": "markdown",
      "source": "Соединяя эти два факта вместе мы получаем очень удобный способ фильтрации массива: в качестве индекса внутри квадратных скобок пишем логическое выражение, которое будет преобразовано в массив булевых значений, которые в свою очередь будут использваны в качестве индекса. Например, выберем из массива только четные элементы:",
      "metadata": {},
      "id": "0c52f5e1-a93c-47bc-b66f-b94f9540e159"
    },
    {
      "cell_type": "code",
      "source": "a[a % 2 == 0]",
      "metadata": {},
      "execution_count": null,
      "outputs": [],
      "id": "d1853672-7bf1-4a97-a22c-81a7c8bc0d6e"
    },
    {
      "cell_type": "markdown",
      "source": "Вернемся к нашему примеру. Строка `modified[modified > 255] = 255` означает, что те элементы массива, значение которых оказалось больше, чем 255 (максимальное значение в 1 байте), мы ограничиваем значением 255, чтобы избежать переполнения.",
      "metadata": {},
      "id": "81c0594c-e81c-40f2-a25b-245217f31d46"
    },
    {
      "cell_type": "markdown",
      "source": "**Упражнение №2**\n\nПоэкспериментируйте с этим примером. Попробуйте другие коэфициенты, другие компоненты цвета и другие математические операции.",
      "metadata": {},
      "id": "e1ddef6e-0152-4ed2-bc87-db9f0e7c7247"
    },
    {
      "cell_type": "code",
      "source": "modified = img_arr.astype('float')\nmodified[:, :, 0] %= 255\nmodified[modified > 255] = 255\nmodified = modified.astype('uint8')\nplt.imshow(modified)\nplt.show()",
      "metadata": {
        "trusted": true
      },
      "execution_count": 4,
      "outputs": [
        {
          "ename": "<class 'NameError'>",
          "evalue": "name 'img_arr' is not defined",
          "traceback": [
            "\u001b[0;31m---------------------------------------------------------------------------\u001b[0m",
            "\u001b[0;31mNameError\u001b[0m                                 Traceback (most recent call last)",
            "Cell \u001b[0;32mIn[4], line 1\u001b[0m\n\u001b[0;32m----> 1\u001b[0m modified \u001b[38;5;241m=\u001b[39m \u001b[43mimg_arr\u001b[49m\u001b[38;5;241m.\u001b[39mastype(\u001b[38;5;124m'\u001b[39m\u001b[38;5;124mfloat\u001b[39m\u001b[38;5;124m'\u001b[39m)\n\u001b[1;32m      2\u001b[0m modified[:, :, \u001b[38;5;241m0\u001b[39m] \u001b[38;5;241m%\u001b[39m\u001b[38;5;241m=\u001b[39m \u001b[38;5;241m255\u001b[39m\n\u001b[1;32m      3\u001b[0m modified[modified \u001b[38;5;241m>\u001b[39m \u001b[38;5;241m255\u001b[39m] \u001b[38;5;241m=\u001b[39m \u001b[38;5;241m255\u001b[39m\n",
            "\u001b[0;31mNameError\u001b[0m: name 'img_arr' is not defined"
          ],
          "output_type": "error"
        }
      ],
      "id": "dcbd7c50-8fd6-405d-be87-e6ecd239d45b"
    },
    {
      "cell_type": "markdown",
      "source": "## Размытие изображения (задача)\nПеред вами стоит задача написать функцию размытия изображений. Размытие изображения - частный случай операции \"свертки\" (или \"конволюции\"), которая часто применяется и в других задачах. Не вникая глубоко в математические детали, можно сказать, что суть этой операции в том, что элементы исходного массива суммируются со своими соседями с определенным весом. Для большей ясности начнем с обычного 1-мерного массива. Пусть у нас есть массив (для простоты пусть в нем будет большая часть нулей и только один ненулевой элемент в середине), и мы хотим просто усреднить каждое значение с его ближайшими соседями. Тогда массив весов будет состоять из трех единиц (чтобы исходная сумма осталась неизменной, поделим их на 3). Воспользуемся функцией `convolve1d` из библиотеки `scipy`.",
      "metadata": {},
      "id": "178dc66a-337d-4a7d-a06e-280f95fded16"
    },
    {
      "cell_type": "code",
      "source": "import scipy",
      "metadata": {},
      "execution_count": null,
      "outputs": [],
      "id": "e079fddc-6f97-4b34-a3f2-6421af0bc815"
    },
    {
      "cell_type": "code",
      "source": "a = np.array([0, 0, 10, 0, 0], dtype=float)\nw = np.array([1/3, 1/3, 1/3])\nscipy.ndimage.convolve1d(a, w)",
      "metadata": {},
      "execution_count": null,
      "outputs": [],
      "id": "9937a3d8-82d9-43b0-abff-ac7d19b54b6e"
    },
    {
      "cell_type": "markdown",
      "source": "Попробуем взять другой массив весов. Например, пусть исходное значение входит в среднее с несколько большим весом, чем его соседи.",
      "metadata": {},
      "id": "1de72ea1-3539-45db-9bf0-7b48607d21b7"
    },
    {
      "cell_type": "code",
      "source": "a = np.array([0, 0, 10, 0, 0], dtype=float)\nw = np.array([1/4, 1/2, 1/4])\nscipy.ndimage.convolve1d(a, w)",
      "metadata": {},
      "execution_count": null,
      "outputs": [],
      "id": "0c704836-5cd3-49cb-8a41-26f0c5b2df1e"
    },
    {
      "cell_type": "markdown",
      "source": "Можно сделать свертку и большего размера.",
      "metadata": {},
      "id": "aee912ce-fc59-4d89-959d-1bb723999e54"
    },
    {
      "cell_type": "code",
      "source": "a = np.array([0, 0, 0, 10, 0, 0, 0], dtype=float)\nw = np.array([1/12, 1/6, 1/2, 1/6, 1/12])\nscipy.ndimage.convolve1d(a, w)",
      "metadata": {},
      "execution_count": null,
      "outputs": [],
      "id": "678c595d-6b7d-4db7-83c6-3c555dc24b13"
    },
    {
      "cell_type": "code",
      "source": "Аналогично делаются и двумерные свёртки.",
      "metadata": {},
      "execution_count": null,
      "outputs": [],
      "id": "1706b00e-24fc-4c61-88c8-e47382739078"
    },
    {
      "cell_type": "code",
      "source": "a = np.zeros((5, 5))\na[2, 2] = 10\na",
      "metadata": {},
      "execution_count": null,
      "outputs": [],
      "id": "23b1f0c6-c0ed-4885-b01c-2e1a56caa411"
    },
    {
      "cell_type": "code",
      "source": "w = np.array([[1, 2, 1], [2, 4, 2], [1, 2, 1]], dtype=float)\nw /= w.sum()\nscipy.ndimage.convolve(a, w)",
      "metadata": {},
      "execution_count": null,
      "outputs": [],
      "id": "bca94019-cb7e-4cf3-8123-a04823374194"
    },
    {
      "cell_type": "markdown",
      "source": "**Упражнение №3**\n\nНапишите функцию размытия изображения с заданной весовой матрицей. При этом не забудьте учесть следующие детали:\n1. Функция должна корректно работать как с цветными, так и с черно-белыми изображениями.\n2. Весовая матрица, возможно, нуждается в нормировке.\n3. В итоговом изображении не должно быть переполнения однобайтного типа.",
      "metadata": {},
      "id": "a48029ad-32c2-4fa1-a360-efc3182f1b5d"
    },
    {
      "cell_type": "code",
      "source": "def blur(img_array, weights_array):\n    \"\"\"\n    Вычисляет свертку изображения и нормированной весовой матрицы.\n    \"\"\"\n    pass",
      "metadata": {},
      "execution_count": null,
      "outputs": [],
      "id": "ca4c4f64-d562-4bee-adbf-11eccdad39b5"
    },
    {
      "cell_type": "markdown",
      "source": "**Упражнение №4**\n\nНапишите функцию гауссова размытия. Функция принимает на вход дисперсию размытия (сигму), генерирует весовую матрицу и вызывает функцию из предыдущего задания.\n\nФункция гауссова распределения (нормировочный множитель можно опустить, поскольку матрица в любом случае будет нормироваться потом):\n\n$$\nf(x) = e^{-\\frac{1}{2}(\\frac{x}{\\sigma})^2}\n$$\nгде `x` - расстояние до центра.\n\nПодумайте, какого размера должна быть весовая матрица.",
      "metadata": {},
      "id": "05df3277-d838-418b-a412-1fc0a5e64161"
    },
    {
      "cell_type": "code",
      "source": "def gaussian_blur(img_array, sigma):\n    \"\"\"\n    Выполняет гауссово размытие с заданной дисперсией\n    \"\"\"\n    pass",
      "metadata": {},
      "execution_count": null,
      "outputs": [],
      "id": "3c1ddc27-dfcf-4bd9-9587-d202a53158a9"
    },
    {
      "cell_type": "markdown",
      "source": "## Генерирование изображений",
      "metadata": {},
      "id": "b00872cc-7bfa-4068-8d5b-935572099dfa"
    },
    {
      "cell_type": "markdown",
      "source": "В первом примере мы уже видели, как сгенерировать простой градиент. Давайте попробуем что-нибудь посложнее.",
      "metadata": {},
      "id": "eb9adc92-8bfb-4332-871a-c7a3885da6ea"
    },
    {
      "cell_type": "code",
      "source": "x = np.linspace(-20, 20, 1000)\ny = x[::-1].reshape((-1, 1))\ndist = np.sqrt(x ** 2 + y ** 2)\nimg = np.sin(dist) * np.exp(-dist * 0.2)\nplt.imshow(img)\nplt.show()",
      "metadata": {},
      "execution_count": null,
      "outputs": [],
      "id": "45cb1164-df92-4f8a-a389-a39a5ac6d7bc"
    },
    {
      "cell_type": "markdown",
      "source": "Здесь в переменной `x` мы создали линейную последовательность точек по оси x, в переменной `y` - эту же последовательность, но расположенную вертикально (реверс сделан, чтобы ось y была направлена как обычно снизу вверх - строки в массивах нумеруются сверху вниз). Сложение двух массивов, один из которых представляет собой строку, а другой - столбец, дает матрицу попарных сумм их элементов.",
      "metadata": {},
      "id": "7df8381c-9d05-407d-a91a-020c0e70f748"
    },
    {
      "cell_type": "code",
      "source": "a = np.array([1, 2, 3])\nb = np.array([[10],\n              [20],\n              [30]])\na + b",
      "metadata": {},
      "execution_count": null,
      "outputs": [],
      "id": "f2ae2377-e2e7-4e3b-8843-264f984357dc"
    },
    {
      "cell_type": "markdown",
      "source": "С помощью этого приема легко одной операцией посчитать функцию двух переменных на некотором участке пространства. В данном случае мы посчитали затухающий синус.",
      "metadata": {},
      "id": "b55cc754-1bfa-4072-8a8d-9cbca3adda43"
    },
    {
      "cell_type": "markdown",
      "source": "**Упражнение №5**\nИзобразите функцию на диапазоне \\[-3, 3]\n$$\nf(x, y) = x^2 + (y + 1 - \\sqrt{|x|})^2 - 1\n$$",
      "metadata": {},
      "id": "92fa3a03-7797-4eda-bcdb-357e05649899"
    },
    {
      "cell_type": "code",
      "source": "",
      "metadata": {},
      "execution_count": null,
      "outputs": [],
      "id": "f7d4103c-c8eb-44ac-81c8-6d72bbce8518"
    },
    {
      "cell_type": "markdown",
      "source": "Напоследок сделаем что-нибудь по-настоящему красивое. Например, множество Мандельброта. Напомним, что это множество точек `c` на комплексной плоскости такое, что последовательность\n$$\nz_{n} = z_{n-1}^2 + c\n$$\nзадает ограниченную последовательность.\n\nНа практике можно вычислить несколько итераций (скажем, 100), и если значение всё ещё меньше 2, можно считать, что в этой точке последовательность ограничена.\n\nДля начала создадим комплексную плоскость.",
      "metadata": {},
      "id": "dc16cd11-aef7-4895-a387-351b546e9225"
    },
    {
      "cell_type": "code",
      "source": "re = np.linspace(-2, 2, 200)\nim = np.linspace(-2, 2, 200).reshape((-1, 1))\nc = re + im * 1j",
      "metadata": {},
      "execution_count": null,
      "outputs": [],
      "id": "71a34c0a-af43-4ed6-a814-a332dbb78475"
    },
    {
      "cell_type": "markdown",
      "source": "Теперь посчитаем последотельность. Можете не обращать внимания на предупреждение о переполнении - в некоторых точках последовательность уже ушла в бесконечность.",
      "metadata": {},
      "id": "5c79d69e-d690-48f4-8a3d-c704022257f8"
    },
    {
      "cell_type": "code",
      "source": "z = np.zeros((200, 200))\nfor i in range(100):\n    z = z ** 2 + c",
      "metadata": {},
      "execution_count": null,
      "outputs": [],
      "id": "ab7ece66-1a34-496f-8e3d-db92095caacf"
    },
    {
      "cell_type": "markdown",
      "source": "Наконец, изобразим получившееся множество.",
      "metadata": {},
      "id": "513a4d19-d674-428e-8d13-7318beac2a4c"
    },
    {
      "cell_type": "code",
      "source": "img = np.zeros((200, 200))\nimg[np.abs(z) < 2] = 255\nplt.imshow(img)\nplt.show()",
      "metadata": {},
      "execution_count": null,
      "outputs": [],
      "id": "a494307a-98c4-4336-8709-6514b3a660b3"
    },
    {
      "cell_type": "markdown",
      "source": "**Упражнение №6**\nДобавьте в это изображение оттенки в соответствии с тем, насколько быстро последовательность расходится в данной точке. Напишите функцию, в которой можно задать диапазон и количество точек (\"качество\" изображения).",
      "metadata": {},
      "id": "de24ad78-cd57-4778-b439-dae6c0cc2c1d"
    },
    {
      "cell_type": "code",
      "source": "def mandelbrot(x_low, x_high, y_low, y_high, points_x, points_y):\n    \"\"\"\n    Создает изображение множества Мандельброта в диапазоне по x от x_low до x_high,\n    по y - от y_low до y_high с разрешением points_x*points_y\n    \"\"\"\n    pass",
      "metadata": {},
      "execution_count": null,
      "outputs": [],
      "id": "d1d305e9-1522-48ad-8d00-485764718a4c"
    },
    {
      "cell_type": "markdown",
      "source": "**Упражнение №7 (дополнительное)**\n\nИзобразите [множество Жюлиа](https://ru.wikipedia.org/wiki/%D0%9C%D0%BD%D0%BE%D0%B6%D0%B5%D1%81%D1%82%D0%B2%D0%BE_%D0%96%D1%8E%D0%BB%D0%B8%D0%B0).",
      "metadata": {},
      "id": "eda456c7-ec38-4746-b818-b01f4c73df0b"
    },
    {
      "cell_type": "code",
      "source": "",
      "metadata": {},
      "execution_count": null,
      "outputs": [],
      "id": "fa1337bb-e653-420b-8c49-2dc64f157a46"
    }
  ]
}